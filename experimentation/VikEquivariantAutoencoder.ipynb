{
 "cells": [
  {
   "cell_type": "code",
   "execution_count": 2,
   "metadata": {},
   "outputs": [],
   "source": [
    "import numpy as np\n",
    "import pandas as pd\n",
    "import os\n",
    "from Bio import SeqIO\n",
    "import Bio\n",
    "import Bio.PDB\n",
    "import Bio.SeqRecord\n",
    "from biopandas.pdb import PandasPdb\n",
    "import pickle\n",
    "from tqdm import tqdm\n",
    "import os\n",
    "import networkx as nx"
   ]
  },
  {
   "cell_type": "code",
   "execution_count": 3,
   "metadata": {},
   "outputs": [
    {
     "data": {
      "text/html": [
       "<div>\n",
       "<style scoped>\n",
       "    .dataframe tbody tr th:only-of-type {\n",
       "        vertical-align: middle;\n",
       "    }\n",
       "\n",
       "    .dataframe tbody tr th {\n",
       "        vertical-align: top;\n",
       "    }\n",
       "\n",
       "    .dataframe thead th {\n",
       "        text-align: right;\n",
       "    }\n",
       "</style>\n",
       "<table border=\"1\" class=\"dataframe\">\n",
       "  <thead>\n",
       "    <tr style=\"text-align: right;\">\n",
       "      <th></th>\n",
       "      <th>record_name</th>\n",
       "      <th>atom_number</th>\n",
       "      <th>blank_1</th>\n",
       "      <th>atom_name</th>\n",
       "      <th>alt_loc</th>\n",
       "      <th>residue_name</th>\n",
       "      <th>blank_2</th>\n",
       "      <th>chain_id</th>\n",
       "      <th>residue_number</th>\n",
       "      <th>insertion</th>\n",
       "      <th>...</th>\n",
       "      <th>y_coord</th>\n",
       "      <th>z_coord</th>\n",
       "      <th>occupancy</th>\n",
       "      <th>b_factor</th>\n",
       "      <th>blank_4</th>\n",
       "      <th>segment_id</th>\n",
       "      <th>element_symbol</th>\n",
       "      <th>charge</th>\n",
       "      <th>line_idx</th>\n",
       "      <th>node_id</th>\n",
       "    </tr>\n",
       "  </thead>\n",
       "  <tbody>\n",
       "    <tr>\n",
       "      <th>0</th>\n",
       "      <td>ATOM</td>\n",
       "      <td>1</td>\n",
       "      <td></td>\n",
       "      <td>P</td>\n",
       "      <td></td>\n",
       "      <td>G</td>\n",
       "      <td></td>\n",
       "      <td>A</td>\n",
       "      <td>1</td>\n",
       "      <td></td>\n",
       "      <td>...</td>\n",
       "      <td>17.441</td>\n",
       "      <td>-1.803</td>\n",
       "      <td>1.0</td>\n",
       "      <td>0.0</td>\n",
       "      <td></td>\n",
       "      <td>A</td>\n",
       "      <td>P</td>\n",
       "      <td>NaN</td>\n",
       "      <td>20</td>\n",
       "      <td>A1G</td>\n",
       "    </tr>\n",
       "    <tr>\n",
       "      <th>1</th>\n",
       "      <td>ATOM</td>\n",
       "      <td>2</td>\n",
       "      <td></td>\n",
       "      <td>C5'</td>\n",
       "      <td></td>\n",
       "      <td>G</td>\n",
       "      <td></td>\n",
       "      <td>A</td>\n",
       "      <td>1</td>\n",
       "      <td></td>\n",
       "      <td>...</td>\n",
       "      <td>17.439</td>\n",
       "      <td>0.590</td>\n",
       "      <td>1.0</td>\n",
       "      <td>0.0</td>\n",
       "      <td></td>\n",
       "      <td>A</td>\n",
       "      <td>C</td>\n",
       "      <td>NaN</td>\n",
       "      <td>21</td>\n",
       "      <td>A1G</td>\n",
       "    </tr>\n",
       "    <tr>\n",
       "      <th>2</th>\n",
       "      <td>ATOM</td>\n",
       "      <td>3</td>\n",
       "      <td></td>\n",
       "      <td>O5'</td>\n",
       "      <td></td>\n",
       "      <td>G</td>\n",
       "      <td></td>\n",
       "      <td>A</td>\n",
       "      <td>1</td>\n",
       "      <td></td>\n",
       "      <td>...</td>\n",
       "      <td>17.362</td>\n",
       "      <td>-0.837</td>\n",
       "      <td>1.0</td>\n",
       "      <td>0.0</td>\n",
       "      <td></td>\n",
       "      <td>A</td>\n",
       "      <td>O</td>\n",
       "      <td>NaN</td>\n",
       "      <td>22</td>\n",
       "      <td>A1G</td>\n",
       "    </tr>\n",
       "    <tr>\n",
       "      <th>3</th>\n",
       "      <td>ATOM</td>\n",
       "      <td>4</td>\n",
       "      <td></td>\n",
       "      <td>C4'</td>\n",
       "      <td></td>\n",
       "      <td>G</td>\n",
       "      <td></td>\n",
       "      <td>A</td>\n",
       "      <td>1</td>\n",
       "      <td></td>\n",
       "      <td>...</td>\n",
       "      <td>17.489</td>\n",
       "      <td>1.240</td>\n",
       "      <td>1.0</td>\n",
       "      <td>0.0</td>\n",
       "      <td></td>\n",
       "      <td>A</td>\n",
       "      <td>C</td>\n",
       "      <td>NaN</td>\n",
       "      <td>23</td>\n",
       "      <td>A1G</td>\n",
       "    </tr>\n",
       "    <tr>\n",
       "      <th>4</th>\n",
       "      <td>ATOM</td>\n",
       "      <td>5</td>\n",
       "      <td></td>\n",
       "      <td>O4'</td>\n",
       "      <td></td>\n",
       "      <td>G</td>\n",
       "      <td></td>\n",
       "      <td>A</td>\n",
       "      <td>1</td>\n",
       "      <td></td>\n",
       "      <td>...</td>\n",
       "      <td>18.643</td>\n",
       "      <td>0.780</td>\n",
       "      <td>1.0</td>\n",
       "      <td>0.0</td>\n",
       "      <td></td>\n",
       "      <td>A</td>\n",
       "      <td>O</td>\n",
       "      <td>NaN</td>\n",
       "      <td>24</td>\n",
       "      <td>A1G</td>\n",
       "    </tr>\n",
       "    <tr>\n",
       "      <th>...</th>\n",
       "      <td>...</td>\n",
       "      <td>...</td>\n",
       "      <td>...</td>\n",
       "      <td>...</td>\n",
       "      <td>...</td>\n",
       "      <td>...</td>\n",
       "      <td>...</td>\n",
       "      <td>...</td>\n",
       "      <td>...</td>\n",
       "      <td>...</td>\n",
       "      <td>...</td>\n",
       "      <td>...</td>\n",
       "      <td>...</td>\n",
       "      <td>...</td>\n",
       "      <td>...</td>\n",
       "      <td>...</td>\n",
       "      <td>...</td>\n",
       "      <td>...</td>\n",
       "      <td>...</td>\n",
       "      <td>...</td>\n",
       "      <td>...</td>\n",
       "    </tr>\n",
       "    <tr>\n",
       "      <th>862</th>\n",
       "      <td>ATOM</td>\n",
       "      <td>863</td>\n",
       "      <td></td>\n",
       "      <td>H4'</td>\n",
       "      <td></td>\n",
       "      <td>C</td>\n",
       "      <td></td>\n",
       "      <td>B</td>\n",
       "      <td>27</td>\n",
       "      <td></td>\n",
       "      <td>...</td>\n",
       "      <td>18.371</td>\n",
       "      <td>-3.802</td>\n",
       "      <td>1.0</td>\n",
       "      <td>0.0</td>\n",
       "      <td></td>\n",
       "      <td>B</td>\n",
       "      <td>H</td>\n",
       "      <td>NaN</td>\n",
       "      <td>883</td>\n",
       "      <td>B27C</td>\n",
       "    </tr>\n",
       "    <tr>\n",
       "      <th>863</th>\n",
       "      <td>ATOM</td>\n",
       "      <td>864</td>\n",
       "      <td></td>\n",
       "      <td>H41</td>\n",
       "      <td></td>\n",
       "      <td>C</td>\n",
       "      <td></td>\n",
       "      <td>B</td>\n",
       "      <td>27</td>\n",
       "      <td></td>\n",
       "      <td>...</td>\n",
       "      <td>18.640</td>\n",
       "      <td>-6.322</td>\n",
       "      <td>1.0</td>\n",
       "      <td>0.0</td>\n",
       "      <td></td>\n",
       "      <td>B</td>\n",
       "      <td>H</td>\n",
       "      <td>NaN</td>\n",
       "      <td>884</td>\n",
       "      <td>B27C</td>\n",
       "    </tr>\n",
       "    <tr>\n",
       "      <th>864</th>\n",
       "      <td>ATOM</td>\n",
       "      <td>865</td>\n",
       "      <td></td>\n",
       "      <td>H5'</td>\n",
       "      <td></td>\n",
       "      <td>C</td>\n",
       "      <td></td>\n",
       "      <td>B</td>\n",
       "      <td>27</td>\n",
       "      <td></td>\n",
       "      <td>...</td>\n",
       "      <td>16.523</td>\n",
       "      <td>-5.477</td>\n",
       "      <td>1.0</td>\n",
       "      <td>0.0</td>\n",
       "      <td></td>\n",
       "      <td>B</td>\n",
       "      <td>H</td>\n",
       "      <td>NaN</td>\n",
       "      <td>885</td>\n",
       "      <td>B27C</td>\n",
       "    </tr>\n",
       "    <tr>\n",
       "      <th>865</th>\n",
       "      <td>ATOM</td>\n",
       "      <td>866</td>\n",
       "      <td></td>\n",
       "      <td>H42</td>\n",
       "      <td></td>\n",
       "      <td>C</td>\n",
       "      <td></td>\n",
       "      <td>B</td>\n",
       "      <td>27</td>\n",
       "      <td></td>\n",
       "      <td>...</td>\n",
       "      <td>18.275</td>\n",
       "      <td>-7.937</td>\n",
       "      <td>1.0</td>\n",
       "      <td>0.0</td>\n",
       "      <td></td>\n",
       "      <td>B</td>\n",
       "      <td>H</td>\n",
       "      <td>NaN</td>\n",
       "      <td>886</td>\n",
       "      <td>B27C</td>\n",
       "    </tr>\n",
       "    <tr>\n",
       "      <th>866</th>\n",
       "      <td>ATOM</td>\n",
       "      <td>867</td>\n",
       "      <td></td>\n",
       "      <td>H5''</td>\n",
       "      <td></td>\n",
       "      <td>C</td>\n",
       "      <td></td>\n",
       "      <td>B</td>\n",
       "      <td>27</td>\n",
       "      <td></td>\n",
       "      <td>...</td>\n",
       "      <td>17.843</td>\n",
       "      <td>-5.216</td>\n",
       "      <td>1.0</td>\n",
       "      <td>0.0</td>\n",
       "      <td></td>\n",
       "      <td>B</td>\n",
       "      <td>H</td>\n",
       "      <td>NaN</td>\n",
       "      <td>887</td>\n",
       "      <td>B27C</td>\n",
       "    </tr>\n",
       "  </tbody>\n",
       "</table>\n",
       "<p>867 rows × 22 columns</p>\n",
       "</div>"
      ],
      "text/plain": [
       "    record_name  atom_number blank_1 atom_name alt_loc residue_name blank_2  \\\n",
       "0          ATOM            1                 P                    G           \n",
       "1          ATOM            2               C5'                    G           \n",
       "2          ATOM            3               O5'                    G           \n",
       "3          ATOM            4               C4'                    G           \n",
       "4          ATOM            5               O4'                    G           \n",
       "..          ...          ...     ...       ...     ...          ...     ...   \n",
       "862        ATOM          863               H4'                    C           \n",
       "863        ATOM          864               H41                    C           \n",
       "864        ATOM          865               H5'                    C           \n",
       "865        ATOM          866               H42                    C           \n",
       "866        ATOM          867              H5''                    C           \n",
       "\n",
       "    chain_id  residue_number insertion  ... y_coord  z_coord  occupancy  \\\n",
       "0          A               1            ...  17.441   -1.803        1.0   \n",
       "1          A               1            ...  17.439    0.590        1.0   \n",
       "2          A               1            ...  17.362   -0.837        1.0   \n",
       "3          A               1            ...  17.489    1.240        1.0   \n",
       "4          A               1            ...  18.643    0.780        1.0   \n",
       "..       ...             ...       ...  ...     ...      ...        ...   \n",
       "862        B              27            ...  18.371   -3.802        1.0   \n",
       "863        B              27            ...  18.640   -6.322        1.0   \n",
       "864        B              27            ...  16.523   -5.477        1.0   \n",
       "865        B              27            ...  18.275   -7.937        1.0   \n",
       "866        B              27            ...  17.843   -5.216        1.0   \n",
       "\n",
       "     b_factor  blank_4  segment_id element_symbol charge line_idx  node_id  \n",
       "0         0.0                    A              P    NaN       20      A1G  \n",
       "1         0.0                    A              C    NaN       21      A1G  \n",
       "2         0.0                    A              O    NaN       22      A1G  \n",
       "3         0.0                    A              C    NaN       23      A1G  \n",
       "4         0.0                    A              O    NaN       24      A1G  \n",
       "..        ...      ...         ...            ...    ...      ...      ...  \n",
       "862       0.0                    B              H    NaN      883     B27C  \n",
       "863       0.0                    B              H    NaN      884     B27C  \n",
       "864       0.0                    B              H    NaN      885     B27C  \n",
       "865       0.0                    B              H    NaN      886     B27C  \n",
       "866       0.0                    B              H    NaN      887     B27C  \n",
       "\n",
       "[867 rows x 22 columns]"
      ]
     },
     "execution_count": 3,
     "metadata": {},
     "output_type": "execute_result"
    }
   ],
   "source": [
    "data_path =\"./data/raw/solo_representative_pdb_all__3_258/\"\n",
    "atomic_df = PandasPdb().read_pdb(data_path+\"1A3M_1_A-B.pdb\").df[\"ATOM\"]\n",
    "atomic_df[\"node_id\"] = (\n",
    "    atomic_df[\"chain_id\"]\n",
    "    + atomic_df[\"residue_number\"].map(str)\n",
    "    + atomic_df[\"residue_name\"]\n",
    ")\n",
    "atomic_df\n"
   ]
  },
  {
   "cell_type": "code",
   "execution_count": 4,
   "metadata": {},
   "outputs": [
    {
     "data": {
      "application/vnd.plotly.v1+json": {
       "config": {
        "plotlyServerURL": "https://plot.ly"
       },
       "data": [
        {
         "hovertemplate": "node_id=A1G<br>element_symbol=P<br>x_coord=%{x}<br>y_coord=%{y}<br>z_coord=%{z}<extra></extra>",
         "legendgroup": "A1G, P",
         "marker": {
          "color": "#636efa",
          "size": 3,
          "symbol": "circle"
         },
         "mode": "markers",
         "name": "A1G, P",
         "scene": "scene",
         "showlegend": true,
         "type": "scatter3d",
         "x": [
          6.941
         ],
         "y": [
          17.441
         ],
         "z": [
          -1.803
         ]
        },
        {
         "hovertemplate": "node_id=A1G<br>element_symbol=C<br>x_coord=%{x}<br>y_coord=%{y}<br>z_coord=%{z}<extra></extra>",
         "legendgroup": "A1G, C",
         "marker": {
          "color": "#636efa",
          "size": 3,
          "symbol": "diamond"
         },
         "mode": "markers",
         "name": "A1G, C",
         "scene": "scene",
         "showlegend": true,
         "type": "scatter3d",
         "x": [
          5.76,
          4.367,
          3.471,
          2.073,
          2.24,
          -1.757,
          0.636,
          0.846,
          -0.365,
          2.695
         ],
         "y": [
          17.439,
          17.489,
          16.275,
          16.872,
          18.291,
          18.53,
          18.455,
          18.636,
          18.809,
          18.519
         ],
         "z": [
          0.59,
          1.24,
          0.942,
          1.132,
          0.56,
          -1.834,
          -1.515,
          -2.928,
          -3.879,
          -2.023
         ]
        },
        {
         "hovertemplate": "node_id=A1G<br>element_symbol=O<br>x_coord=%{x}<br>y_coord=%{y}<br>z_coord=%{z}<extra></extra>",
         "legendgroup": "A1G, O",
         "marker": {
          "color": "#636efa",
          "size": 3,
          "symbol": "square"
         },
         "mode": "markers",
         "name": "A1G, O",
         "scene": "scene",
         "showlegend": true,
         "type": "scatter3d",
         "x": [
          5.652,
          3.627,
          3.757,
          1.73,
          -0.271,
          6.502,
          7.589
         ],
         "y": [
          17.362,
          18.643,
          15.165,
          16.945,
          18.989,
          17.207,
          18.822
         ],
         "z": [
          -0.837,
          0.78,
          1.812,
          2.514,
          -5.09,
          -3.25,
          -1.686
         ]
        },
        {
         "hovertemplate": "node_id=A1G<br>element_symbol=N<br>x_coord=%{x}<br>y_coord=%{y}<br>z_coord=%{z}<extra></extra>",
         "legendgroup": "A1G, N",
         "marker": {
          "color": "#636efa",
          "size": 3,
          "symbol": "x"
         },
         "mode": "markers",
         "name": "A1G, N",
         "scene": "scene",
         "showlegend": true,
         "type": "scatter3d",
         "x": [
          -1.579,
          -3.065,
          -0.734,
          2.175,
          1.886
         ],
         "y": [
          18.754,
          18.437,
          18.408,
          18.676,
          18.377
         ],
         "z": [
          -3.275,
          -1.333,
          -1.044,
          -3.285,
          -0.899
         ]
        },
        {
         "hovertemplate": "node_id=A1G<br>element_symbol=H<br>x_coord=%{x}<br>y_coord=%{y}<br>z_coord=%{z}<extra></extra>",
         "legendgroup": "A1G, H",
         "marker": {
          "color": "#636efa",
          "size": 3,
          "symbol": "cross"
         },
         "mode": "markers",
         "name": "A1G, H",
         "scene": "scene",
         "showlegend": true,
         "type": "scatter3d",
         "x": [
          0.875,
          -2.378,
          3.767,
          1.59,
          1.294,
          -3.854,
          3.588,
          -3.204,
          4.498,
          6.337,
          6.331
         ],
         "y": [
          17.382,
          18.859,
          18.553,
          18.989,
          16.294,
          18.531,
          15.968,
          18.276,
          17.585,
          18.338,
          16.57
         ],
         "z": [
          2.552,
          -3.909,
          -1.907,
          1.116,
          0.61,
          -1.983,
          -0.116,
          -0.33,
          2.336,
          0.876,
          0.971
         ]
        },
        {
         "hovertemplate": "node_id=A2G<br>element_symbol=P<br>x_coord=%{x}<br>y_coord=%{y}<br>z_coord=%{z}<extra></extra>",
         "legendgroup": "A2G, P",
         "marker": {
          "color": "#EF553B",
          "size": 3,
          "symbol": "circle"
         },
         "mode": "markers",
         "name": "A2G, P",
         "scene": "scene",
         "showlegend": true,
         "type": "scatter3d",
         "x": [
          3.381
         ],
         "y": [
          13.636
         ],
         "z": [
          1.418
         ]
        },
        {
         "hovertemplate": "node_id=A2G<br>element_symbol=C<br>x_coord=%{x}<br>y_coord=%{y}<br>z_coord=%{z}<extra></extra>",
         "legendgroup": "A2G, C",
         "marker": {
          "color": "#EF553B",
          "size": 3,
          "symbol": "diamond"
         },
         "mode": "markers",
         "name": "A2G, C",
         "scene": "scene",
         "showlegend": true,
         "type": "scatter3d",
         "x": [
          0.994,
          -0.501,
          -1.116,
          -2.347,
          -1.839,
          -4.133,
          -2.205,
          -1.331,
          -1.918,
          -0.165
         ],
         "y": [
          13.527,
          13.669,
          12.489,
          13.143,
          14.557,
          15.274,
          14.909,
          15.06,
          15.396,
          14.665
         ],
         "z": [
          2.603,
          2.28,
          1.516,
          0.882,
          0.549,
          -3.413,
          -2.01,
          -3.142,
          -4.534,
          -1.483
         ]
        },
        {
         "hovertemplate": "node_id=A2G<br>element_symbol=O<br>x_coord=%{x}<br>y_coord=%{y}<br>z_coord=%{z}<extra></extra>",
         "legendgroup": "A2G, O",
         "marker": {
          "color": "#EF553B",
          "size": 3,
          "symbol": "square"
         },
         "mode": "markers",
         "name": "A2G, O",
         "scene": "scene",
         "showlegend": true,
         "type": "scatter3d",
         "x": [
          1.776,
          -0.737,
          -1.432,
          -3.423,
          -1.236,
          3.998,
          3.94
         ],
         "y": [
          13.454,
          14.822,
          11.382,
          13.23,
          15.561,
          12.683,
          13.306
         ],
         "z": [
          1.402,
          1.447,
          2.379,
          1.813,
          -5.541,
          2.444,
          0.032
         ]
        },
        {
         "hovertemplate": "node_id=A2G<br>element_symbol=N<br>x_coord=%{x}<br>y_coord=%{y}<br>z_coord=%{z}<extra></extra>",
         "legendgroup": "A2G, N",
         "marker": {
          "color": "#EF553B",
          "size": 3,
          "symbol": "x"
         },
         "mode": "markers",
         "name": "A2G, N",
         "scene": "scene",
         "showlegend": true,
         "type": "scatter3d",
         "x": [
          -3.273,
          -5.518,
          -3.631,
          0.002,
          -1.421
         ],
         "y": [
          15.504,
          15.302,
          15.027,
          14.896,
          14.678
         ],
         "z": [
          -4.573,
          -3.615,
          -2.244,
          -2.829,
          -0.886
         ]
        },
        {
         "hovertemplate": "node_id=A2G<br>element_symbol=H<br>x_coord=%{x}<br>y_coord=%{y}<br>z_coord=%{z}<extra></extra>",
         "legendgroup": "A2G, H",
         "marker": {
          "color": "#EF553B",
          "size": 3,
          "symbol": "cross"
         },
         "mode": "markers",
         "name": "A2G, H",
         "scene": "scene",
         "showlegend": true,
         "type": "scatter3d",
         "x": [
          -3.08,
          -3.69,
          0.709,
          -2.637,
          -2.69,
          -5.882,
          -0.426,
          -6.141,
          -1.048,
          1.321,
          1.172
         ],
         "y": [
          13.716,
          15.735,
          14.453,
          15.299,
          12.58,
          15.49,
          12.161,
          15.133,
          13.814,
          14.388,
          12.626
         ],
         "z": [
          2.568,
          -5.481,
          -0.888,
          0.742,
          -0.004,
          -4.555,
          0.712,
          -2.817,
          3.233,
          3.216,
          3.221
         ]
        },
        {
         "hovertemplate": "node_id=A3C<br>element_symbol=P<br>x_coord=%{x}<br>y_coord=%{y}<br>z_coord=%{z}<extra></extra>",
         "legendgroup": "A3C, P",
         "marker": {
          "color": "#00cc96",
          "size": 3,
          "symbol": "circle"
         },
         "mode": "markers",
         "name": "A3C, P",
         "scene": "scene",
         "showlegend": true,
         "type": "scatter3d",
         "x": [
          -1.628
         ],
         "y": [
          9.877
         ],
         "z": [
          1.81
         ]
        },
        {
         "hovertemplate": "node_id=A3C<br>element_symbol=C<br>x_coord=%{x}<br>y_coord=%{y}<br>z_coord=%{z}<extra></extra>",
         "legendgroup": "A3C, C",
         "marker": {
          "color": "#00cc96",
          "size": 3,
          "symbol": "diamond"
         },
         "mode": "markers",
         "name": "A3C, C",
         "scene": "scene",
         "showlegend": true,
         "type": "scatter3d",
         "x": [
          -4.242,
          -5.218,
          -5.228,
          -5.881,
          -5.307,
          -4.421,
          -2.058,
          -1.761,
          -2.745
         ],
         "y": [
          9.976,
          10.184,
          9.053,
          9.747,
          11.183,
          11.793,
          11.698,
          11.321,
          11.17
         ],
         "z": [
          1.26,
          0.089,
          -0.944,
          -2.144,
          -2.051,
          -4.322,
          -4.837,
          -3.553,
          -2.62
         ]
        },
        {
         "hovertemplate": "node_id=A3C<br>element_symbol=O<br>x_coord=%{x}<br>y_coord=%{y}<br>z_coord=%{z}<extra></extra>",
         "legendgroup": "A3C, O",
         "marker": {
          "color": "#00cc96",
          "size": 3,
          "symbol": "square"
         },
         "mode": "markers",
         "name": "A3C, O",
         "scene": "scene",
         "showlegend": true,
         "type": "scatter3d",
         "x": [
          -2.891,
          -4.906,
          -5.932,
          -7.3,
          -5.562,
          -1.866,
          -0.368
         ],
         "y": [
          9.835,
          11.37,
          7.894,
          9.775,
          11.987,
          8.917,
          9.445
         ],
         "z": [
          0.799,
          -0.667,
          -0.461,
          -2.013,
          -4.742,
          2.979,
          1.057
         ]
        },
        {
         "hovertemplate": "node_id=A3C<br>element_symbol=N<br>x_coord=%{x}<br>y_coord=%{y}<br>z_coord=%{z}<extra></extra>",
         "legendgroup": "A3C, N",
         "marker": {
          "color": "#00cc96",
          "size": 3,
          "symbol": "x"
         },
         "mode": "markers",
         "name": "A3C, N",
         "scene": "scene",
         "showlegend": true,
         "type": "scatter3d",
         "x": [
          -4.174,
          -3.271,
          -1.043
         ],
         "y": [
          11.412,
          11.947,
          11.822
         ],
         "z": [
          -3.004,
          -5.215,
          -5.801
         ]
        },
        {
         "hovertemplate": "node_id=A3C<br>element_symbol=H<br>x_coord=%{x}<br>y_coord=%{y}<br>z_coord=%{z}<extra></extra>",
         "legendgroup": "A3C, H",
         "marker": {
          "color": "#00cc96",
          "size": 3,
          "symbol": "cross"
         },
         "mode": "markers",
         "name": "A3C, H",
         "scene": "scene",
         "showlegend": true,
         "type": "scatter3d",
         "x": [
          -7.481,
          -0.728,
          -2.489,
          -6.098,
          -5.627,
          -4.187,
          -6.235,
          -1.294,
          -4.319,
          -0.07,
          -4.53
         ],
         "y": [
          10.22,
          11.132,
          10.873,
          11.929,
          9.235,
          8.783,
          10.303,
          12.098,
          10.825,
          11.648,
          9.077
         ],
         "z": [
          -1.183,
          -3.252,
          -1.603,
          -2.269,
          -3.091,
          -1.21,
          0.514,
          -6.757,
          1.964,
          -5.525,
          1.838
         ]
        },
        {
         "hovertemplate": "node_id=A4G<br>element_symbol=P<br>x_coord=%{x}<br>y_coord=%{y}<br>z_coord=%{z}<extra></extra>",
         "legendgroup": "A4G, P",
         "marker": {
          "color": "#ab63fa",
          "size": 3,
          "symbol": "circle"
         },
         "mode": "markers",
         "name": "A4G, P",
         "scene": "scene",
         "showlegend": true,
         "type": "scatter3d",
         "x": [
          -5.638
         ],
         "y": [
          6.396
         ],
         "z": [
          -1.012
         ]
        },
        {
         "hovertemplate": "node_id=A4G<br>element_symbol=C<br>x_coord=%{x}<br>y_coord=%{y}<br>z_coord=%{z}<extra></extra>",
         "legendgroup": "A4G, C",
         "marker": {
          "color": "#ab63fa",
          "size": 3,
          "symbol": "diamond"
         },
         "mode": "markers",
         "name": "A4G, C",
         "scene": "scene",
         "showlegend": true,
         "type": "scatter3d",
         "x": [
          -7.764,
          -8.169,
          -7.698,
          -7.744,
          -7.268,
          -4.697,
          -5.114,
          -3.713,
          -2.698,
          -4.72
         ],
         "y": [
          6.188,
          6.483,
          5.454,
          6.289,
          7.672,
          8.145,
          7.992,
          8.138,
          8.297,
          7.938
         ],
         "z": [
          -2.598,
          -4.048,
          -5.086,
          -6.368,
          -5.876,
          -9.673,
          -7.305,
          -7.021,
          -8.183,
          -5.225
         ]
        },
        {
         "hovertemplate": "node_id=A4G<br>element_symbol=O<br>x_coord=%{x}<br>y_coord=%{y}<br>z_coord=%{z}<extra></extra>",
         "legendgroup": "A4G, O",
         "marker": {
          "color": "#ab63fa",
          "size": 3,
          "symbol": "square"
         },
         "mode": "markers",
         "name": "A4G, O",
         "scene": "scene",
         "showlegend": true,
         "type": "scatter3d",
         "x": [
          -6.337,
          -7.607,
          -8.537,
          -9.072,
          -1.487,
          -6.207,
          -4.128
         ],
         "y": [
          6.201,
          7.742,
          4.284,
          6.391,
          8.444,
          5.376,
          6.171
         ],
         "z": [
          -2.453,
          -4.474,
          -5.138,
          -6.876,
          -8.027,
          -0.024,
          -1.145
         ]
        },
        {
         "hovertemplate": "node_id=A4G<br>element_symbol=N<br>x_coord=%{x}<br>y_coord=%{y}<br>z_coord=%{z}<extra></extra>",
         "legendgroup": "A4G, N",
         "marker": {
          "color": "#ab63fa",
          "size": 3,
          "symbol": "x"
         },
         "mode": "markers",
         "name": "A4G, N",
         "scene": "scene",
         "showlegend": true,
         "type": "scatter3d",
         "x": [
          -3.249,
          -5.183,
          -5.523,
          -3.427,
          -5.796
         ],
         "y": [
          8.279,
          8.202,
          7.994,
          8.109,
          7.865
         ],
         "z": [
          -9.427,
          -10.991,
          -8.691,
          -5.672,
          -6.103
         ]
        },
        {
         "hovertemplate": "node_id=A4G<br>element_symbol=H<br>x_coord=%{x}<br>y_coord=%{y}<br>z_coord=%{z}<extra></extra>",
         "legendgroup": "A4G, H",
         "marker": {
          "color": "#ab63fa",
          "size": 3,
          "symbol": "cross"
         },
         "mode": "markers",
         "name": "A4G, H",
         "scene": "scene",
         "showlegend": true,
         "type": "scatter3d",
         "x": [
          -9.337,
          -2.58,
          -4.891,
          -7.81,
          -7.099,
          -4.517,
          -6.65,
          -6.191,
          -9.273,
          -8.219,
          -8.166
         ],
         "y": [
          5.497,
          8.397,
          7.827,
          8.474,
          5.853,
          8.329,
          5.163,
          8.117,
          6.565,
          6.948,
          5.211
         ],
         "z": [
          -7.105,
          -10.196,
          -4.165,
          -6.413,
          -7.152,
          -11.762,
          -4.879,
          -11.155,
          -4.088,
          -1.932,
          -2.271
         ]
        },
        {
         "hovertemplate": "node_id=A5U<br>element_symbol=P<br>x_coord=%{x}<br>y_coord=%{y}<br>z_coord=%{z}<extra></extra>",
         "legendgroup": "A5U, P",
         "marker": {
          "color": "#FFA15A",
          "size": 3,
          "symbol": "circle"
         },
         "mode": "markers",
         "name": "A5U, P",
         "scene": "scene",
         "showlegend": true,
         "type": "scatter3d",
         "x": [
          -8.005
         ],
         "y": [
          2.861
         ],
         "z": [
          -5.716
         ]
        },
        {
         "hovertemplate": "node_id=A5U<br>element_symbol=C<br>x_coord=%{x}<br>y_coord=%{y}<br>z_coord=%{z}<extra></extra>",
         "legendgroup": "A5U, C",
         "marker": {
          "color": "#FFA15A",
          "size": 3,
          "symbol": "diamond"
         },
         "mode": "markers",
         "name": "A5U, C",
         "scene": "scene",
         "showlegend": true,
         "type": "scatter3d",
         "x": [
          -8.665,
          -8.047,
          -7.255,
          -6.339,
          -6.044,
          -3.554,
          -2.06,
          -3.285,
          -4.52
         ],
         "y": [
          3.224,
          3.6,
          2.476,
          3.291,
          4.584,
          4.871,
          4.669,
          4.405,
          4.431
         ],
         "z": [
          -8.283,
          -9.64,
          -10.327,
          -11.242,
          -10.456,
          -10.587,
          -8.698,
          -7.794,
          -8.336
         ]
        },
        {
         "hovertemplate": "node_id=A5U<br>element_symbol=O<br>x_coord=%{x}<br>y_coord=%{y}<br>z_coord=%{z}<extra></extra>",
         "legendgroup": "A5U, O",
         "marker": {
          "color": "#FFA15A",
          "size": 3,
          "symbol": "square"
         },
         "mode": "markers",
         "name": "A5U, O",
         "scene": "scene",
         "showlegend": true,
         "type": "scatter3d",
         "x": [
          -7.653,
          -7.134,
          -8.113,
          -6.992,
          -3.617,
          -0.914,
          -9.089,
          -6.746
         ],
         "y": [
          2.994,
          4.713,
          1.564,
          3.614,
          5.074,
          4.678,
          1.799,
          2.438
         ],
         "z": [
          -7.293,
          -9.508,
          -11.039,
          -12.468,
          -11.802,
          -8.252,
          -5.518,
          -4.955
         ]
        },
        {
         "hovertemplate": "node_id=A5U<br>element_symbol=N<br>x_coord=%{x}<br>y_coord=%{y}<br>z_coord=%{z}<extra></extra>",
         "legendgroup": "A5U, N",
         "marker": {
          "color": "#FFA15A",
          "size": 3,
          "symbol": "x"
         },
         "mode": "markers",
         "name": "A5U, N",
         "scene": "scene",
         "showlegend": true,
         "type": "scatter3d",
         "x": [
          -4.688,
          -2.308
         ],
         "y": [
          4.624,
          4.897
         ],
         "z": [
          -9.808,
          -10.02
         ]
        },
        {
         "hovertemplate": "node_id=A5U<br>element_symbol=H<br>x_coord=%{x}<br>y_coord=%{y}<br>z_coord=%{z}<extra></extra>",
         "legendgroup": "A5U, H",
         "marker": {
          "color": "#FFA15A",
          "size": 3,
          "symbol": "cross"
         },
         "mode": "markers",
         "name": "A5U, H",
         "scene": "scene",
         "showlegend": true,
         "type": "scatter3d",
         "x": [
          -7.785,
          -1.507,
          -3.169,
          -5.364,
          -6.099,
          -5.424,
          -6.642,
          -8.871,
          -9.337,
          -9.303
         ],
         "y": [
          4.098,
          5.103,
          4.204,
          4.331,
          5.433,
          2.729,
          1.901,
          3.916,
          4.036,
          2.326
         ],
         "z": [
          -12.226,
          -10.626,
          -6.733,
          -7.66,
          -11.164,
          -11.466,
          -9.605,
          -10.311,
          -7.949,
          -8.384
         ]
        },
        {
         "hovertemplate": "node_id=A6C<br>element_symbol=P<br>x_coord=%{x}<br>y_coord=%{y}<br>z_coord=%{z}<extra></extra>",
         "legendgroup": "A6C, P",
         "marker": {
          "color": "#19d3f3",
          "size": 3,
          "symbol": "circle"
         },
         "mode": "markers",
         "name": "A6C, P",
         "scene": "scene",
         "showlegend": true,
         "type": "scatter3d",
         "x": [
          -7.645
         ],
         "y": [
          0.056
         ],
         "z": [
          -11.422
         ]
        },
        {
         "hovertemplate": "node_id=A6C<br>element_symbol=C<br>x_coord=%{x}<br>y_coord=%{y}<br>z_coord=%{z}<extra></extra>",
         "legendgroup": "A6C, C",
         "marker": {
          "color": "#19d3f3",
          "size": 3,
          "symbol": "diamond"
         },
         "mode": "markers",
         "name": "A6C, C",
         "scene": "scene",
         "showlegend": true,
         "type": "scatter3d",
         "x": [
          -6.597,
          -5.275,
          -4.187,
          -2.943,
          -3.224,
          -1.139,
          -1.041,
          -2.357,
          -3.108
         ],
         "y": [
          0.549,
          1.029,
          -0.038,
          0.842,
          2.016,
          2.238,
          1.505,
          1.127,
          1.285
         ],
         "z": [
          -13.829,
          -14.45,
          -14.602,
          -14.774,
          -13.808,
          -12.432,
          -10.119,
          -10.152,
          -11.279
         ]
        },
        {
         "hovertemplate": "node_id=A6C<br>element_symbol=O<br>x_coord=%{x}<br>y_coord=%{y}<br>z_coord=%{z}<extra></extra>",
         "legendgroup": "A6C, O",
         "marker": {
          "color": "#19d3f3",
          "size": 3,
          "symbol": "square"
         },
         "mode": "markers",
         "name": "A6C, O",
         "scene": "scene",
         "showlegend": true,
         "type": "scatter3d",
         "x": [
          -6.415,
          -4.661,
          -4.438,
          -2.829,
          -0.527,
          -8.823,
          -7.192
         ],
         "y": [
          0.113,
          2.052,
          -0.926,
          1.331,
          2.696,
          -0.699,
          -0.678
         ],
         "z": [
          -12.474,
          -13.645,
          -15.706,
          -16.109,
          -13.402,
          -12.043,
          -10.158
         ]
        },
        {
         "hovertemplate": "node_id=A6C<br>element_symbol=N<br>x_coord=%{x}<br>y_coord=%{y}<br>z_coord=%{z}<extra></extra>",
         "legendgroup": "A6C, N",
         "marker": {
          "color": "#19d3f3",
          "size": 3,
          "symbol": "x"
         },
         "mode": "markers",
         "name": "A6C, N",
         "scene": "scene",
         "showlegend": true,
         "type": "scatter3d",
         "x": [
          -2.484,
          -0.455,
          -0.279
         ],
         "y": [
          1.877,
          2.03,
          1.337
         ],
         "z": [
          -12.513,
          -11.152,
          -8.945
         ]
        },
        {
         "hovertemplate": "node_id=A6C<br>element_symbol=H<br>x_coord=%{x}<br>y_coord=%{y}<br>z_coord=%{z}<extra></extra>",
         "legendgroup": "A6C, H",
         "marker": {
          "color": "#19d3f3",
          "size": 3,
          "symbol": "cross"
         },
         "mode": "markers",
         "name": "A6C, H",
         "scene": "scene",
         "showlegend": true,
         "type": "scatter3d",
         "x": [
          -3.645,
          -2.834,
          -4.156,
          -2.939,
          -2.025,
          -4.099,
          -5.506,
          0.693,
          -7.335,
          -0.717,
          -7.032
         ],
         "y": [
          1.803,
          0.693,
          0.989,
          2.987,
          0.283,
          -0.616,
          1.459,
          1.666,
          1.373,
          0.919,
          -0.272
         ],
         "z": [
          -16.289,
          -9.27,
          -11.258,
          -14.26,
          -14.525,
          -13.66,
          -15.444,
          -8.941,
          -13.866,
          -8.117,
          -14.428
         ]
        },
        {
         "hovertemplate": "node_id=A7A<br>element_symbol=P<br>x_coord=%{x}<br>y_coord=%{y}<br>z_coord=%{z}<extra></extra>",
         "legendgroup": "A7A, P",
         "marker": {
          "color": "#FF6692",
          "size": 3,
          "symbol": "circle"
         },
         "mode": "markers",
         "name": "A7A, P",
         "scene": "scene",
         "showlegend": true,
         "type": "scatter3d",
         "x": [
          -3.728
         ],
         "y": [
          -2.38
         ],
         "z": [
          -15.827
         ]
        },
        {
         "hovertemplate": "node_id=A7A<br>element_symbol=C<br>x_coord=%{x}<br>y_coord=%{y}<br>z_coord=%{z}<extra></extra>",
         "legendgroup": "A7A, C",
         "marker": {
          "color": "#FF6692",
          "size": 3,
          "symbol": "diamond"
         },
         "mode": "markers",
         "name": "A7A, C",
         "scene": "scene",
         "showlegend": true,
         "type": "scatter3d",
         "x": [
          -1.698,
          -0.24,
          0.786,
          1.967,
          1.267,
          4.391,
          2.304,
          1.778,
          2.697,
          0.254
         ],
         "y": [
          -1.633,
          -1.162,
          -2.272,
          -1.475,
          -0.373,
          -0.211,
          -0.562,
          -0.854,
          -0.767,
          -1.111
         ],
         "z": [
          -17.384,
          -17.277,
          -17.029,
          -16.466,
          -15.647,
          -12.247,
          -13.264,
          -11.934,
          -10.82,
          -13.324
         ]
        },
        {
         "hovertemplate": "node_id=A7A<br>element_symbol=O<br>x_coord=%{x}<br>y_coord=%{y}<br>z_coord=%{z}<extra></extra>",
         "legendgroup": "A7A, O",
         "marker": {
          "color": "#FF6692",
          "size": 3,
          "symbol": "square"
         },
         "mode": "markers",
         "name": "A7A, O",
         "scene": "scene",
         "showlegend": true,
         "type": "scatter3d",
         "x": [
          -2.153,
          -0.074,
          1.11,
          2.736,
          -4.389,
          -3.891
         ],
         "y": [
          -2.193,
          -0.252,
          -2.994,
          -0.882,
          -3.173,
          -3.151
         ],
         "z": [
          -16.144,
          -16.173,
          -18.231,
          -17.512,
          -16.958,
          -14.515
         ]
        },
        {
         "hovertemplate": "node_id=A7A<br>element_symbol=N<br>x_coord=%{x}<br>y_coord=%{y}<br>z_coord=%{z}<extra></extra>",
         "legendgroup": "A7A, N",
         "marker": {
          "color": "#FF6692",
          "size": 3,
          "symbol": "x"
         },
         "mode": "markers",
         "name": "A7A, N",
         "scene": "scene",
         "showlegend": true,
         "type": "scatter3d",
         "x": [
          3.963,
          3.727,
          2.304,
          0.443,
          1.266
         ],
         "y": [
          -0.455,
          -0.235,
          -1.006,
          -1.228,
          -0.687
         ],
         "z": [
          -11.028,
          -13.372,
          -9.574,
          -11.965,
          -14.18
         ]
        },
        {
         "hovertemplate": "node_id=A7A<br>element_symbol=H<br>x_coord=%{x}<br>y_coord=%{y}<br>z_coord=%{z}<extra></extra>",
         "legendgroup": "A7A, H",
         "marker": {
          "color": "#FF6692",
          "size": 3,
          "symbol": "cross"
         },
         "mode": "markers",
         "name": "A7A, H",
         "scene": "scene",
         "showlegend": true,
         "type": "scatter3d",
         "x": [
          2.124,
          5.427,
          -0.701,
          1.783,
          2.632,
          0.41,
          0.017,
          -2.337,
          3.02,
          1.316,
          -1.806
         ],
         "y": [
          -0.342,
          0.07,
          -1.398,
          0.595,
          -2.118,
          -2.965,
          -0.625,
          -0.777,
          -0.925,
          -1.249,
          -2.378
         ],
         "z": [
          -18.017,
          -12.335,
          -13.73,
          -15.791,
          -15.863,
          -16.25,
          -18.212,
          -17.67,
          -8.843,
          -9.441,
          -18.194
         ]
        },
        {
         "hovertemplate": "node_id=A8C<br>element_symbol=P<br>x_coord=%{x}<br>y_coord=%{y}<br>z_coord=%{z}<extra></extra>",
         "legendgroup": "A8C, P",
         "marker": {
          "color": "#B6E880",
          "size": 3,
          "symbol": "circle"
         },
         "mode": "markers",
         "name": "A8C, P",
         "scene": "scene",
         "showlegend": true,
         "type": "scatter3d",
         "x": [
          1.642
         ],
         "y": [
          -4.524
         ],
         "z": [
          -18.189
         ]
        },
        {
         "hovertemplate": "node_id=A8C<br>element_symbol=C<br>x_coord=%{x}<br>y_coord=%{y}<br>z_coord=%{z}<extra></extra>",
         "legendgroup": "A8C, C",
         "marker": {
          "color": "#B6E880",
          "size": 3,
          "symbol": "diamond"
         },
         "mode": "markers",
         "name": "A8C, C",
         "scene": "scene",
         "showlegend": true,
         "type": "scatter3d",
         "x": [
          4.249,
          5.309,
          5.503,
          6.189,
          5.468,
          4.626,
          2.28,
          1.99,
          2.95
         ],
         "y": [
          -4.087,
          -4.122,
          -5.493,
          -5.101,
          -3.784,
          -3.999,
          -4.423,
          -4.466,
          -4.237
         ],
         "z": [
          -17.757,
          -16.641,
          -15.982,
          -14.67,
          -14.301,
          -11.934,
          -11.459,
          -12.796,
          -13.735
         ]
        },
        {
         "hovertemplate": "node_id=A8C<br>element_symbol=O<br>x_coord=%{x}<br>y_coord=%{y}<br>z_coord=%{z}<extra></extra>",
         "legendgroup": "A8C, O",
         "marker": {
          "color": "#B6E880",
          "size": 3,
          "symbol": "square"
         },
         "mode": "markers",
         "name": "A8C, O",
         "scene": "scene",
         "showlegend": true,
         "type": "scatter3d",
         "x": [
          2.992,
          4.974,
          6.26,
          7.582,
          5.764,
          1.92,
          0.571
         ],
         "y": [
          -4.608,
          -3.235,
          -6.392,
          -4.868,
          -3.849,
          -5.006,
          -5.417
         ],
         "z": [
          -17.305,
          -15.552,
          -16.809,
          -14.865,
          -11.481,
          -19.616,
          -17.558
         ]
        },
        {
         "hovertemplate": "node_id=A8C<br>element_symbol=N<br>x_coord=%{x}<br>y_coord=%{y}<br>z_coord=%{z}<extra></extra>",
         "legendgroup": "A8C, N",
         "marker": {
          "color": "#B6E880",
          "size": 3,
          "symbol": "x"
         },
         "mode": "markers",
         "name": "A8C, N",
         "scene": "scene",
         "showlegend": true,
         "type": "scatter3d",
         "x": [
          4.364,
          3.488,
          1.251
         ],
         "y": [
          -3.982,
          -4.22,
          -4.581
         ],
         "z": [
          -13.305,
          -11.029,
          -10.503
         ]
        },
        {
         "hovertemplate": "node_id=A8C<br>element_symbol=H<br>x_coord=%{x}<br>y_coord=%{y}<br>z_coord=%{z}<extra></extra>",
         "legendgroup": "A8C, H",
         "marker": {
          "color": "#B6E880",
          "size": 3,
          "symbol": "cross"
         },
         "mode": "markers",
         "name": "A8C, H",
         "scene": "scene",
         "showlegend": true,
         "type": "scatter3d",
         "x": [
          7.924,
          0.981,
          2.67,
          6.199,
          6.069,
          4.517,
          6.269,
          1.487,
          4.124,
          0.29,
          4.599
         ],
         "y": [
          -4.582,
          -4.679,
          -4.233,
          -3.061,
          -5.883,
          -5.937,
          -3.781,
          -4.539,
          -3.051,
          -4.735,
          -4.678
         ],
         "z": [
          -14.015,
          -13.144,
          -14.787,
          -13.887,
          -13.904,
          -15.743,
          -17.075,
          -9.505,
          -18.124,
          -10.826,
          -18.625
         ]
        },
        {
         "hovertemplate": "node_id=A9A<br>element_symbol=P<br>x_coord=%{x}<br>y_coord=%{y}<br>z_coord=%{z}<extra></extra>",
         "legendgroup": "A9A, P",
         "marker": {
          "color": "#FF97FF",
          "size": 3,
          "symbol": "circle"
         },
         "mode": "markers",
         "name": "A9A, P",
         "scene": "scene",
         "showlegend": true,
         "type": "scatter3d",
         "x": [
          6.059
         ],
         "y": [
          -8.001
         ],
         "z": [
          -16.74
         ]
        },
        {
         "hovertemplate": "node_id=A9A<br>element_symbol=C<br>x_coord=%{x}<br>y_coord=%{y}<br>z_coord=%{z}<extra></extra>",
         "legendgroup": "A9A, C",
         "marker": {
          "color": "#FF97FF",
          "size": 3,
          "symbol": "diamond"
         },
         "mode": "markers",
         "name": "A9A, C",
         "scene": "scene",
         "showlegend": true,
         "type": "scatter3d",
         "x": [
          8.064,
          8.361,
          7.89,
          7.801,
          7.309,
          4.492,
          5.111,
          3.69,
          2.759,
          4.771
         ],
         "y": [
          -8.527,
          -8.621,
          -9.909,
          -9.443,
          -7.99,
          -7.995,
          -7.91,
          -7.828,
          -7.829,
          -7.816
         ],
         "z": [
          -15.078,
          -13.576,
          -12.884,
          -11.429,
          -11.566,
          -7.921,
          -10.184,
          -10.504,
          -9.398,
          -12.282
         ]
        },
        {
         "hovertemplate": "node_id=A9A<br>element_symbol=O<br>x_coord=%{x}<br>y_coord=%{y}<br>z_coord=%{z}<extra></extra>",
         "legendgroup": "A9A, O",
         "marker": {
          "color": "#FF97FF",
          "size": 3,
          "symbol": "square"
         },
         "mode": "markers",
         "name": "A9A, O",
         "scene": "scene",
         "showlegend": true,
         "type": "scatter3d",
         "x": [
          6.656,
          7.709,
          8.799,
          9.081,
          6.792,
          4.569
         ],
         "y": [
          -8.559,
          -7.544,
          -11.009,
          -9.456,
          -8.654,
          -8.344
         ],
         "z": [
          -15.345,
          -12.878,
          -13.078,
          -10.8,
          -17.914,
          -16.827
         ]
        },
        {
         "hovertemplate": "node_id=A9A<br>element_symbol=N<br>x_coord=%{x}<br>y_coord=%{y}<br>z_coord=%{z}<extra></extra>",
         "legendgroup": "A9A, N",
         "marker": {
          "color": "#FF97FF",
          "size": 3,
          "symbol": "x"
         },
         "mode": "markers",
         "name": "A9A, N",
         "scene": "scene",
         "showlegend": true,
         "type": "scatter3d",
         "x": [
          3.203,
          5.484,
          1.445,
          3.456,
          5.827
         ],
         "y": [
          -7.909,
          -8.019,
          -7.772,
          -7.78,
          -7.887
         ],
         "z": [
          -8.16,
          -8.771,
          -9.586,
          -11.871,
          -11.374
         ]
        },
        {
         "hovertemplate": "node_id=A9A<br>element_symbol=H<br>x_coord=%{x}<br>y_coord=%{y}<br>z_coord=%{z}<extra></extra>",
         "legendgroup": "A9A, H",
         "marker": {
          "color": "#FF97FF",
          "size": 3,
          "symbol": "cross"
         },
         "mode": "markers",
         "name": "A9A, H",
         "scene": "scene",
         "showlegend": true,
         "type": "scatter3d",
         "x": [
          9.645,
          4.767,
          4.974,
          7.803,
          7.114,
          6.877,
          9.454,
          8.495,
          0.859,
          1.122,
          8.56
         ],
         "y": [
          -8.898,
          -8.035,
          -7.765,
          -7.352,
          -10.083,
          -10.181,
          -8.511,
          -7.585,
          -7.786,
          -7.721,
          -9.35
         ],
         "z": [
          -11.339,
          -6.878,
          -13.342,
          -10.809,
          -10.848,
          -13.242,
          -13.434,
          -15.466,
          -8.744,
          -10.559,
          -15.621
         ]
        },
        {
         "hovertemplate": "node_id=A10C<br>element_symbol=P<br>x_coord=%{x}<br>y_coord=%{y}<br>z_coord=%{z}<extra></extra>",
         "legendgroup": "A10C, P",
         "marker": {
          "color": "#FECB52",
          "size": 3,
          "symbol": "circle"
         },
         "mode": "markers",
         "name": "A10C, P",
         "scene": "scene",
         "showlegend": true,
         "type": "scatter3d",
         "x": [
          8.354
         ],
         "y": [
          -12.556
         ],
         "z": [
          -12.856
         ]
        },
        {
         "hovertemplate": "node_id=A10C<br>element_symbol=C<br>x_coord=%{x}<br>y_coord=%{y}<br>z_coord=%{z}<extra></extra>",
         "legendgroup": "A10C, C",
         "marker": {
          "color": "#FECB52",
          "size": 3,
          "symbol": "diamond"
         },
         "mode": "markers",
         "name": "A10C, C",
         "scene": "scene",
         "showlegend": true,
         "type": "scatter3d",
         "x": [
          8.986,
          8.342,
          7.503,
          6.608,
          6.358,
          3.882,
          2.45,
          3.524,
          4.786
         ],
         "y": [
          -12.793,
          -12.675,
          -13.884,
          -13.259,
          -11.829,
          -11.487,
          -11.381,
          -11.565,
          -11.718
         ],
         "z": [
          -10.264,
          -8.871,
          -8.437,
          -7.364,
          -7.89,
          -7.712,
          -9.667,
          -10.499,
          -9.999
         ]
        },
        {
         "hovertemplate": "node_id=A10C<br>element_symbol=O<br>x_coord=%{x}<br>y_coord=%{y}<br>z_coord=%{z}<extra></extra>",
         "legendgroup": "A10C, O",
         "marker": {
          "color": "#FECB52",
          "size": 3,
          "symbol": "square"
         },
         "mode": "markers",
         "name": "A10C, O",
         "scene": "scene",
         "showlegend": true,
         "type": "scatter3d",
         "x": [
          7.991,
          7.443,
          8.321,
          7.273,
          3.968,
          9.502,
          7.126
         ],
         "y": [
          -12.815,
          -11.547,
          -14.964,
          -13.203,
          -11.429,
          -13.477,
          -12.864
         ],
         "z": [
          -11.299,
          -8.808,
          -7.946,
          -6.103,
          -6.485,
          -13.277,
          -13.716
         ]
        },
        {
         "hovertemplate": "node_id=A10C<br>element_symbol=N<br>x_coord=%{x}<br>y_coord=%{y}<br>z_coord=%{z}<extra></extra>",
         "legendgroup": "A10C, N",
         "marker": {
          "color": "#FECB52",
          "size": 3,
          "symbol": "x"
         },
         "mode": "markers",
         "name": "A10C, N",
         "scene": "scene",
         "showlegend": true,
         "type": "scatter3d",
         "x": [
          5.006,
          2.582,
          1.152
         ],
         "y": [
          -11.673,
          -11.357,
          -11.198
         ],
         "z": [
          -8.516,
          -8.376,
          -10.191
         ]
        },
        {
         "hovertemplate": "node_id=A10C<br>element_symbol=H<br>x_coord=%{x}<br>y_coord=%{y}<br>z_coord=%{z}<extra></extra>",
         "legendgroup": "A10C, H",
         "marker": {
          "color": "#FECB52",
          "size": 3,
          "symbol": "cross"
         },
         "mode": "markers",
         "name": "A10C, H",
         "scene": "scene",
         "showlegend": true,
         "type": "scatter3d",
         "x": [
          6.665,
          3.391,
          5.626,
          6.431,
          5.681,
          6.873,
          9.151,
          0.369,
          9.676,
          1.019,
          9.609
         ],
         "y": [
          -12.767,
          -11.589,
          -11.864,
          -11.099,
          -13.841,
          -14.228,
          -12.511,
          -11.057,
          -11.945,
          -11.211,
          -13.704
         ],
         "z": [
          -5.503,
          -11.582,
          -10.677,
          -7.059,
          -7.247,
          -9.283,
          -8.132,
          -9.544,
          -10.422,
          -11.209,
          -10.325
         ]
        },
        {
         "hovertemplate": "node_id=A11C<br>element_symbol=P<br>x_coord=%{x}<br>y_coord=%{y}<br>z_coord=%{z}<extra></extra>",
         "legendgroup": "A11C, P",
         "marker": {
          "color": "#636efa",
          "size": 3,
          "symbol": "circle"
         },
         "mode": "markers",
         "name": "A11C, P",
         "scene": "scene",
         "showlegend": true,
         "type": "scatter3d",
         "x": [
          7.82
         ],
         "y": [
          -16.509
         ],
         "z": [
          -7.918
         ]
        },
        {
         "hovertemplate": "node_id=A11C<br>element_symbol=C<br>x_coord=%{x}<br>y_coord=%{y}<br>z_coord=%{z}<extra></extra>",
         "legendgroup": "A11C, C",
         "marker": {
          "color": "#636efa",
          "size": 3,
          "symbol": "diamond"
         },
         "mode": "markers",
         "name": "A11C, C",
         "scene": "scene",
         "showlegend": true,
         "type": "scatter3d",
         "x": [
          6.819,
          5.492,
          4.425,
          3.149,
          3.437,
          1.301,
          1.065,
          2.375,
          3.19
         ],
         "y": [
          -16.607,
          -16.314,
          -17.415,
          -16.612,
          -15.231,
          -14.627,
          -14.644,
          -15.021,
          -15.202
         ],
         "z": [
          -5.428,
          -4.705,
          -4.807,
          -4.551,
          -5.147,
          -6.286,
          -8.695,
          -8.849,
          -7.766
         ]
        },
        {
         "hovertemplate": "node_id=A11C<br>element_symbol=O<br>x_coord=%{x}<br>y_coord=%{y}<br>z_coord=%{z}<extra></extra>",
         "legendgroup": "A11C, O",
         "marker": {
          "color": "#636efa",
          "size": 3,
          "symbol": "square"
         },
         "mode": "markers",
         "name": "A11C, O",
         "scene": "scene",
         "showlegend": true,
         "type": "scatter3d",
         "x": [
          6.616,
          4.869,
          4.54,
          2.902,
          0.754,
          8.992,
          7.321
         ],
         "y": [
          -16.689,
          -15.155,
          -18.499,
          -16.463,
          -14.501,
          -17.412,
          -16.911
         ],
         "z": [
          -6.85,
          -5.306,
          -3.861,
          -3.154,
          -5.189,
          -7.529,
          -9.308
         ]
        },
        {
         "hovertemplate": "node_id=A11C<br>element_symbol=N<br>x_coord=%{x}<br>y_coord=%{y}<br>z_coord=%{z}<extra></extra>",
         "legendgroup": "A11C, N",
         "marker": {
          "color": "#636efa",
          "size": 3,
          "symbol": "x"
         },
         "mode": "markers",
         "name": "A11C, N",
         "scene": "scene",
         "showlegend": true,
         "type": "scatter3d",
         "x": [
          2.645,
          0.542,
          0.226
         ],
         "y": [
          -14.978,
          -14.445,
          -14.457
         ],
         "z": [
          -6.39,
          -7.525,
          -9.815
         ]
        },
        {
         "hovertemplate": "node_id=A11C<br>element_symbol=H<br>x_coord=%{x}<br>y_coord=%{y}<br>z_coord=%{z}<extra></extra>",
         "legendgroup": "A11C, H",
         "marker": {
          "color": "#636efa",
          "size": 3,
          "symbol": "cross"
         },
         "mode": "markers",
         "name": "A11C, H",
         "scene": "scene",
         "showlegend": true,
         "type": "scatter3d",
         "x": [
          3.682,
          2.793,
          4.226,
          3.153,
          2.285,
          4.468,
          5.704,
          -0.748,
          7.544,
          0.608,
          7.27
         ],
         "y": [
          -16.035,
          -15.185,
          -15.513,
          -14.461,
          -17.112,
          -17.807,
          -16.096,
          -14.175,
          -15.804,
          -14.61,
          -17.544
         ],
         "z": [
          -2.792,
          -9.844,
          -7.904,
          -4.41,
          -5.017,
          -5.84,
          -3.639,
          -9.665,
          -5.199,
          -10.754,
          -5.056
         ]
        },
        {
         "hovertemplate": "node_id=A12U<br>element_symbol=P<br>x_coord=%{x}<br>y_coord=%{y}<br>z_coord=%{z}<extra></extra>",
         "legendgroup": "A12U, P",
         "marker": {
          "color": "#EF553B",
          "size": 3,
          "symbol": "circle"
         },
         "mode": "markers",
         "name": "A12U, P",
         "scene": "scene",
         "showlegend": true,
         "type": "scatter3d",
         "x": [
          3.656
         ],
         "y": [
          -19.871
         ],
         "z": [
          -3.995
         ]
        },
        {
         "hovertemplate": "node_id=A12U<br>element_symbol=C<br>x_coord=%{x}<br>y_coord=%{y}<br>z_coord=%{z}<extra></extra>",
         "legendgroup": "A12U, C",
         "marker": {
          "color": "#EF553B",
          "size": 3,
          "symbol": "diamond"
         },
         "mode": "markers",
         "name": "A12U, C",
         "scene": "scene",
         "showlegend": true,
         "type": "scatter3d",
         "x": [
          1.167,
          -0.207,
          -1.114,
          -2.065,
          -1.144,
          -1.403,
          0.313,
          1.194,
          0.702
         ],
         "y": [
          -19.21,
          -18.686,
          -19.744,
          -18.868,
          -17.747,
          -17.536,
          -18.188,
          -18.632,
          -18.484
         ],
         "z": [
          -3.101,
          -3.594,
          -4.243,
          -5.081,
          -5.572,
          -8.071,
          -9.643,
          -8.446,
          -7.195
         ]
        },
        {
         "hovertemplate": "node_id=A12U<br>element_symbol=O<br>x_coord=%{x}<br>y_coord=%{y}<br>z_coord=%{z}<extra></extra>",
         "legendgroup": "A12U, O",
         "marker": {
          "color": "#EF553B",
          "size": 3,
          "symbol": "square"
         },
         "mode": "markers",
         "name": "A12U, O",
         "scene": "scene",
         "showlegend": true,
         "type": "scatter3d",
         "x": [
          2.062,
          -0.085,
          -1.776,
          -3.092,
          -2.534,
          0.696,
          3.87,
          4.139
         ],
         "y": [
          -19.55,
          -17.634,
          -20.514,
          -18.33,
          -17.071,
          -18.29,
          -20.733,
          -20.648
         ],
         "z": [
          -4.179,
          -4.578,
          -3.22,
          -4.256,
          -7.953,
          -10.806,
          -2.748,
          -5.222
         ]
        },
        {
         "hovertemplate": "node_id=A12U<br>element_symbol=N<br>x_coord=%{x}<br>y_coord=%{y}<br>z_coord=%{z}<extra></extra>",
         "legendgroup": "A12U, N",
         "marker": {
          "color": "#EF553B",
          "size": 3,
          "symbol": "x"
         },
         "mode": "markers",
         "name": "A12U, N",
         "scene": "scene",
         "showlegend": true,
         "type": "scatter3d",
         "x": [
          -0.637,
          -0.917
         ],
         "y": [
          -17.918,
          -17.672
         ],
         "z": [
          -6.973,
          -9.346
         ]
        },
        {
         "hovertemplate": "node_id=A12U<br>element_symbol=H<br>x_coord=%{x}<br>y_coord=%{y}<br>z_coord=%{z}<extra></extra>",
         "legendgroup": "A12U, H",
         "marker": {
          "color": "#EF553B",
          "size": 3,
          "symbol": "cross"
         },
         "mode": "markers",
         "name": "A12U, H",
         "scene": "scene",
         "showlegend": true,
         "type": "scatter3d",
         "x": [
          -3.608,
          -1.515,
          2.186,
          1.244,
          -1.721,
          -2.557,
          -0.496,
          -0.732,
          1.637,
          1.024
         ],
         "y": [
          -19.081,
          -17.376,
          -19.049,
          -18.755,
          -16.827,
          -19.358,
          -20.397,
          -18.26,
          -18.452,
          -20.093
         ],
         "z": [
          -3.952,
          -10.123,
          -8.619,
          -6.308,
          -5.56,
          -5.936,
          -4.891,
          -2.717,
          -2.452,
          -2.451
         ]
        },
        {
         "hovertemplate": "node_id=A13U<br>element_symbol=P<br>x_coord=%{x}<br>y_coord=%{y}<br>z_coord=%{z}<extra></extra>",
         "legendgroup": "A13U, P",
         "marker": {
          "color": "#00cc96",
          "size": 3,
          "symbol": "circle"
         },
         "mode": "markers",
         "name": "A13U, P",
         "scene": "scene",
         "showlegend": true,
         "type": "scatter3d",
         "x": [
          -2.65
         ],
         "y": [
          -21.854
         ],
         "z": [
          -3.478
         ]
        },
        {
         "hovertemplate": "node_id=A13U<br>element_symbol=C<br>x_coord=%{x}<br>y_coord=%{y}<br>z_coord=%{z}<extra></extra>",
         "legendgroup": "A13U, C",
         "marker": {
          "color": "#00cc96",
          "size": 3,
          "symbol": "diamond"
         },
         "mode": "markers",
         "name": "A13U, C",
         "scene": "scene",
         "showlegend": true,
         "type": "scatter3d",
         "x": [
          -5.223,
          -6.612,
          -7.077,
          -7.337,
          -7.349,
          -7.65,
          -5.775,
          -4.816,
          -5.351
         ],
         "y": [
          -22.434,
          -21.789,
          -20.902,
          -19.524,
          -19.778,
          -17.69,
          -16.368,
          -17.403,
          -18.467
         ],
         "z": [
          -3.952,
          -3.771,
          -4.945,
          -4.311,
          -2.795,
          -1.419,
          -0.645,
          -1.293,
          -1.937
         ]
        },
        {
         "hovertemplate": "node_id=A13U<br>element_symbol=O<br>x_coord=%{x}<br>y_coord=%{y}<br>z_coord=%{z}<extra></extra>",
         "legendgroup": "A13U, O",
         "marker": {
          "color": "#00cc96",
          "size": 3,
          "symbol": "square"
         },
         "mode": "markers",
         "name": "A13U, O",
         "scene": "scene",
         "showlegend": true,
         "type": "scatter3d",
         "x": [
          -4.165,
          -6.593,
          -8.282,
          -8.562,
          -8.879,
          -5.355,
          -2.687,
          -2.001
         ],
         "y": [
          -21.455,
          -20.981,
          -21.446,
          -18.931,
          -17.773,
          -15.374,
          -22.658,
          -22.707
         ],
         "z": [
          -3.907,
          -2.585,
          -5.522,
          -4.73,
          -1.476,
          -0.057,
          -2.175,
          -4.572
         ]
        },
        {
         "hovertemplate": "node_id=A13U<br>element_symbol=N<br>x_coord=%{x}<br>y_coord=%{y}<br>z_coord=%{z}<extra></extra>",
         "legendgroup": "A13U, N",
         "marker": {
          "color": "#00cc96",
          "size": 3,
          "symbol": "x"
         },
         "mode": "markers",
         "name": "A13U, N",
         "scene": "scene",
         "showlegend": true,
         "type": "scatter3d",
         "x": [
          -6.812,
          -7.118
         ],
         "y": [
          -18.632,
          -16.61
         ],
         "z": [
          -2.008,
          -0.763
         ]
        },
        {
         "hovertemplate": "node_id=A13U<br>element_symbol=H<br>x_coord=%{x}<br>y_coord=%{y}<br>z_coord=%{z}<extra></extra>",
         "legendgroup": "A13U, H",
         "marker": {
          "color": "#00cc96",
          "size": 3,
          "symbol": "cross"
         },
         "mode": "markers",
         "name": "A13U, H",
         "scene": "scene",
         "showlegend": true,
         "type": "scatter3d",
         "x": [
          -8.626,
          -7.766,
          -3.737,
          -4.771,
          -8.359,
          -6.509,
          -6.292,
          -7.343,
          -5.08,
          -5.175
         ],
         "y": [
          -18.095,
          -15.933,
          -17.263,
          -19.237,
          -20.006,
          -18.839,
          -20.804,
          -22.605,
          -23.182,
          -23
         ],
         "z": [
          -4.262,
          -0.347,
          -1.233,
          -2.435,
          -2.453,
          -4.572,
          -5.715,
          -3.614,
          -3.149,
          -4.901
         ]
        },
        {
         "hovertemplate": "node_id=A14C<br>element_symbol=P<br>x_coord=%{x}<br>y_coord=%{y}<br>z_coord=%{z}<extra></extra>",
         "legendgroup": "A14C, P",
         "marker": {
          "color": "#ab63fa",
          "size": 3,
          "symbol": "circle"
         },
         "mode": "markers",
         "name": "A14C, P",
         "scene": "scene",
         "showlegend": true,
         "type": "scatter3d",
         "x": [
          -8.364
         ],
         "y": [
          -21.966
         ],
         "z": [
          -7.058
         ]
        },
        {
         "hovertemplate": "node_id=A14C<br>element_symbol=C<br>x_coord=%{x}<br>y_coord=%{y}<br>z_coord=%{z}<extra></extra>",
         "legendgroup": "A14C, C",
         "marker": {
          "color": "#ab63fa",
          "size": 3,
          "symbol": "diamond"
         },
         "mode": "markers",
         "name": "A14C, C",
         "scene": "scene",
         "showlegend": true,
         "type": "scatter3d",
         "x": [
          -8.433,
          -7.624,
          -7.595,
          -6.275,
          -5.358,
          -3.094,
          -2.091,
          -3.171,
          -4.215
         ],
         "y": [
          -19.569,
          -18.679,
          -19.141,
          -19.907,
          -19.117,
          -20.179,
          -21.505,
          -21.262,
          -20.499
         ],
         "z": [
          -8.262,
          -9.227,
          -10.699,
          -10.785,
          -9.832,
          -10.157,
          -8.383,
          -7.577,
          -7.996
         ]
        },
        {
         "hovertemplate": "node_id=A14C<br>element_symbol=O<br>x_coord=%{x}<br>y_coord=%{y}<br>z_coord=%{z}<extra></extra>",
         "legendgroup": "A14C, O",
         "marker": {
          "color": "#ab63fa",
          "size": 3,
          "symbol": "square"
         },
         "mode": "markers",
         "name": "A14C, O",
         "scene": "scene",
         "showlegend": true,
         "type": "scatter3d",
         "x": [
          -7.8,
          -6.243,
          -7.545,
          -5.77,
          -3.001,
          -9.818,
          -7.517
         ],
         "y": [
          -20.842,
          -18.629,
          -18.001,
          -19.965,
          -19.703,
          -22.294,
          -23.231
         ],
         "z": [
          -8.078,
          -8.79,
          -11.586,
          -12.115,
          -11.292,
          -7.404,
          -7.203
         ]
        },
        {
         "hovertemplate": "node_id=A14C<br>element_symbol=N<br>x_coord=%{x}<br>y_coord=%{y}<br>z_coord=%{z}<extra></extra>",
         "legendgroup": "A14C, N",
         "marker": {
          "color": "#ab63fa",
          "size": 3,
          "symbol": "x"
         },
         "mode": "markers",
         "name": "A14C, N",
         "scene": "scene",
         "showlegend": true,
         "type": "scatter3d",
         "x": [
          -4.206,
          -2.02,
          -1.013
         ],
         "y": [
          -19.927,
          -21.03,
          -22.279
         ],
         "z": [
          -9.353,
          -9.595,
          -7.894
         ]
        },
        {
         "hovertemplate": "node_id=A14C<br>element_symbol=H<br>x_coord=%{x}<br>y_coord=%{y}<br>z_coord=%{z}<extra></extra>",
         "legendgroup": "A14C, H",
         "marker": {
          "color": "#ab63fa",
          "size": 3,
          "symbol": "cross"
         },
         "mode": "markers",
         "name": "A14C, H",
         "scene": "scene",
         "showlegend": true,
         "type": "scatter3d",
         "x": [
          -5.67,
          -3.237,
          -5.054,
          -4.928,
          -6.417,
          -8.447,
          -8.087,
          -0.207,
          -8.522,
          -1.059,
          -9.466
         ],
         "y": [
          -19.054,
          -21.633,
          -20.277,
          -18.219,
          -20.936,
          -19.797,
          -17.674,
          -22.453,
          -19.056,
          -22.652,
          -19.705
         ],
         "z": [
          -12.4,
          -6.563,
          -7.355,
          -10.291,
          -10.399,
          -10.958,
          -9.169,
          -8.505,
          -7.288,
          -6.939,
          -8.632
         ]
        },
        {
         "hovertemplate": "node_id=B15G<br>element_symbol=P<br>x_coord=%{x}<br>y_coord=%{y}<br>z_coord=%{z}<extra></extra>",
         "legendgroup": "B15G, P",
         "marker": {
          "color": "#FFA15A",
          "size": 3,
          "symbol": "circle"
         },
         "mode": "markers",
         "name": "B15G, P",
         "scene": "scene",
         "showlegend": true,
         "type": "scatter3d",
         "x": [
          -8.841
         ],
         "y": [
          -17.422
         ],
         "z": [
          -12.363
         ]
        },
        {
         "hovertemplate": "node_id=B15G<br>element_symbol=C<br>x_coord=%{x}<br>y_coord=%{y}<br>z_coord=%{z}<extra></extra>",
         "legendgroup": "B15G, C",
         "marker": {
          "color": "#FFA15A",
          "size": 3,
          "symbol": "diamond"
         },
         "mode": "markers",
         "name": "B15G, C",
         "scene": "scene",
         "showlegend": true,
         "type": "scatter3d",
         "x": [
          -9.518,
          -10.375,
          -10.22,
          -10.739,
          -10.302,
          -5.678,
          -7.733,
          -7.024,
          -5.497,
          -9.042
         ],
         "y": [
          -15.395,
          -15.168,
          -13.767,
          -13.973,
          -15.419,
          -15.642,
          -15.5,
          -15.705,
          -15.953,
          -15.633
         ],
         "z": [
          -10.764,
          -9.512,
          -8.906,
          -7.485,
          -7.18,
          -7.849,
          -6.593,
          -5.361,
          -5.373,
          -4.934
         ]
        },
        {
         "hovertemplate": "node_id=B15G<br>element_symbol=O<br>x_coord=%{x}<br>y_coord=%{y}<br>z_coord=%{z}<extra></extra>",
         "legendgroup": "B15G, O",
         "marker": {
          "color": "#FFA15A",
          "size": 3,
          "symbol": "square"
         },
         "mode": "markers",
         "name": "B15G, O",
         "scene": "scene",
         "showlegend": true,
         "type": "scatter3d",
         "x": [
          -9.815,
          -10.049,
          -10.951,
          -12.161,
          -4.843,
          -8.385,
          -9.596
         ],
         "y": [
          -16.686,
          -16.077,
          -12.761,
          -13.877,
          -16.141,
          -16.427,
          -18.569
         ],
         "z": [
          -11.309,
          -8.445,
          -9.633,
          -7.44,
          -4.349,
          -13.434,
          -13.039
         ]
        },
        {
         "hovertemplate": "node_id=B15G<br>element_symbol=N<br>x_coord=%{x}<br>y_coord=%{y}<br>z_coord=%{z}<extra></extra>",
         "legendgroup": "B15G, N",
         "marker": {
          "color": "#FFA15A",
          "size": 3,
          "symbol": "x"
         },
         "mode": "markers",
         "name": "B15G, N",
         "scene": "scene",
         "showlegend": true,
         "type": "scatter3d",
         "x": [
          -4.92,
          -5.006,
          -6.957,
          -7.851,
          -9.096
         ],
         "y": [
          -15.944,
          -15.563,
          -15.447,
          -15.76,
          -15.497
         ],
         "z": [
          -6.611,
          -9.087,
          -7.81,
          -4.26,
          -6.305
         ]
        },
        {
         "hovertemplate": "node_id=B15G<br>element_symbol=H<br>x_coord=%{x}<br>y_coord=%{y}<br>z_coord=%{z}<extra></extra>",
         "legendgroup": "B15G, H",
         "marker": {
          "color": "#FFA15A",
          "size": 3,
          "symbol": "cross"
         },
         "mode": "markers",
         "name": "B15G, H",
         "scene": "scene",
         "showlegend": true,
         "type": "scatter3d",
         "x": [
          -12.491,
          -3.918,
          -9.975,
          -11.121,
          -10.316,
          -3.992,
          -9.146,
          -5.546,
          -11.421,
          -9.741,
          -8.441
         ],
         "y": [
          -14.533,
          -16.171,
          -15.685,
          -15.953,
          -13.213,
          -15.716,
          -13.502,
          -15.352,
          -15.368,
          -14.62,
          -15.296
         ],
         "z": [
          -8.057,
          -6.621,
          -4.396,
          -6.659,
          -6.803,
          -9.114,
          -8.849,
          -9.934,
          -9.787,
          -11.525,
          -10.533
         ]
        },
        {
         "hovertemplate": "node_id=B16G<br>element_symbol=P<br>x_coord=%{x}<br>y_coord=%{y}<br>z_coord=%{z}<extra></extra>",
         "legendgroup": "B16G, P",
         "marker": {
          "color": "#19d3f3",
          "size": 3,
          "symbol": "circle"
         },
         "mode": "markers",
         "name": "B16G, P",
         "scene": "scene",
         "showlegend": true,
         "type": "scatter3d",
         "x": [
          -10.604
         ],
         "y": [
          -11.186
         ],
         "z": [
          -9.475
         ]
        },
        {
         "hovertemplate": "node_id=B16G<br>element_symbol=C<br>x_coord=%{x}<br>y_coord=%{y}<br>z_coord=%{z}<extra></extra>",
         "legendgroup": "B16G, C",
         "marker": {
          "color": "#19d3f3",
          "size": 3,
          "symbol": "diamond"
         },
         "mode": "markers",
         "name": "B16G, C",
         "scene": "scene",
         "showlegend": true,
         "type": "scatter3d",
         "x": [
          -9.805,
          -9.199,
          -8.051,
          -7.189,
          -7.33,
          -2.919,
          -4.943,
          -4.367,
          -2.928,
          -6.334
         ],
         "y": [
          -9.791,
          -10.336,
          -9.477,
          -10.507,
          -11.755,
          -13.239,
          -12.265,
          -12.218,
          -12.736,
          -11.608
         ],
         "z": [
          -7.298,
          -5.988,
          -5.442,
          -4.705,
          -5.59,
          -5.676,
          -6.558,
          -7.878,
          -8.123,
          -8.012
         ]
        },
        {
         "hovertemplate": "node_id=B16G<br>element_symbol=O<br>x_coord=%{x}<br>y_coord=%{y}<br>z_coord=%{z}<extra></extra>",
         "legendgroup": "B16G, O",
         "marker": {
          "color": "#19d3f3",
          "size": 3,
          "symbol": "square"
         },
         "mode": "markers",
         "name": "B16G, O",
         "scene": "scene",
         "showlegend": true,
         "type": "scatter3d",
         "x": [
          -10.644,
          -8.629,
          -8.522,
          -7.709,
          -2.382,
          -11.641,
          -9.216
         ],
         "y": [
          -10.791,
          -11.646,
          -8.401,
          -10.776,
          -12.744,
          -10.357,
          -10.922
         ],
         "z": [
          -7.898,
          -6.2,
          -4.607,
          -3.405,
          -9.225,
          -10.234,
          -10.067
         ]
        },
        {
         "hovertemplate": "node_id=B16G<br>element_symbol=N<br>x_coord=%{x}<br>y_coord=%{y}<br>z_coord=%{z}<extra></extra>",
         "legendgroup": "B16G, N",
         "marker": {
          "color": "#19d3f3",
          "size": 3,
          "symbol": "x"
         },
         "mode": "markers",
         "name": "B16G, N",
         "scene": "scene",
         "showlegend": true,
         "type": "scatter3d",
         "x": [
          -2.297,
          -2.205,
          -4.114,
          -5.254,
          -6.264
         ],
         "y": [
          -13.209,
          -13.801,
          -12.774,
          -11.79,
          -11.842
         ],
         "z": [
          -7.013,
          -4.604,
          -5.487,
          -8.843,
          -6.646
         ]
        },
        {
         "hovertemplate": "node_id=B16G<br>element_symbol=H<br>x_coord=%{x}<br>y_coord=%{y}<br>z_coord=%{z}<extra></extra>",
         "legendgroup": "B16G, H",
         "marker": {
          "color": "#19d3f3",
          "size": 3,
          "symbol": "cross"
         },
         "mode": "markers",
         "name": "B16G, H",
         "scene": "scene",
         "showlegend": true,
         "type": "scatter3d",
         "x": [
          -8.617,
          -1.35,
          -7.284,
          -7.293,
          -6.144,
          -1.263,
          -7.467,
          -2.641,
          -9.999,
          -10.396,
          -9.002
         ],
         "y": [
          -11.061,
          -13.569,
          -11.334,
          -12.674,
          -10.17,
          -14.172,
          -9.08,
          -13.829,
          -10.432,
          -8.879,
          -9.49
         ],
         "z": [
          -3.538,
          -7.177,
          -8.446,
          -4.973,
          -4.609,
          -4.772,
          -6.293,
          -3.676,
          -5.229,
          -7.102,
          -7.996
         ]
        },
        {
         "hovertemplate": "node_id=B17G<br>element_symbol=P<br>x_coord=%{x}<br>y_coord=%{y}<br>z_coord=%{z}<extra></extra>",
         "legendgroup": "B17G, P",
         "marker": {
          "color": "#FF6692",
          "size": 3,
          "symbol": "circle"
         },
         "mode": "markers",
         "name": "B17G, P",
         "scene": "scene",
         "showlegend": true,
         "type": "scatter3d",
         "x": [
          -7.659
         ],
         "y": [
          -7.049
         ],
         "z": [
          -4.342
         ]
        },
        {
         "hovertemplate": "node_id=B17G<br>element_symbol=C<br>x_coord=%{x}<br>y_coord=%{y}<br>z_coord=%{z}<extra></extra>",
         "legendgroup": "B17G, C",
         "marker": {
          "color": "#FF6692",
          "size": 3,
          "symbol": "diamond"
         },
         "mode": "markers",
         "name": "B17G, C",
         "scene": "scene",
         "showlegend": true,
         "type": "scatter3d",
         "x": [
          -6.494,
          -5.214,
          -3.956,
          -2.848,
          -3.458,
          0.291,
          -1.861,
          -1.982,
          -0.858,
          -3.699
         ],
         "y": [
          -7.8,
          -8.513,
          -7.63,
          -8.672,
          -9.692,
          -10.871,
          -9.864,
          -9.515,
          -9.9,
          -8.919
         ],
         "z": [
          -2.053,
          -1.586,
          -1.519,
          -1.679,
          -2.653,
          -5.11,
          -4.713,
          -6.103,
          -7.102,
          -5.128
         ]
        },
        {
         "hovertemplate": "node_id=B17G<br>element_symbol=O<br>x_coord=%{x}<br>y_coord=%{y}<br>z_coord=%{z}<extra></extra>",
         "legendgroup": "B17G, O",
         "marker": {
          "color": "#FF6692",
          "size": 3,
          "symbol": "square"
         },
         "mode": "markers",
         "name": "B17G, O",
         "scene": "scene",
         "showlegend": true,
         "type": "scatter3d",
         "x": [
          -6.372,
          -4.889,
          -3.867,
          -2.553,
          -0.892,
          -8.542,
          -7.186
         ],
         "y": [
          -7.382,
          -9.588,
          -6.89,
          -9.313,
          -9.662,
          -6.019,
          -6.468
         ],
         "z": [
          -3.421,
          -2.493,
          -0.285,
          -0.44,
          -8.307,
          -3.635,
          -5.677
         ]
        },
        {
         "hovertemplate": "node_id=B17G<br>element_symbol=N<br>x_coord=%{x}<br>y_coord=%{y}<br>z_coord=%{z}<extra></extra>",
         "legendgroup": "B17G, N",
         "marker": {
          "color": "#FF6692",
          "size": 3,
          "symbol": "x"
         },
         "mode": "markers",
         "name": "B17G, N",
         "scene": "scene",
         "showlegend": true,
         "type": "scatter3d",
         "x": [
          0.199,
          1.445,
          -0.663,
          -3.177,
          -3.019
         ],
         "y": [
          -10.551,
          -11.509,
          -10.555,
          -8.892,
          -9.459
         ],
         "z": [
          -6.546,
          -4.625,
          -4.295,
          -6.402,
          -4.062
         ]
        },
        {
         "hovertemplate": "node_id=B17G<br>element_symbol=H<br>x_coord=%{x}<br>y_coord=%{y}<br>z_coord=%{z}<extra></extra>",
         "legendgroup": "B17G, H",
         "marker": {
          "color": "#FF6692",
          "size": 3,
          "symbol": "cross"
         },
         "mode": "markers",
         "name": "B17G, H",
         "scene": "scene",
         "showlegend": true,
         "type": "scatter3d",
         "x": [
          -3.379,
          0.946,
          -4.701,
          -3.154,
          -1.932,
          2.196,
          -3.933,
          1.512,
          -5.403,
          -7.354,
          -6.714
         ],
         "y": [
          -9.694,
          -10.798,
          -8.595,
          -10.709,
          -8.21,
          -11.748,
          -6.938,
          -11.724,
          -8.951,
          -8.488,
          -6.928
         ],
         "z": [
          -0.135,
          -7.203,
          -4.928,
          -2.395,
          -2.073,
          -5.282,
          -2.384,
          -3.624,
          -0.587,
          -1.944,
          -1.41
         ]
        },
        {
         "hovertemplate": "node_id=B18U<br>element_symbol=P<br>x_coord=%{x}<br>y_coord=%{y}<br>z_coord=%{z}<extra></extra>",
         "legendgroup": "B18U, P",
         "marker": {
          "color": "#B6E880",
          "size": 3,
          "symbol": "circle"
         },
         "mode": "markers",
         "name": "B18U, P",
         "scene": "scene",
         "showlegend": true,
         "type": "scatter3d",
         "x": [
          -2.94
         ],
         "y": [
          -5.563
         ],
         "z": [
          -0.115
         ]
        },
        {
         "hovertemplate": "node_id=B18U<br>element_symbol=C<br>x_coord=%{x}<br>y_coord=%{y}<br>z_coord=%{z}<extra></extra>",
         "legendgroup": "B18U, C",
         "marker": {
          "color": "#B6E880",
          "size": 3,
          "symbol": "diamond"
         },
         "mode": "markers",
         "name": "B18U, C",
         "scene": "scene",
         "showlegend": true,
         "type": "scatter3d",
         "x": [
          -0.686,
          0.567,
          1.714,
          2.468,
          1.347,
          1.844,
          0.45,
          -0.478,
          -0.179
         ],
         "y": [
          -6.74,
          -7.41,
          -6.467,
          -7.298,
          -8.074,
          -7.789,
          -6.571,
          -6.184,
          -6.631
         ],
         "z": [
          0.753,
          0.156,
          -0.222,
          -1.262,
          -1.981,
          -4.41,
          -5.961,
          -4.783,
          -3.54
         ]
        },
        {
         "hovertemplate": "node_id=B18U<br>element_symbol=O<br>x_coord=%{x}<br>y_coord=%{y}<br>z_coord=%{z}<extra></extra>",
         "legendgroup": "B18U, O",
         "marker": {
          "color": "#B6E880",
          "size": 3,
          "symbol": "square"
         },
         "mode": "markers",
         "name": "B18U, O",
         "scene": "scene",
         "showlegend": true,
         "type": "scatter3d",
         "x": [
          -1.369,
          0.232,
          2.54,
          3.362,
          2.869,
          0.222,
          -3.21,
          -3.29
         ],
         "y": [
          -5.949,
          -8.09,
          -6.123,
          -8.222,
          -8.467,
          -6.216,
          -4.932,
          -4.551
         ],
         "z": [
          -0.234,
          -1.067,
          0.909,
          -0.647,
          -4.306,
          -7.117,
          1.253,
          -1.209
         ]
        },
        {
         "hovertemplate": "node_id=B18U<br>element_symbol=N<br>x_coord=%{x}<br>y_coord=%{y}<br>z_coord=%{z}<extra></extra>",
         "legendgroup": "B18U, N",
         "marker": {
          "color": "#B6E880",
          "size": 3,
          "symbol": "x"
         },
         "mode": "markers",
         "name": "B18U, N",
         "scene": "scene",
         "showlegend": true,
         "type": "scatter3d",
         "x": [
          1.015,
          1.543
         ],
         "y": [
          -7.501,
          -7.328
         ],
         "z": [
          -3.327,
          -5.655
         ]
        },
        {
         "hovertemplate": "node_id=B18U<br>element_symbol=H<br>x_coord=%{x}<br>y_coord=%{y}<br>z_coord=%{z}<extra></extra>",
         "legendgroup": "B18U, H",
         "marker": {
          "color": "#B6E880",
          "size": 3,
          "symbol": "cross"
         },
         "mode": "markers",
         "name": "B18U, H",
         "scene": "scene",
         "showlegend": true,
         "type": "scatter3d",
         "x": [
          2.825,
          2.199,
          -1.353,
          -0.818,
          1.631,
          3.044,
          1.303,
          0.938,
          -1.364,
          -0.417
         ],
         "y": [
          -8.76,
          -7.579,
          -5.56,
          -6.35,
          -9.134,
          -6.648,
          -5.556,
          -8.161,
          -7.52,
          -6.109
         ],
         "z": [
          -0.06,
          -6.407,
          -4.961,
          -2.706,
          -2.126,
          -1.943,
          -0.702,
          0.881,
          1.143,
          1.62
         ]
        },
        {
         "hovertemplate": "node_id=B19G<br>element_symbol=P<br>x_coord=%{x}<br>y_coord=%{y}<br>z_coord=%{z}<extra></extra>",
         "legendgroup": "B19G, P",
         "marker": {
          "color": "#FF97FF",
          "size": 3,
          "symbol": "circle"
         },
         "mode": "markers",
         "name": "B19G, P",
         "scene": "scene",
         "showlegend": true,
         "type": "scatter3d",
         "x": [
          3.352
         ],
         "y": [
          -4.72
         ],
         "z": [
          1.038
         ]
        },
        {
         "hovertemplate": "node_id=B19G<br>element_symbol=C<br>x_coord=%{x}<br>y_coord=%{y}<br>z_coord=%{z}<extra></extra>",
         "legendgroup": "B19G, C",
         "marker": {
          "color": "#FF97FF",
          "size": 3,
          "symbol": "diamond"
         },
         "mode": "markers",
         "name": "B19G, C",
         "scene": "scene",
         "showlegend": true,
         "type": "scatter3d",
         "x": [
          5.736,
          6.291,
          6.65,
          6.665,
          5.843,
          5.446,
          4.725,
          3.403,
          3.064,
          3.417
         ],
         "y": [
          -5.981,
          -5.552,
          -4.072,
          -3.871,
          -5.067,
          -4.582,
          -4.532,
          -4.132,
          -3.953,
          -4.308
         ],
         "z": [
          0.679,
          -0.702,
          -0.859,
          -2.385,
          -2.923,
          -7.538,
          -5.231,
          -5.634,
          -7.136,
          -3.578
         ]
        },
        {
         "hovertemplate": "node_id=B19G<br>element_symbol=O<br>x_coord=%{x}<br>y_coord=%{y}<br>z_coord=%{z}<extra></extra>",
         "legendgroup": "B19G, O",
         "marker": {
          "color": "#FF97FF",
          "size": 3,
          "symbol": "square"
         },
         "mode": "markers",
         "name": "B19G, O",
         "scene": "scene",
         "showlegend": true,
         "type": "scatter3d",
         "x": [
          4.917,
          5.349,
          7.893,
          7.989,
          1.95,
          2.758,
          3.235
         ],
         "y": [
          -5.003,
          -5.771,
          -3.752,
          -3.91,
          -3.644,
          -3.912,
          -3.894
         ],
         "z": [
          1.352,
          -1.762,
          -0.213,
          -2.914,
          -7.556,
          2.193,
          -0.244
         ]
        },
        {
         "hovertemplate": "node_id=B19G<br>element_symbol=N<br>x_coord=%{x}<br>y_coord=%{y}<br>z_coord=%{z}<extra></extra>",
         "legendgroup": "B19G, N",
         "marker": {
          "color": "#FF97FF",
          "size": 3,
          "symbol": "x"
         },
         "mode": "markers",
         "name": "B19G, N",
         "scene": "scene",
         "showlegend": true,
         "type": "scatter3d",
         "x": [
          4.102,
          6.441,
          5.71,
          2.535,
          4.737
         ],
         "y": [
          -4.176,
          -4.809,
          -4.736,
          -3.972,
          -4.649
         ],
         "z": [
          -7.983,
          -8.514,
          -6.276,
          -4.577,
          -3.841
         ]
        },
        {
         "hovertemplate": "node_id=B19G<br>element_symbol=H<br>x_coord=%{x}<br>y_coord=%{y}<br>z_coord=%{z}<extra></extra>",
         "legendgroup": "B19G, H",
         "marker": {
          "color": "#FF97FF",
          "size": 3,
          "symbol": "cross"
         },
         "mode": "markers",
         "name": "B19G, H",
         "scene": "scene",
         "showlegend": true,
         "type": "scatter3d",
         "x": [
          8.458,
          3.875,
          3.049,
          6.504,
          6.219,
          6.206,
          5.832,
          7.38,
          7.185,
          5.202,
          6.597
         ],
         "y": [
          -3.178,
          -4.07,
          -4.347,
          -5.764,
          -2.888,
          -4.683,
          -3.453,
          -5.094,
          -6.176,
          -6.945,
          -6.191
         ],
         "z": [
          -2.507,
          -8.978,
          -2.567,
          -3.475,
          -2.631,
          -9.505,
          -0.442,
          -8.212,
          -0.906,
          0.603,
          1.339
         ]
        },
        {
         "hovertemplate": "node_id=B20A<br>element_symbol=P<br>x_coord=%{x}<br>y_coord=%{y}<br>z_coord=%{z}<extra></extra>",
         "legendgroup": "B20A, P",
         "marker": {
          "color": "#FECB52",
          "size": 3,
          "symbol": "circle"
         },
         "mode": "markers",
         "name": "B20A, P",
         "scene": "scene",
         "showlegend": true,
         "type": "scatter3d",
         "x": [
          8.13
         ],
         "y": [
          -2.314
         ],
         "z": [
          0.487
         ]
        },
        {
         "hovertemplate": "node_id=B20A<br>element_symbol=C<br>x_coord=%{x}<br>y_coord=%{y}<br>z_coord=%{z}<extra></extra>",
         "legendgroup": "B20A, C",
         "marker": {
          "color": "#FECB52",
          "size": 3,
          "symbol": "diamond"
         },
         "mode": "markers",
         "name": "B20A, C",
         "scene": "scene",
         "showlegend": true,
         "type": "scatter3d",
         "x": [
          7.792,
          9.1,
          9.069,
          10.076,
          9.921,
          10.411,
          9.328,
          8.167,
          8.279,
          7.706
         ],
         "y": [
          0.224,
          0.525,
          1.836,
          1.559,
          0.048,
          -0.34,
          -0.383,
          -0.94,
          -1.156,
          -0.742
         ],
         "z": [
          -0.4,
          -1.171,
          -1.971,
          -3.093,
          -3.343,
          -7.941,
          -5.855,
          -6.545,
          -7.974,
          -4.527
         ]
        },
        {
         "hovertemplate": "node_id=B20A<br>element_symbol=O<br>x_coord=%{x}<br>y_coord=%{y}<br>z_coord=%{z}<extra></extra>",
         "legendgroup": "B20A, O",
         "marker": {
          "color": "#FECB52",
          "size": 3,
          "symbol": "square"
         },
         "mode": "markers",
         "name": "B20A, O",
         "scene": "scene",
         "showlegend": true,
         "type": "scatter3d",
         "x": [
          7.459,
          9.399,
          9.405,
          11.405,
          9.634,
          7.466
         ],
         "y": [
          -1.17,
          -0.514,
          2.964,
          1.847,
          -2.072,
          -2.3
         ],
         "z": [
          -0.446,
          -2.126,
          -1.134,
          -2.666,
          0.64,
          1.866
         ]
        },
        {
         "hovertemplate": "node_id=B20A<br>element_symbol=N<br>x_coord=%{x}<br>y_coord=%{y}<br>z_coord=%{z}<extra></extra>",
         "legendgroup": "B20A, N",
         "marker": {
          "color": "#FECB52",
          "size": 3,
          "symbol": "x"
         },
         "mode": "markers",
         "name": "B20A, N",
         "scene": "scene",
         "showlegend": true,
         "type": "scatter3d",
         "x": [
          9.395,
          10.511,
          7.269,
          7.099,
          9.018
         ],
         "y": [
          -0.849,
          -0.076,
          -1.637,
          -1.171,
          -0.274
         ],
         "z": [
          -8.607,
          -6.664,
          -8.688,
          -5.689,
          -4.501
         ]
        },
        {
         "hovertemplate": "node_id=B20A<br>element_symbol=H<br>x_coord=%{x}<br>y_coord=%{y}<br>z_coord=%{z}<extra></extra>",
         "legendgroup": "B20A, H",
         "marker": {
          "color": "#FECB52",
          "size": 3,
          "symbol": "cross"
         },
         "mode": "markers",
         "name": "B20A, H",
         "scene": "scene",
         "showlegend": true,
         "type": "scatter3d",
         "x": [
          11.555,
          11.283,
          7.148,
          10.912,
          9.86,
          8.069,
          9.935,
          7.863,
          7.431,
          6.407,
          6.94
         ],
         "y": [
          1.309,
          -0.105,
          -0.799,
          -0.397,
          2.153,
          1.982,
          0.551,
          0.574,
          -1.749,
          -1.857,
          0.778
         ],
         "z": [
          -1.886,
          -8.534,
          -3.603,
          -3.543,
          -3.995,
          -2.426,
          -0.446,
          0.646,
          -9.695,
          -8.177,
          -0.837
         ]
        },
        {
         "hovertemplate": "node_id=B21A<br>element_symbol=P<br>x_coord=%{x}<br>y_coord=%{y}<br>z_coord=%{z}<extra></extra>",
         "legendgroup": "B21A, P",
         "marker": {
          "color": "#636efa",
          "size": 3,
          "symbol": "circle"
         },
         "mode": "markers",
         "name": "B21A, P",
         "scene": "scene",
         "showlegend": true,
         "type": "scatter3d",
         "x": [
          9.072
         ],
         "y": [
          4.496
         ],
         "z": [
          -1.548
         ]
        },
        {
         "hovertemplate": "node_id=B21A<br>element_symbol=C<br>x_coord=%{x}<br>y_coord=%{y}<br>z_coord=%{z}<extra></extra>",
         "legendgroup": "B21A, C",
         "marker": {
          "color": "#636efa",
          "size": 3,
          "symbol": "diamond"
         },
         "mode": "markers",
         "name": "B21A, C",
         "scene": "scene",
         "showlegend": true,
         "type": "scatter3d",
         "x": [
          9.69,
          10.474,
          9.883,
          10.174,
          10.101,
          7.693,
          8.155,
          6.862,
          6.068,
          7.765
         ],
         "y": [
          5.949,
          5.709,
          6.423,
          5.435,
          4.065,
          2.089,
          2.853,
          2.312,
          1.661,
          3.165
         ],
         "z": [
          -3.729,
          -5.034,
          -6.265,
          -7.402,
          -6.707,
          -10.094,
          -7.926,
          -7.526,
          -8.545,
          -5.86
         ]
        },
        {
         "hovertemplate": "node_id=B21A<br>element_symbol=O<br>x_coord=%{x}<br>y_coord=%{y}<br>z_coord=%{z}<extra></extra>",
         "legendgroup": "B21A, O",
         "marker": {
          "color": "#636efa",
          "size": 3,
          "symbol": "square"
         },
         "mode": "markers",
         "name": "B21A, O",
         "scene": "scene",
         "showlegend": true,
         "type": "scatter3d",
         "x": [
          10.034,
          10.468,
          10.465,
          11.486,
          9.332,
          7.597
         ],
         "y": [
          4.931,
          4.296,
          7.722,
          5.634,
          5.413,
          4.603
         ],
         "z": [
          -2.774,
          -5.338,
          -6.489,
          -7.925,
          -0.352,
          -1.956
         ]
        },
        {
         "hovertemplate": "node_id=B21A<br>element_symbol=N<br>x_coord=%{x}<br>y_coord=%{y}<br>z_coord=%{z}<extra></extra>",
         "legendgroup": "B21A, N",
         "marker": {
          "color": "#636efa",
          "size": 3,
          "symbol": "x"
         },
         "mode": "markers",
         "name": "B21A, N",
         "scene": "scene",
         "showlegend": true,
         "type": "scatter3d",
         "x": [
          6.516,
          8.551,
          4.887,
          6.596,
          8.749
         ],
         "y": [
          1.583,
          2.702,
          1.127,
          2.51,
          3.428
         ],
         "z": [
          -9.788,
          -9.325,
          -8.258,
          -6.179,
          -6.813
         ]
        },
        {
         "hovertemplate": "node_id=B21A<br>element_symbol=H<br>x_coord=%{x}<br>y_coord=%{y}<br>z_coord=%{z}<extra></extra>",
         "legendgroup": "B21A, H",
         "marker": {
          "color": "#636efa",
          "size": 3,
          "symbol": "cross"
         },
         "mode": "markers",
         "name": "B21A, H",
         "scene": "scene",
         "showlegend": true,
         "type": "scatter3d",
         "x": [
          12.084,
          8,
          7.924,
          10.834,
          9.446,
          8.784,
          11.527,
          9.905,
          4.383,
          4.572,
          8.603
         ],
         "y": [
          5.544,
          2.014,
          3.433,
          3.379,
          5.54,
          6.526,
          6.015,
          6.952,
          0.68,
          1.203,
          5.917
         ],
         "z": [
          -7.18,
          -11.126,
          -4.826,
          -7.168,
          -8.228,
          -6.163,
          -4.888,
          -3.316,
          -9.033,
          -7.284,
          -3.93
         ]
        },
        {
         "hovertemplate": "node_id=B22G<br>element_symbol=P<br>x_coord=%{x}<br>y_coord=%{y}<br>z_coord=%{z}<extra></extra>",
         "legendgroup": "B22G, P",
         "marker": {
          "color": "#EF553B",
          "size": 3,
          "symbol": "circle"
         },
         "mode": "markers",
         "name": "B22G, P",
         "scene": "scene",
         "showlegend": true,
         "type": "scatter3d",
         "x": [
          9.771
         ],
         "y": [
          8.798
         ],
         "z": [
          -7.485
         ]
        },
        {
         "hovertemplate": "node_id=B22G<br>element_symbol=C<br>x_coord=%{x}<br>y_coord=%{y}<br>z_coord=%{z}<extra></extra>",
         "legendgroup": "B22G, C",
         "marker": {
          "color": "#EF553B",
          "size": 3,
          "symbol": "diamond"
         },
         "mode": "markers",
         "name": "B22G, C",
         "scene": "scene",
         "showlegend": true,
         "type": "scatter3d",
         "x": [
          8.465,
          8.424,
          7.24,
          6.923,
          7.233,
          3.179,
          4.866,
          4.097,
          2.758,
          5.845
         ],
         "y": [
          8.491,
          7.578,
          7.899,
          6.538,
          5.557,
          3.383,
          4.57,
          4.429,
          3.651,
          5.43
         ],
         "z": [
          -9.81,
          -11.05,
          -11.977,
          -12.604,
          -11.454,
          -12.161,
          -10.906,
          -9.697,
          -9.713,
          -9.228
         ]
        },
        {
         "hovertemplate": "node_id=B22G<br>element_symbol=O<br>x_coord=%{x}<br>y_coord=%{y}<br>z_coord=%{z}<extra></extra>",
         "legendgroup": "B22G, O",
         "marker": {
          "color": "#EF553B",
          "size": 3,
          "symbol": "square"
         },
         "mode": "markers",
         "name": "B22G, O",
         "scene": "scene",
         "showlegend": true,
         "type": "scatter3d",
         "x": [
          9.526,
          8.276,
          7.591,
          7.787,
          2.059,
          10.691,
          8.439
         ],
         "y": [
          8.101,
          6.189,
          8.909,
          6.269,
          3.471,
          10.009,
          9.253
         ],
         "z": [
          -8.932,
          -10.673,
          -12.941,
          -13.706,
          -8.716,
          -7.651,
          -6.879
         ]
        },
        {
         "hovertemplate": "node_id=B22G<br>element_symbol=N<br>x_coord=%{x}<br>y_coord=%{y}<br>z_coord=%{z}<extra></extra>",
         "legendgroup": "B22G, N",
         "marker": {
          "color": "#EF553B",
          "size": 3,
          "symbol": "x"
         },
         "mode": "markers",
         "name": "B22G, N",
         "scene": "scene",
         "showlegend": true,
         "type": "scatter3d",
         "x": [
          2.392,
          2.65,
          4.322,
          4.705,
          6.036
         ],
         "y": [
          3.174,
          2.935,
          3.992,
          4.989,
          5.261
         ],
         "z": [
          -10.935,
          -13.389,
          -12.119,
          -8.594,
          -10.595
         ]
        },
        {
         "hovertemplate": "node_id=B22G<br>element_symbol=H<br>x_coord=%{x}<br>y_coord=%{y}<br>z_coord=%{z}<extra></extra>",
         "legendgroup": "B22G, H",
         "marker": {
          "color": "#EF553B",
          "size": 3,
          "symbol": "cross"
         },
         "mode": "markers",
         "name": "B22G, H",
         "scene": "scene",
         "showlegend": true,
         "type": "scatter3d",
         "x": [
          7.57,
          1.471,
          6.661,
          7.599,
          5.877,
          1.738,
          6.363,
          3.188,
          9.375,
          8.601,
          7.501
         ],
         "y": [
          5.382,
          2.724,
          5.803,
          4.595,
          6.484,
          2.466,
          8.219,
          3.089,
          7.68,
          9.547,
          8.439
         ],
         "z": [
          -14.002,
          -10.973,
          -8.621,
          -11.866,
          -12.957,
          -13.397,
          -11.381,
          -14.248,
          -11.607,
          -10.112,
          -9.269
         ]
        },
        {
         "hovertemplate": "node_id=B23U<br>element_symbol=P<br>x_coord=%{x}<br>y_coord=%{y}<br>z_coord=%{z}<extra></extra>",
         "legendgroup": "B23U, P",
         "marker": {
          "color": "#00cc96",
          "size": 3,
          "symbol": "circle"
         },
         "mode": "markers",
         "name": "B23U, P",
         "scene": "scene",
         "showlegend": true,
         "type": "scatter3d",
         "x": [
          6.513
         ],
         "y": [
          9.974
         ],
         "z": [
          -13.513
         ]
        },
        {
         "hovertemplate": "node_id=B23U<br>element_symbol=C<br>x_coord=%{x}<br>y_coord=%{y}<br>z_coord=%{z}<extra></extra>",
         "legendgroup": "B23U, C",
         "marker": {
          "color": "#00cc96",
          "size": 3,
          "symbol": "diamond"
         },
         "mode": "markers",
         "name": "B23U, C",
         "scene": "scene",
         "showlegend": true,
         "type": "scatter3d",
         "x": [
          5.633,
          4.392,
          3.122,
          2.024,
          2.61,
          0.87,
          1.102,
          2.442,
          2.885
         ],
         "y": [
          8.578,
          7.831,
          8.689,
          7.628,
          6.578,
          6.023,
          6.489,
          7.203,
          7.257
         ],
         "z": [
          -15.618,
          -16.134,
          -16.233,
          -16.176,
          -15.21,
          -13.492,
          -11.132,
          -11.43,
          -12.707
         ]
        },
        {
         "hovertemplate": "node_id=B23U<br>element_symbol=O<br>x_coord=%{x}<br>y_coord=%{y}<br>z_coord=%{z}<extra></extra>",
         "legendgroup": "B23U, O",
         "marker": {
          "color": "#00cc96",
          "size": 3,
          "symbol": "square"
         },
         "mode": "markers",
         "name": "B23U, O",
         "scene": "scene",
         "showlegend": true,
         "type": "scatter3d",
         "x": [
          5.372,
          4.051,
          3.11,
          1.806,
          0.151,
          0.658,
          7.225,
          5.86
         ],
         "y": [
          9.198,
          6.732,
          9.476,
          7.05,
          5.505,
          6.404,
          10.983,
          10.721
         ],
         "z": [
          -14.35,
          -15.267,
          -17.439,
          -17.463,
          -14.35,
          -9.989,
          -14.417,
          -12.347
         ]
        },
        {
         "hovertemplate": "node_id=B23U<br>element_symbol=N<br>x_coord=%{x}<br>y_coord=%{y}<br>z_coord=%{z}<extra></extra>",
         "legendgroup": "B23U, N",
         "marker": {
          "color": "#00cc96",
          "size": 3,
          "symbol": "x"
         },
         "mode": "markers",
         "name": "B23U, N",
         "scene": "scene",
         "showlegend": true,
         "type": "scatter3d",
         "x": [
          2.084,
          0.43
         ],
         "y": [
          6.637,
          5.961
         ],
         "z": [
          -13.804,
          -12.197
         ]
        },
        {
         "hovertemplate": "node_id=B23U<br>element_symbol=H<br>x_coord=%{x}<br>y_coord=%{y}<br>z_coord=%{z}<extra></extra>",
         "legendgroup": "B23U, H",
         "marker": {
          "color": "#00cc96",
          "size": 3,
          "symbol": "cross"
         },
         "mode": "markers",
         "name": "B23U, H",
         "scene": "scene",
         "showlegend": true,
         "type": "scatter3d",
         "x": [
          2.656,
          -0.445,
          3.016,
          3.837,
          2.366,
          1.067,
          3.03,
          4.632,
          6.485,
          5.94
         ],
         "y": [
          6.704,
          5.459,
          7.647,
          7.743,
          5.583,
          8.032,
          9.338,
          7.412,
          7.879,
          9.349
         ],
         "z": [
          -17.744,
          -12.013,
          -10.617,
          -12.919,
          -15.615,
          -15.816,
          -15.34,
          -17.131,
          -15.529,
          -16.35
         ]
        },
        {
         "hovertemplate": "node_id=B24C<br>element_symbol=P<br>x_coord=%{x}<br>y_coord=%{y}<br>z_coord=%{z}<extra></extra>",
         "legendgroup": "B24C, P",
         "marker": {
          "color": "#ab63fa",
          "size": 3,
          "symbol": "circle"
         },
         "mode": "markers",
         "name": "B24C, P",
         "scene": "scene",
         "showlegend": true,
         "type": "scatter3d",
         "x": [
          2.577
         ],
         "y": [
          11.007
         ],
         "z": [
          -17.476
         ]
        },
        {
         "hovertemplate": "node_id=B24C<br>element_symbol=C<br>x_coord=%{x}<br>y_coord=%{y}<br>z_coord=%{z}<extra></extra>",
         "legendgroup": "B24C, C",
         "marker": {
          "color": "#ab63fa",
          "size": 3,
          "symbol": "diamond"
         },
         "mode": "markers",
         "name": "B24C, C",
         "scene": "scene",
         "showlegend": true,
         "type": "scatter3d",
         "x": [
          0.055,
          -1.272,
          -2.019,
          -2.915,
          -2.015,
          -2.02,
          -0.343,
          0.353,
          -0.085
         ],
         "y": [
          10.562,
          10.11,
          11.171,
          10.292,
          9.066,
          8.625,
          9.595,
          10.082,
          9.875
         ],
         "z": [
          -18.251,
          -17.617,
          -16.796,
          -15.916,
          -15.631,
          -13.159,
          -11.696,
          -12.768,
          -14.045
         ]
        },
        {
         "hovertemplate": "node_id=B24C<br>element_symbol=O<br>x_coord=%{x}<br>y_coord=%{y}<br>z_coord=%{z}<extra></extra>",
         "legendgroup": "B24C, O",
         "marker": {
          "color": "#ab63fa",
          "size": 3,
          "symbol": "square"
         },
         "mode": "markers",
         "name": "B24C, O",
         "scene": "scene",
         "showlegend": true,
         "type": "scatter3d",
         "x": [
          0.976,
          -1.043,
          -2.745,
          -4.086,
          -3.069,
          2.922,
          3.255
         ],
         "y": [
          11.033,
          9.023,
          12.102,
          9.883,
          7.986,
          11.631,
          11.816
         ],
         "z": [
          -17.254,
          -16.702,
          -17.621,
          -16.62,
          -13.256,
          -18.831,
          -16.366
         ]
        },
        {
         "hovertemplate": "node_id=B24C<br>element_symbol=N<br>x_coord=%{x}<br>y_coord=%{y}<br>z_coord=%{z}<extra></extra>",
         "legendgroup": "B24C, N",
         "marker": {
          "color": "#ab63fa",
          "size": 3,
          "symbol": "x"
         },
         "mode": "markers",
         "name": "B24C, N",
         "scene": "scene",
         "showlegend": true,
         "type": "scatter3d",
         "x": [
          -1.367,
          -1.427,
          0.108
         ],
         "y": [
          9.132,
          8.895,
          9.84
         ],
         "z": [
          -14.28,
          -11.844,
          -10.38
         ]
        },
        {
         "hovertemplate": "node_id=B24C<br>element_symbol=H<br>x_coord=%{x}<br>y_coord=%{y}<br>z_coord=%{z}<extra></extra>",
         "legendgroup": "B24C, H",
         "marker": {
          "color": "#ab63fa",
          "size": 3,
          "symbol": "cross"
         },
         "mode": "markers",
         "name": "B24C, H",
         "scene": "scene",
         "showlegend": true,
         "type": "scatter3d",
         "x": [
          -4.571,
          1.275,
          0.503,
          -2.616,
          -3.225,
          -1.302,
          -1.93,
          -0.429,
          0.497,
          0.968,
          -0.125
         ],
         "y": [
          10.688,
          10.647,
          10.241,
          8.138,
          10.827,
          11.716,
          9.744,
          9.466,
          9.717,
          10.383,
          11.362
         ],
         "z": [
          -16.817,
          -12.621,
          -14.883,
          -15.704,
          -15,
          -16.151,
          -18.43,
          -9.59,
          -18.811,
          -10.245,
          -18.993
         ]
        },
        {
         "hovertemplate": "node_id=B25G<br>element_symbol=P<br>x_coord=%{x}<br>y_coord=%{y}<br>z_coord=%{z}<extra></extra>",
         "legendgroup": "B25G, P",
         "marker": {
          "color": "#FFA15A",
          "size": 3,
          "symbol": "circle"
         },
         "mode": "markers",
         "name": "B25G, P",
         "scene": "scene",
         "showlegend": true,
         "type": "scatter3d",
         "x": [
          -3.234
         ],
         "y": [
          13.555
         ],
         "z": [
          -17.078
         ]
        },
        {
         "hovertemplate": "node_id=B25G<br>element_symbol=C<br>x_coord=%{x}<br>y_coord=%{y}<br>z_coord=%{z}<extra></extra>",
         "legendgroup": "B25G, C",
         "marker": {
          "color": "#FFA15A",
          "size": 3,
          "symbol": "diamond"
         },
         "mode": "markers",
         "name": "B25G, C",
         "scene": "scene",
         "showlegend": true,
         "type": "scatter3d",
         "x": [
          -5.765,
          -6.617,
          -7.006,
          -7.264,
          -6.224,
          -5.399,
          -4.859,
          -3.471,
          -2.995,
          -3.693
         ],
         "y": [
          12.943,
          12.461,
          13.541,
          12.694,
          11.567,
          11.479,
          11.739,
          11.921,
          11.833,
          12.119
         ],
         "z": [
          -16.485,
          -15.299,
          -14.275,
          -13.026,
          -13.15,
          -8.603,
          -10.94,
          -10.623,
          -9.15,
          -12.667
         ]
        },
        {
         "hovertemplate": "node_id=B25G<br>element_symbol=O<br>x_coord=%{x}<br>y_coord=%{y}<br>z_coord=%{z}<extra></extra>",
         "legendgroup": "B25G, O",
         "marker": {
          "color": "#FFA15A",
          "size": 3,
          "symbol": "square"
         },
         "mode": "markers",
         "name": "B25G, O",
         "scene": "scene",
         "showlegend": true,
         "type": "scatter3d",
         "x": [
          -4.468,
          -5.902,
          -8.16,
          -8.569,
          -1.829,
          -3.676,
          -2.077
         ],
         "y": [
          13.376,
          11.456,
          14.301,
          12.121,
          11.959,
          14.413,
          14.258
         ],
         "z": [
          -16.048,
          -14.554,
          -14.688,
          -13.051,
          -8.792,
          -18.266,
          -16.362
         ]
        },
        {
         "hovertemplate": "node_id=B25G<br>element_symbol=N<br>x_coord=%{x}<br>y_coord=%{y}<br>z_coord=%{z}<extra></extra>",
         "legendgroup": "B25G, N",
         "marker": {
          "color": "#FFA15A",
          "size": 3,
          "symbol": "x"
         },
         "mode": "markers",
         "name": "B25G, N",
         "scene": "scene",
         "showlegend": true,
         "type": "scatter3d",
         "x": [
          -3.981,
          -6.341,
          -5.778,
          -2.692,
          -5.006
         ],
         "y": [
          11.613,
          11.299,
          11.526,
          12.197,
          11.831
         ],
         "z": [
          -8.242,
          -7.58,
          -9.841,
          -11.726,
          -12.318
         ]
        },
        {
         "hovertemplate": "node_id=B25G<br>element_symbol=H<br>x_coord=%{x}<br>y_coord=%{y}<br>z_coord=%{z}<extra></extra>",
         "legendgroup": "B25G, H",
         "marker": {
          "color": "#FFA15A",
          "size": 3,
          "symbol": "cross"
         },
         "mode": "markers",
         "name": "B25G, H",
         "scene": "scene",
         "showlegend": true,
         "type": "scatter3d",
         "x": [
          -8.631,
          -3.674,
          -3.443,
          -6.666,
          -7.156,
          -6.018,
          -6.146,
          -7.333,
          -7.539,
          -5.658,
          -6.275
         ],
         "y": [
          11.57,
          11.587,
          12.298,
          10.611,
          13.295,
          11.264,
          14.215,
          11.206,
          11.998,
          12.117,
          13.763
         ],
         "z": [
          -12.267,
          -7.265,
          -13.703,
          -12.812,
          -12.106,
          -6.606,
          -14.09,
          -7.826,
          -15.703,
          -17.214,
          -17.023
         ]
        },
        {
         "hovertemplate": "node_id=B26C<br>element_symbol=P<br>x_coord=%{x}<br>y_coord=%{y}<br>z_coord=%{z}<extra></extra>",
         "legendgroup": "B26C, P",
         "marker": {
          "color": "#19d3f3",
          "size": 3,
          "symbol": "circle"
         },
         "mode": "markers",
         "name": "B26C, P",
         "scene": "scene",
         "showlegend": true,
         "type": "scatter3d",
         "x": [
          -8.506
         ],
         "y": [
          15.777
         ],
         "z": [
          -14.099
         ]
        },
        {
         "hovertemplate": "node_id=B26C<br>element_symbol=C<br>x_coord=%{x}<br>y_coord=%{y}<br>z_coord=%{z}<extra></extra>",
         "legendgroup": "B26C, C",
         "marker": {
          "color": "#19d3f3",
          "size": 3,
          "symbol": "diamond"
         },
         "mode": "markers",
         "name": "B26C, C",
         "scene": "scene",
         "showlegend": true,
         "type": "scatter3d",
         "x": [
          -9.943,
          -9.784,
          -10.049,
          -8.741,
          -8.026,
          -5.949,
          -3.771,
          -4.329,
          -5.681
         ],
         "y": [
          15.005,
          14.798,
          16.058,
          16.263,
          14.918,
          14.871,
          15.177,
          15.285,
          15.18
         ],
         "z": [
          -11.965,
          -10.447,
          -9.593,
          -8.82,
          -8.899,
          -7.482,
          -8.487,
          -9.737,
          -9.908
         ]
        },
        {
         "hovertemplate": "node_id=B26C<br>element_symbol=O<br>x_coord=%{x}<br>y_coord=%{y}<br>z_coord=%{z}<extra></extra>",
         "legendgroup": "B26C, O",
         "marker": {
          "color": "#19d3f3",
          "size": 3,
          "symbol": "square"
         },
         "mode": "markers",
         "name": "B26C, O",
         "scene": "scene",
         "showlegend": true,
         "type": "scatter3d",
         "x": [
          -8.808,
          -8.457,
          -11.196,
          -8.958,
          -6.602,
          -9.731,
          -7.316
         ],
         "y": [
          15.702,
          14.326,
          15.834,
          16.576,
          14.712,
          16.334,
          16.711
         ],
         "z": [
          -12.508,
          -10.136,
          -8.736,
          -7.457,
          -6.451,
          -14.828,
          -14.34
         ]
        },
        {
         "hovertemplate": "node_id=B26C<br>element_symbol=N<br>x_coord=%{x}<br>y_coord=%{y}<br>z_coord=%{z}<extra></extra>",
         "legendgroup": "B26C, N",
         "marker": {
          "color": "#19d3f3",
          "size": 3,
          "symbol": "x"
         },
         "mode": "markers",
         "name": "B26C, N",
         "scene": "scene",
         "showlegend": true,
         "type": "scatter3d",
         "x": [
          -6.554,
          -4.488,
          -2.385
         ],
         "y": [
          14.985,
          14.959,
          15.292
         ],
         "z": [
          -8.732,
          -7.428,
          -8.302
         ]
        },
        {
         "hovertemplate": "node_id=B26C<br>element_symbol=H<br>x_coord=%{x}<br>y_coord=%{y}<br>z_coord=%{z}<extra></extra>",
         "legendgroup": "B26C, H",
         "marker": {
          "color": "#19d3f3",
          "size": 3,
          "symbol": "cross"
         },
         "mode": "markers",
         "name": "B26C, H",
         "scene": "scene",
         "showlegend": true,
         "type": "scatter3d",
         "x": [
          -9.439,
          -3.704,
          -6.182,
          -8.401,
          -8.15,
          -10.237,
          -10.498,
          -2.001,
          -10.051,
          -1.783,
          -10.873
         ],
         "y": [
          17.407,
          15.447,
          15.214,
          14.298,
          17.06,
          16.945,
          14.006,
          15.205,
          14.025,
          15.45,
          15.556
         ],
         "z": [
          -7.45,
          -10.618,
          -10.868,
          -8.093,
          -9.307,
          -10.23,
          -10.149,
          -7.355,
          -12.462,
          -9.117,
          -12.195
         ]
        },
        {
         "hovertemplate": "node_id=B27C<br>element_symbol=P<br>x_coord=%{x}<br>y_coord=%{y}<br>z_coord=%{z}<extra></extra>",
         "legendgroup": "B27C, P",
         "marker": {
          "color": "#FF6692",
          "size": 3,
          "symbol": "circle"
         },
         "mode": "markers",
         "name": "B27C, P",
         "scene": "scene",
         "showlegend": true,
         "type": "scatter3d",
         "x": [
          -12.122
         ],
         "y": [
          17.03
         ],
         "z": [
          -8.139
         ]
        },
        {
         "hovertemplate": "node_id=B27C<br>element_symbol=C<br>x_coord=%{x}<br>y_coord=%{y}<br>z_coord=%{z}<extra></extra>",
         "legendgroup": "B27C, C",
         "marker": {
          "color": "#FF6692",
          "size": 3,
          "symbol": "diamond"
         },
         "mode": "markers",
         "name": "B27C, C",
         "scene": "scene",
         "showlegend": true,
         "type": "scatter3d",
         "x": [
          -11.262,
          -10.176,
          -10.007,
          -8.512,
          -7.913,
          -5.407,
          -4.015,
          -5.117,
          -6.375
         ],
         "y": [
          17.607,
          18.408,
          19.874,
          20.16,
          18.832,
          18.866,
          18.535,
          18.321,
          18.347
         ],
         "z": [
          -5.641,
          -4.88,
          -5.316,
          -5.129,
          -4.629,
          -4.44,
          -6.395,
          -7.183,
          -6.651
         ]
        },
        {
         "hovertemplate": "node_id=B27C<br>element_symbol=O<br>x_coord=%{x}<br>y_coord=%{y}<br>z_coord=%{z}<extra></extra>",
         "legendgroup": "B27C, O",
         "marker": {
          "color": "#FF6692",
          "size": 3,
          "symbol": "square"
         },
         "mode": "markers",
         "name": "B27C, O",
         "scene": "scene",
         "showlegend": true,
         "type": "scatter3d",
         "x": [
          -11.287,
          -8.866,
          -10.857,
          -8.239,
          -5.458,
          -13.365,
          -12.565
         ],
         "y": [
          17.9,
          17.826,
          20.741,
          21.221,
          19.172,
          16.423,
          17.949
         ],
         "z": [
          -7.053,
          -5.029,
          -4.559,
          -4.219,
          -3.248,
          -7.482,
          -9.28
         ]
        },
        {
         "hovertemplate": "node_id=B27C<br>element_symbol=N<br>x_coord=%{x}<br>y_coord=%{y}<br>z_coord=%{z}<extra></extra>",
         "legendgroup": "B27C, N",
         "marker": {
          "color": "#FF6692",
          "size": 3,
          "symbol": "x"
         },
         "mode": "markers",
         "name": "B27C, N",
         "scene": "scene",
         "showlegend": true,
         "type": "scatter3d",
         "x": [
          -6.551,
          -4.116,
          -2.719
         ],
         "y": [
          18.61,
          18.791,
          18.478
         ],
         "z": [
          -5.192,
          -5.128,
          -6.937
         ]
        },
        {
         "hovertemplate": "node_id=B27C<br>element_symbol=H<br>x_coord=%{x}<br>y_coord=%{y}<br>z_coord=%{z}<extra></extra>",
         "legendgroup": "B27C, H",
         "marker": {
          "color": "#FF6692",
          "size": 3,
          "symbol": "cross"
         },
         "mode": "markers",
         "name": "B27C, H",
         "scene": "scene",
         "showlegend": true,
         "type": "scatter3d",
         "x": [
          -8.625,
          -5.003,
          -7.273,
          -7.869,
          -8.092,
          -10.22,
          -10.432,
          -1.914,
          -11.113,
          -2.605,
          -12.254
         ],
         "y": [
          20.956,
          18.125,
          18.202,
          18.811,
          20.402,
          19.991,
          18.371,
          18.64,
          16.523,
          18.275,
          17.843
         ],
         "z": [
          -3.38,
          -8.25,
          -7.259,
          -3.522,
          -6.129,
          -6.395,
          -3.802,
          -6.322,
          -5.477,
          -7.937,
          -5.216
         ]
        }
       ],
       "layout": {
        "legend": {
         "title": {
          "text": "node_id, element_symbol"
         },
         "tracegroupgap": 0
        },
        "margin": {
         "t": 60
        },
        "scene": {
         "domain": {
          "x": [
           0,
           1
          ],
          "y": [
           0,
           1
          ]
         },
         "xaxis": {
          "title": {
           "text": "x_coord"
          }
         },
         "yaxis": {
          "title": {
           "text": "y_coord"
          }
         },
         "zaxis": {
          "title": {
           "text": "z_coord"
          }
         }
        },
        "template": {
         "data": {
          "bar": [
           {
            "error_x": {
             "color": "#2a3f5f"
            },
            "error_y": {
             "color": "#2a3f5f"
            },
            "marker": {
             "line": {
              "color": "#E5ECF6",
              "width": 0.5
             },
             "pattern": {
              "fillmode": "overlay",
              "size": 10,
              "solidity": 0.2
             }
            },
            "type": "bar"
           }
          ],
          "barpolar": [
           {
            "marker": {
             "line": {
              "color": "#E5ECF6",
              "width": 0.5
             },
             "pattern": {
              "fillmode": "overlay",
              "size": 10,
              "solidity": 0.2
             }
            },
            "type": "barpolar"
           }
          ],
          "carpet": [
           {
            "aaxis": {
             "endlinecolor": "#2a3f5f",
             "gridcolor": "white",
             "linecolor": "white",
             "minorgridcolor": "white",
             "startlinecolor": "#2a3f5f"
            },
            "baxis": {
             "endlinecolor": "#2a3f5f",
             "gridcolor": "white",
             "linecolor": "white",
             "minorgridcolor": "white",
             "startlinecolor": "#2a3f5f"
            },
            "type": "carpet"
           }
          ],
          "choropleth": [
           {
            "colorbar": {
             "outlinewidth": 0,
             "ticks": ""
            },
            "type": "choropleth"
           }
          ],
          "contour": [
           {
            "colorbar": {
             "outlinewidth": 0,
             "ticks": ""
            },
            "colorscale": [
             [
              0,
              "#0d0887"
             ],
             [
              0.1111111111111111,
              "#46039f"
             ],
             [
              0.2222222222222222,
              "#7201a8"
             ],
             [
              0.3333333333333333,
              "#9c179e"
             ],
             [
              0.4444444444444444,
              "#bd3786"
             ],
             [
              0.5555555555555556,
              "#d8576b"
             ],
             [
              0.6666666666666666,
              "#ed7953"
             ],
             [
              0.7777777777777778,
              "#fb9f3a"
             ],
             [
              0.8888888888888888,
              "#fdca26"
             ],
             [
              1,
              "#f0f921"
             ]
            ],
            "type": "contour"
           }
          ],
          "contourcarpet": [
           {
            "colorbar": {
             "outlinewidth": 0,
             "ticks": ""
            },
            "type": "contourcarpet"
           }
          ],
          "heatmap": [
           {
            "colorbar": {
             "outlinewidth": 0,
             "ticks": ""
            },
            "colorscale": [
             [
              0,
              "#0d0887"
             ],
             [
              0.1111111111111111,
              "#46039f"
             ],
             [
              0.2222222222222222,
              "#7201a8"
             ],
             [
              0.3333333333333333,
              "#9c179e"
             ],
             [
              0.4444444444444444,
              "#bd3786"
             ],
             [
              0.5555555555555556,
              "#d8576b"
             ],
             [
              0.6666666666666666,
              "#ed7953"
             ],
             [
              0.7777777777777778,
              "#fb9f3a"
             ],
             [
              0.8888888888888888,
              "#fdca26"
             ],
             [
              1,
              "#f0f921"
             ]
            ],
            "type": "heatmap"
           }
          ],
          "heatmapgl": [
           {
            "colorbar": {
             "outlinewidth": 0,
             "ticks": ""
            },
            "colorscale": [
             [
              0,
              "#0d0887"
             ],
             [
              0.1111111111111111,
              "#46039f"
             ],
             [
              0.2222222222222222,
              "#7201a8"
             ],
             [
              0.3333333333333333,
              "#9c179e"
             ],
             [
              0.4444444444444444,
              "#bd3786"
             ],
             [
              0.5555555555555556,
              "#d8576b"
             ],
             [
              0.6666666666666666,
              "#ed7953"
             ],
             [
              0.7777777777777778,
              "#fb9f3a"
             ],
             [
              0.8888888888888888,
              "#fdca26"
             ],
             [
              1,
              "#f0f921"
             ]
            ],
            "type": "heatmapgl"
           }
          ],
          "histogram": [
           {
            "marker": {
             "pattern": {
              "fillmode": "overlay",
              "size": 10,
              "solidity": 0.2
             }
            },
            "type": "histogram"
           }
          ],
          "histogram2d": [
           {
            "colorbar": {
             "outlinewidth": 0,
             "ticks": ""
            },
            "colorscale": [
             [
              0,
              "#0d0887"
             ],
             [
              0.1111111111111111,
              "#46039f"
             ],
             [
              0.2222222222222222,
              "#7201a8"
             ],
             [
              0.3333333333333333,
              "#9c179e"
             ],
             [
              0.4444444444444444,
              "#bd3786"
             ],
             [
              0.5555555555555556,
              "#d8576b"
             ],
             [
              0.6666666666666666,
              "#ed7953"
             ],
             [
              0.7777777777777778,
              "#fb9f3a"
             ],
             [
              0.8888888888888888,
              "#fdca26"
             ],
             [
              1,
              "#f0f921"
             ]
            ],
            "type": "histogram2d"
           }
          ],
          "histogram2dcontour": [
           {
            "colorbar": {
             "outlinewidth": 0,
             "ticks": ""
            },
            "colorscale": [
             [
              0,
              "#0d0887"
             ],
             [
              0.1111111111111111,
              "#46039f"
             ],
             [
              0.2222222222222222,
              "#7201a8"
             ],
             [
              0.3333333333333333,
              "#9c179e"
             ],
             [
              0.4444444444444444,
              "#bd3786"
             ],
             [
              0.5555555555555556,
              "#d8576b"
             ],
             [
              0.6666666666666666,
              "#ed7953"
             ],
             [
              0.7777777777777778,
              "#fb9f3a"
             ],
             [
              0.8888888888888888,
              "#fdca26"
             ],
             [
              1,
              "#f0f921"
             ]
            ],
            "type": "histogram2dcontour"
           }
          ],
          "mesh3d": [
           {
            "colorbar": {
             "outlinewidth": 0,
             "ticks": ""
            },
            "type": "mesh3d"
           }
          ],
          "parcoords": [
           {
            "line": {
             "colorbar": {
              "outlinewidth": 0,
              "ticks": ""
             }
            },
            "type": "parcoords"
           }
          ],
          "pie": [
           {
            "automargin": true,
            "type": "pie"
           }
          ],
          "scatter": [
           {
            "fillpattern": {
             "fillmode": "overlay",
             "size": 10,
             "solidity": 0.2
            },
            "type": "scatter"
           }
          ],
          "scatter3d": [
           {
            "line": {
             "colorbar": {
              "outlinewidth": 0,
              "ticks": ""
             }
            },
            "marker": {
             "colorbar": {
              "outlinewidth": 0,
              "ticks": ""
             }
            },
            "type": "scatter3d"
           }
          ],
          "scattercarpet": [
           {
            "marker": {
             "colorbar": {
              "outlinewidth": 0,
              "ticks": ""
             }
            },
            "type": "scattercarpet"
           }
          ],
          "scattergeo": [
           {
            "marker": {
             "colorbar": {
              "outlinewidth": 0,
              "ticks": ""
             }
            },
            "type": "scattergeo"
           }
          ],
          "scattergl": [
           {
            "marker": {
             "colorbar": {
              "outlinewidth": 0,
              "ticks": ""
             }
            },
            "type": "scattergl"
           }
          ],
          "scattermapbox": [
           {
            "marker": {
             "colorbar": {
              "outlinewidth": 0,
              "ticks": ""
             }
            },
            "type": "scattermapbox"
           }
          ],
          "scatterpolar": [
           {
            "marker": {
             "colorbar": {
              "outlinewidth": 0,
              "ticks": ""
             }
            },
            "type": "scatterpolar"
           }
          ],
          "scatterpolargl": [
           {
            "marker": {
             "colorbar": {
              "outlinewidth": 0,
              "ticks": ""
             }
            },
            "type": "scatterpolargl"
           }
          ],
          "scatterternary": [
           {
            "marker": {
             "colorbar": {
              "outlinewidth": 0,
              "ticks": ""
             }
            },
            "type": "scatterternary"
           }
          ],
          "surface": [
           {
            "colorbar": {
             "outlinewidth": 0,
             "ticks": ""
            },
            "colorscale": [
             [
              0,
              "#0d0887"
             ],
             [
              0.1111111111111111,
              "#46039f"
             ],
             [
              0.2222222222222222,
              "#7201a8"
             ],
             [
              0.3333333333333333,
              "#9c179e"
             ],
             [
              0.4444444444444444,
              "#bd3786"
             ],
             [
              0.5555555555555556,
              "#d8576b"
             ],
             [
              0.6666666666666666,
              "#ed7953"
             ],
             [
              0.7777777777777778,
              "#fb9f3a"
             ],
             [
              0.8888888888888888,
              "#fdca26"
             ],
             [
              1,
              "#f0f921"
             ]
            ],
            "type": "surface"
           }
          ],
          "table": [
           {
            "cells": {
             "fill": {
              "color": "#EBF0F8"
             },
             "line": {
              "color": "white"
             }
            },
            "header": {
             "fill": {
              "color": "#C8D4E3"
             },
             "line": {
              "color": "white"
             }
            },
            "type": "table"
           }
          ]
         },
         "layout": {
          "annotationdefaults": {
           "arrowcolor": "#2a3f5f",
           "arrowhead": 0,
           "arrowwidth": 1
          },
          "autotypenumbers": "strict",
          "coloraxis": {
           "colorbar": {
            "outlinewidth": 0,
            "ticks": ""
           }
          },
          "colorscale": {
           "diverging": [
            [
             0,
             "#8e0152"
            ],
            [
             0.1,
             "#c51b7d"
            ],
            [
             0.2,
             "#de77ae"
            ],
            [
             0.3,
             "#f1b6da"
            ],
            [
             0.4,
             "#fde0ef"
            ],
            [
             0.5,
             "#f7f7f7"
            ],
            [
             0.6,
             "#e6f5d0"
            ],
            [
             0.7,
             "#b8e186"
            ],
            [
             0.8,
             "#7fbc41"
            ],
            [
             0.9,
             "#4d9221"
            ],
            [
             1,
             "#276419"
            ]
           ],
           "sequential": [
            [
             0,
             "#0d0887"
            ],
            [
             0.1111111111111111,
             "#46039f"
            ],
            [
             0.2222222222222222,
             "#7201a8"
            ],
            [
             0.3333333333333333,
             "#9c179e"
            ],
            [
             0.4444444444444444,
             "#bd3786"
            ],
            [
             0.5555555555555556,
             "#d8576b"
            ],
            [
             0.6666666666666666,
             "#ed7953"
            ],
            [
             0.7777777777777778,
             "#fb9f3a"
            ],
            [
             0.8888888888888888,
             "#fdca26"
            ],
            [
             1,
             "#f0f921"
            ]
           ],
           "sequentialminus": [
            [
             0,
             "#0d0887"
            ],
            [
             0.1111111111111111,
             "#46039f"
            ],
            [
             0.2222222222222222,
             "#7201a8"
            ],
            [
             0.3333333333333333,
             "#9c179e"
            ],
            [
             0.4444444444444444,
             "#bd3786"
            ],
            [
             0.5555555555555556,
             "#d8576b"
            ],
            [
             0.6666666666666666,
             "#ed7953"
            ],
            [
             0.7777777777777778,
             "#fb9f3a"
            ],
            [
             0.8888888888888888,
             "#fdca26"
            ],
            [
             1,
             "#f0f921"
            ]
           ]
          },
          "colorway": [
           "#636efa",
           "#EF553B",
           "#00cc96",
           "#ab63fa",
           "#FFA15A",
           "#19d3f3",
           "#FF6692",
           "#B6E880",
           "#FF97FF",
           "#FECB52"
          ],
          "font": {
           "color": "#2a3f5f"
          },
          "geo": {
           "bgcolor": "white",
           "lakecolor": "white",
           "landcolor": "#E5ECF6",
           "showlakes": true,
           "showland": true,
           "subunitcolor": "white"
          },
          "hoverlabel": {
           "align": "left"
          },
          "hovermode": "closest",
          "mapbox": {
           "style": "light"
          },
          "paper_bgcolor": "white",
          "plot_bgcolor": "#E5ECF6",
          "polar": {
           "angularaxis": {
            "gridcolor": "white",
            "linecolor": "white",
            "ticks": ""
           },
           "bgcolor": "#E5ECF6",
           "radialaxis": {
            "gridcolor": "white",
            "linecolor": "white",
            "ticks": ""
           }
          },
          "scene": {
           "xaxis": {
            "backgroundcolor": "#E5ECF6",
            "gridcolor": "white",
            "gridwidth": 2,
            "linecolor": "white",
            "showbackground": true,
            "ticks": "",
            "zerolinecolor": "white"
           },
           "yaxis": {
            "backgroundcolor": "#E5ECF6",
            "gridcolor": "white",
            "gridwidth": 2,
            "linecolor": "white",
            "showbackground": true,
            "ticks": "",
            "zerolinecolor": "white"
           },
           "zaxis": {
            "backgroundcolor": "#E5ECF6",
            "gridcolor": "white",
            "gridwidth": 2,
            "linecolor": "white",
            "showbackground": true,
            "ticks": "",
            "zerolinecolor": "white"
           }
          },
          "shapedefaults": {
           "line": {
            "color": "#2a3f5f"
           }
          },
          "ternary": {
           "aaxis": {
            "gridcolor": "white",
            "linecolor": "white",
            "ticks": ""
           },
           "baxis": {
            "gridcolor": "white",
            "linecolor": "white",
            "ticks": ""
           },
           "bgcolor": "#E5ECF6",
           "caxis": {
            "gridcolor": "white",
            "linecolor": "white",
            "ticks": ""
           }
          },
          "title": {
           "x": 0.05
          },
          "xaxis": {
           "automargin": true,
           "gridcolor": "white",
           "linecolor": "white",
           "ticks": "",
           "title": {
            "standoff": 15
           },
           "zerolinecolor": "white",
           "zerolinewidth": 2
          },
          "yaxis": {
           "automargin": true,
           "gridcolor": "white",
           "linecolor": "white",
           "ticks": "",
           "title": {
            "standoff": 15
           },
           "zerolinecolor": "white",
           "zerolinewidth": 2
          }
         }
        }
       }
      },
      "text/html": [
       "<div>                            <div id=\"0b6dff10-03e9-4e4d-99e2-6c2fab6c1892\" class=\"plotly-graph-div\" style=\"height:525px; width:100%;\"></div>            <script type=\"text/javascript\">                require([\"plotly\"], function(Plotly) {                    window.PLOTLYENV=window.PLOTLYENV || {};                                    if (document.getElementById(\"0b6dff10-03e9-4e4d-99e2-6c2fab6c1892\")) {                    Plotly.newPlot(                        \"0b6dff10-03e9-4e4d-99e2-6c2fab6c1892\",                        [{\"hovertemplate\":\"node_id=A1G<br>element_symbol=P<br>x_coord=%{x}<br>y_coord=%{y}<br>z_coord=%{z}<extra></extra>\",\"legendgroup\":\"A1G, P\",\"marker\":{\"color\":\"#636efa\",\"symbol\":\"circle\",\"size\":3},\"mode\":\"markers\",\"name\":\"A1G, P\",\"scene\":\"scene\",\"showlegend\":true,\"x\":[6.941],\"y\":[17.441],\"z\":[-1.803],\"type\":\"scatter3d\"},{\"hovertemplate\":\"node_id=A1G<br>element_symbol=C<br>x_coord=%{x}<br>y_coord=%{y}<br>z_coord=%{z}<extra></extra>\",\"legendgroup\":\"A1G, C\",\"marker\":{\"color\":\"#636efa\",\"symbol\":\"diamond\",\"size\":3},\"mode\":\"markers\",\"name\":\"A1G, C\",\"scene\":\"scene\",\"showlegend\":true,\"x\":[5.76,4.367,3.471,2.073,2.24,-1.757,0.636,0.846,-0.365,2.695],\"y\":[17.439,17.489,16.275,16.872,18.291,18.53,18.455,18.636,18.809,18.519],\"z\":[0.59,1.24,0.942,1.132,0.56,-1.834,-1.515,-2.928,-3.879,-2.023],\"type\":\"scatter3d\"},{\"hovertemplate\":\"node_id=A1G<br>element_symbol=O<br>x_coord=%{x}<br>y_coord=%{y}<br>z_coord=%{z}<extra></extra>\",\"legendgroup\":\"A1G, O\",\"marker\":{\"color\":\"#636efa\",\"symbol\":\"square\",\"size\":3},\"mode\":\"markers\",\"name\":\"A1G, O\",\"scene\":\"scene\",\"showlegend\":true,\"x\":[5.652,3.627,3.757,1.73,-0.271,6.502,7.589],\"y\":[17.362,18.643,15.165,16.945,18.989,17.207,18.822],\"z\":[-0.837,0.78,1.812,2.514,-5.09,-3.25,-1.686],\"type\":\"scatter3d\"},{\"hovertemplate\":\"node_id=A1G<br>element_symbol=N<br>x_coord=%{x}<br>y_coord=%{y}<br>z_coord=%{z}<extra></extra>\",\"legendgroup\":\"A1G, N\",\"marker\":{\"color\":\"#636efa\",\"symbol\":\"x\",\"size\":3},\"mode\":\"markers\",\"name\":\"A1G, N\",\"scene\":\"scene\",\"showlegend\":true,\"x\":[-1.579,-3.065,-0.734,2.175,1.886],\"y\":[18.754,18.437,18.408,18.676,18.377],\"z\":[-3.275,-1.333,-1.044,-3.285,-0.899],\"type\":\"scatter3d\"},{\"hovertemplate\":\"node_id=A1G<br>element_symbol=H<br>x_coord=%{x}<br>y_coord=%{y}<br>z_coord=%{z}<extra></extra>\",\"legendgroup\":\"A1G, H\",\"marker\":{\"color\":\"#636efa\",\"symbol\":\"cross\",\"size\":3},\"mode\":\"markers\",\"name\":\"A1G, H\",\"scene\":\"scene\",\"showlegend\":true,\"x\":[0.875,-2.378,3.767,1.59,1.294,-3.854,3.588,-3.204,4.498,6.337,6.331],\"y\":[17.382,18.859,18.553,18.989,16.294,18.531,15.968,18.276,17.585,18.338,16.57],\"z\":[2.552,-3.909,-1.907,1.116,0.61,-1.983,-0.116,-0.33,2.336,0.876,0.971],\"type\":\"scatter3d\"},{\"hovertemplate\":\"node_id=A2G<br>element_symbol=P<br>x_coord=%{x}<br>y_coord=%{y}<br>z_coord=%{z}<extra></extra>\",\"legendgroup\":\"A2G, P\",\"marker\":{\"color\":\"#EF553B\",\"symbol\":\"circle\",\"size\":3},\"mode\":\"markers\",\"name\":\"A2G, P\",\"scene\":\"scene\",\"showlegend\":true,\"x\":[3.381],\"y\":[13.636],\"z\":[1.418],\"type\":\"scatter3d\"},{\"hovertemplate\":\"node_id=A2G<br>element_symbol=C<br>x_coord=%{x}<br>y_coord=%{y}<br>z_coord=%{z}<extra></extra>\",\"legendgroup\":\"A2G, C\",\"marker\":{\"color\":\"#EF553B\",\"symbol\":\"diamond\",\"size\":3},\"mode\":\"markers\",\"name\":\"A2G, C\",\"scene\":\"scene\",\"showlegend\":true,\"x\":[0.994,-0.501,-1.116,-2.347,-1.839,-4.133,-2.205,-1.331,-1.918,-0.165],\"y\":[13.527,13.669,12.489,13.143,14.557,15.274,14.909,15.06,15.396,14.665],\"z\":[2.603,2.28,1.516,0.882,0.549,-3.413,-2.01,-3.142,-4.534,-1.483],\"type\":\"scatter3d\"},{\"hovertemplate\":\"node_id=A2G<br>element_symbol=O<br>x_coord=%{x}<br>y_coord=%{y}<br>z_coord=%{z}<extra></extra>\",\"legendgroup\":\"A2G, O\",\"marker\":{\"color\":\"#EF553B\",\"symbol\":\"square\",\"size\":3},\"mode\":\"markers\",\"name\":\"A2G, O\",\"scene\":\"scene\",\"showlegend\":true,\"x\":[1.776,-0.737,-1.432,-3.423,-1.236,3.998,3.94],\"y\":[13.454,14.822,11.382,13.23,15.561,12.683,13.306],\"z\":[1.402,1.447,2.379,1.813,-5.541,2.444,0.032],\"type\":\"scatter3d\"},{\"hovertemplate\":\"node_id=A2G<br>element_symbol=N<br>x_coord=%{x}<br>y_coord=%{y}<br>z_coord=%{z}<extra></extra>\",\"legendgroup\":\"A2G, N\",\"marker\":{\"color\":\"#EF553B\",\"symbol\":\"x\",\"size\":3},\"mode\":\"markers\",\"name\":\"A2G, N\",\"scene\":\"scene\",\"showlegend\":true,\"x\":[-3.273,-5.518,-3.631,0.002,-1.421],\"y\":[15.504,15.302,15.027,14.896,14.678],\"z\":[-4.573,-3.615,-2.244,-2.829,-0.886],\"type\":\"scatter3d\"},{\"hovertemplate\":\"node_id=A2G<br>element_symbol=H<br>x_coord=%{x}<br>y_coord=%{y}<br>z_coord=%{z}<extra></extra>\",\"legendgroup\":\"A2G, H\",\"marker\":{\"color\":\"#EF553B\",\"symbol\":\"cross\",\"size\":3},\"mode\":\"markers\",\"name\":\"A2G, H\",\"scene\":\"scene\",\"showlegend\":true,\"x\":[-3.08,-3.69,0.709,-2.637,-2.69,-5.882,-0.426,-6.141,-1.048,1.321,1.172],\"y\":[13.716,15.735,14.453,15.299,12.58,15.49,12.161,15.133,13.814,14.388,12.626],\"z\":[2.568,-5.481,-0.888,0.742,-0.004,-4.555,0.712,-2.817,3.233,3.216,3.221],\"type\":\"scatter3d\"},{\"hovertemplate\":\"node_id=A3C<br>element_symbol=P<br>x_coord=%{x}<br>y_coord=%{y}<br>z_coord=%{z}<extra></extra>\",\"legendgroup\":\"A3C, P\",\"marker\":{\"color\":\"#00cc96\",\"symbol\":\"circle\",\"size\":3},\"mode\":\"markers\",\"name\":\"A3C, P\",\"scene\":\"scene\",\"showlegend\":true,\"x\":[-1.628],\"y\":[9.877],\"z\":[1.81],\"type\":\"scatter3d\"},{\"hovertemplate\":\"node_id=A3C<br>element_symbol=C<br>x_coord=%{x}<br>y_coord=%{y}<br>z_coord=%{z}<extra></extra>\",\"legendgroup\":\"A3C, C\",\"marker\":{\"color\":\"#00cc96\",\"symbol\":\"diamond\",\"size\":3},\"mode\":\"markers\",\"name\":\"A3C, C\",\"scene\":\"scene\",\"showlegend\":true,\"x\":[-4.242,-5.218,-5.228,-5.881,-5.307,-4.421,-2.058,-1.761,-2.745],\"y\":[9.976,10.184,9.053,9.747,11.183,11.793,11.698,11.321,11.17],\"z\":[1.26,0.089,-0.944,-2.144,-2.051,-4.322,-4.837,-3.553,-2.62],\"type\":\"scatter3d\"},{\"hovertemplate\":\"node_id=A3C<br>element_symbol=O<br>x_coord=%{x}<br>y_coord=%{y}<br>z_coord=%{z}<extra></extra>\",\"legendgroup\":\"A3C, O\",\"marker\":{\"color\":\"#00cc96\",\"symbol\":\"square\",\"size\":3},\"mode\":\"markers\",\"name\":\"A3C, O\",\"scene\":\"scene\",\"showlegend\":true,\"x\":[-2.891,-4.906,-5.932,-7.3,-5.562,-1.866,-0.368],\"y\":[9.835,11.37,7.894,9.775,11.987,8.917,9.445],\"z\":[0.799,-0.667,-0.461,-2.013,-4.742,2.979,1.057],\"type\":\"scatter3d\"},{\"hovertemplate\":\"node_id=A3C<br>element_symbol=N<br>x_coord=%{x}<br>y_coord=%{y}<br>z_coord=%{z}<extra></extra>\",\"legendgroup\":\"A3C, N\",\"marker\":{\"color\":\"#00cc96\",\"symbol\":\"x\",\"size\":3},\"mode\":\"markers\",\"name\":\"A3C, N\",\"scene\":\"scene\",\"showlegend\":true,\"x\":[-4.174,-3.271,-1.043],\"y\":[11.412,11.947,11.822],\"z\":[-3.004,-5.215,-5.801],\"type\":\"scatter3d\"},{\"hovertemplate\":\"node_id=A3C<br>element_symbol=H<br>x_coord=%{x}<br>y_coord=%{y}<br>z_coord=%{z}<extra></extra>\",\"legendgroup\":\"A3C, H\",\"marker\":{\"color\":\"#00cc96\",\"symbol\":\"cross\",\"size\":3},\"mode\":\"markers\",\"name\":\"A3C, H\",\"scene\":\"scene\",\"showlegend\":true,\"x\":[-7.481,-0.728,-2.489,-6.098,-5.627,-4.187,-6.235,-1.294,-4.319,-0.07,-4.53],\"y\":[10.22,11.132,10.873,11.929,9.235,8.783,10.303,12.098,10.825,11.648,9.077],\"z\":[-1.183,-3.252,-1.603,-2.269,-3.091,-1.21,0.514,-6.757,1.964,-5.525,1.838],\"type\":\"scatter3d\"},{\"hovertemplate\":\"node_id=A4G<br>element_symbol=P<br>x_coord=%{x}<br>y_coord=%{y}<br>z_coord=%{z}<extra></extra>\",\"legendgroup\":\"A4G, P\",\"marker\":{\"color\":\"#ab63fa\",\"symbol\":\"circle\",\"size\":3},\"mode\":\"markers\",\"name\":\"A4G, P\",\"scene\":\"scene\",\"showlegend\":true,\"x\":[-5.638],\"y\":[6.396],\"z\":[-1.012],\"type\":\"scatter3d\"},{\"hovertemplate\":\"node_id=A4G<br>element_symbol=C<br>x_coord=%{x}<br>y_coord=%{y}<br>z_coord=%{z}<extra></extra>\",\"legendgroup\":\"A4G, C\",\"marker\":{\"color\":\"#ab63fa\",\"symbol\":\"diamond\",\"size\":3},\"mode\":\"markers\",\"name\":\"A4G, C\",\"scene\":\"scene\",\"showlegend\":true,\"x\":[-7.764,-8.169,-7.698,-7.744,-7.268,-4.697,-5.114,-3.713,-2.698,-4.72],\"y\":[6.188,6.483,5.454,6.289,7.672,8.145,7.992,8.138,8.297,7.938],\"z\":[-2.598,-4.048,-5.086,-6.368,-5.876,-9.673,-7.305,-7.021,-8.183,-5.225],\"type\":\"scatter3d\"},{\"hovertemplate\":\"node_id=A4G<br>element_symbol=O<br>x_coord=%{x}<br>y_coord=%{y}<br>z_coord=%{z}<extra></extra>\",\"legendgroup\":\"A4G, O\",\"marker\":{\"color\":\"#ab63fa\",\"symbol\":\"square\",\"size\":3},\"mode\":\"markers\",\"name\":\"A4G, O\",\"scene\":\"scene\",\"showlegend\":true,\"x\":[-6.337,-7.607,-8.537,-9.072,-1.487,-6.207,-4.128],\"y\":[6.201,7.742,4.284,6.391,8.444,5.376,6.171],\"z\":[-2.453,-4.474,-5.138,-6.876,-8.027,-0.024,-1.145],\"type\":\"scatter3d\"},{\"hovertemplate\":\"node_id=A4G<br>element_symbol=N<br>x_coord=%{x}<br>y_coord=%{y}<br>z_coord=%{z}<extra></extra>\",\"legendgroup\":\"A4G, N\",\"marker\":{\"color\":\"#ab63fa\",\"symbol\":\"x\",\"size\":3},\"mode\":\"markers\",\"name\":\"A4G, N\",\"scene\":\"scene\",\"showlegend\":true,\"x\":[-3.249,-5.183,-5.523,-3.427,-5.796],\"y\":[8.279,8.202,7.994,8.109,7.865],\"z\":[-9.427,-10.991,-8.691,-5.672,-6.103],\"type\":\"scatter3d\"},{\"hovertemplate\":\"node_id=A4G<br>element_symbol=H<br>x_coord=%{x}<br>y_coord=%{y}<br>z_coord=%{z}<extra></extra>\",\"legendgroup\":\"A4G, H\",\"marker\":{\"color\":\"#ab63fa\",\"symbol\":\"cross\",\"size\":3},\"mode\":\"markers\",\"name\":\"A4G, H\",\"scene\":\"scene\",\"showlegend\":true,\"x\":[-9.337,-2.58,-4.891,-7.81,-7.099,-4.517,-6.65,-6.191,-9.273,-8.219,-8.166],\"y\":[5.497,8.397,7.827,8.474,5.853,8.329,5.163,8.117,6.565,6.948,5.211],\"z\":[-7.105,-10.196,-4.165,-6.413,-7.152,-11.762,-4.879,-11.155,-4.088,-1.932,-2.271],\"type\":\"scatter3d\"},{\"hovertemplate\":\"node_id=A5U<br>element_symbol=P<br>x_coord=%{x}<br>y_coord=%{y}<br>z_coord=%{z}<extra></extra>\",\"legendgroup\":\"A5U, P\",\"marker\":{\"color\":\"#FFA15A\",\"symbol\":\"circle\",\"size\":3},\"mode\":\"markers\",\"name\":\"A5U, P\",\"scene\":\"scene\",\"showlegend\":true,\"x\":[-8.005],\"y\":[2.861],\"z\":[-5.716],\"type\":\"scatter3d\"},{\"hovertemplate\":\"node_id=A5U<br>element_symbol=C<br>x_coord=%{x}<br>y_coord=%{y}<br>z_coord=%{z}<extra></extra>\",\"legendgroup\":\"A5U, C\",\"marker\":{\"color\":\"#FFA15A\",\"symbol\":\"diamond\",\"size\":3},\"mode\":\"markers\",\"name\":\"A5U, C\",\"scene\":\"scene\",\"showlegend\":true,\"x\":[-8.665,-8.047,-7.255,-6.339,-6.044,-3.554,-2.06,-3.285,-4.52],\"y\":[3.224,3.6,2.476,3.291,4.584,4.871,4.669,4.405,4.431],\"z\":[-8.283,-9.64,-10.327,-11.242,-10.456,-10.587,-8.698,-7.794,-8.336],\"type\":\"scatter3d\"},{\"hovertemplate\":\"node_id=A5U<br>element_symbol=O<br>x_coord=%{x}<br>y_coord=%{y}<br>z_coord=%{z}<extra></extra>\",\"legendgroup\":\"A5U, O\",\"marker\":{\"color\":\"#FFA15A\",\"symbol\":\"square\",\"size\":3},\"mode\":\"markers\",\"name\":\"A5U, O\",\"scene\":\"scene\",\"showlegend\":true,\"x\":[-7.653,-7.134,-8.113,-6.992,-3.617,-0.914,-9.089,-6.746],\"y\":[2.994,4.713,1.564,3.614,5.074,4.678,1.799,2.438],\"z\":[-7.293,-9.508,-11.039,-12.468,-11.802,-8.252,-5.518,-4.955],\"type\":\"scatter3d\"},{\"hovertemplate\":\"node_id=A5U<br>element_symbol=N<br>x_coord=%{x}<br>y_coord=%{y}<br>z_coord=%{z}<extra></extra>\",\"legendgroup\":\"A5U, N\",\"marker\":{\"color\":\"#FFA15A\",\"symbol\":\"x\",\"size\":3},\"mode\":\"markers\",\"name\":\"A5U, N\",\"scene\":\"scene\",\"showlegend\":true,\"x\":[-4.688,-2.308],\"y\":[4.624,4.897],\"z\":[-9.808,-10.02],\"type\":\"scatter3d\"},{\"hovertemplate\":\"node_id=A5U<br>element_symbol=H<br>x_coord=%{x}<br>y_coord=%{y}<br>z_coord=%{z}<extra></extra>\",\"legendgroup\":\"A5U, H\",\"marker\":{\"color\":\"#FFA15A\",\"symbol\":\"cross\",\"size\":3},\"mode\":\"markers\",\"name\":\"A5U, H\",\"scene\":\"scene\",\"showlegend\":true,\"x\":[-7.785,-1.507,-3.169,-5.364,-6.099,-5.424,-6.642,-8.871,-9.337,-9.303],\"y\":[4.098,5.103,4.204,4.331,5.433,2.729,1.901,3.916,4.036,2.326],\"z\":[-12.226,-10.626,-6.733,-7.66,-11.164,-11.466,-9.605,-10.311,-7.949,-8.384],\"type\":\"scatter3d\"},{\"hovertemplate\":\"node_id=A6C<br>element_symbol=P<br>x_coord=%{x}<br>y_coord=%{y}<br>z_coord=%{z}<extra></extra>\",\"legendgroup\":\"A6C, P\",\"marker\":{\"color\":\"#19d3f3\",\"symbol\":\"circle\",\"size\":3},\"mode\":\"markers\",\"name\":\"A6C, P\",\"scene\":\"scene\",\"showlegend\":true,\"x\":[-7.645],\"y\":[0.056],\"z\":[-11.422],\"type\":\"scatter3d\"},{\"hovertemplate\":\"node_id=A6C<br>element_symbol=C<br>x_coord=%{x}<br>y_coord=%{y}<br>z_coord=%{z}<extra></extra>\",\"legendgroup\":\"A6C, C\",\"marker\":{\"color\":\"#19d3f3\",\"symbol\":\"diamond\",\"size\":3},\"mode\":\"markers\",\"name\":\"A6C, C\",\"scene\":\"scene\",\"showlegend\":true,\"x\":[-6.597,-5.275,-4.187,-2.943,-3.224,-1.139,-1.041,-2.357,-3.108],\"y\":[0.549,1.029,-0.038,0.842,2.016,2.238,1.505,1.127,1.285],\"z\":[-13.829,-14.45,-14.602,-14.774,-13.808,-12.432,-10.119,-10.152,-11.279],\"type\":\"scatter3d\"},{\"hovertemplate\":\"node_id=A6C<br>element_symbol=O<br>x_coord=%{x}<br>y_coord=%{y}<br>z_coord=%{z}<extra></extra>\",\"legendgroup\":\"A6C, O\",\"marker\":{\"color\":\"#19d3f3\",\"symbol\":\"square\",\"size\":3},\"mode\":\"markers\",\"name\":\"A6C, O\",\"scene\":\"scene\",\"showlegend\":true,\"x\":[-6.415,-4.661,-4.438,-2.829,-0.527,-8.823,-7.192],\"y\":[0.113,2.052,-0.926,1.331,2.696,-0.699,-0.678],\"z\":[-12.474,-13.645,-15.706,-16.109,-13.402,-12.043,-10.158],\"type\":\"scatter3d\"},{\"hovertemplate\":\"node_id=A6C<br>element_symbol=N<br>x_coord=%{x}<br>y_coord=%{y}<br>z_coord=%{z}<extra></extra>\",\"legendgroup\":\"A6C, N\",\"marker\":{\"color\":\"#19d3f3\",\"symbol\":\"x\",\"size\":3},\"mode\":\"markers\",\"name\":\"A6C, N\",\"scene\":\"scene\",\"showlegend\":true,\"x\":[-2.484,-0.455,-0.279],\"y\":[1.877,2.03,1.337],\"z\":[-12.513,-11.152,-8.945],\"type\":\"scatter3d\"},{\"hovertemplate\":\"node_id=A6C<br>element_symbol=H<br>x_coord=%{x}<br>y_coord=%{y}<br>z_coord=%{z}<extra></extra>\",\"legendgroup\":\"A6C, H\",\"marker\":{\"color\":\"#19d3f3\",\"symbol\":\"cross\",\"size\":3},\"mode\":\"markers\",\"name\":\"A6C, H\",\"scene\":\"scene\",\"showlegend\":true,\"x\":[-3.645,-2.834,-4.156,-2.939,-2.025,-4.099,-5.506,0.693,-7.335,-0.717,-7.032],\"y\":[1.803,0.693,0.989,2.987,0.283,-0.616,1.459,1.666,1.373,0.919,-0.272],\"z\":[-16.289,-9.27,-11.258,-14.26,-14.525,-13.66,-15.444,-8.941,-13.866,-8.117,-14.428],\"type\":\"scatter3d\"},{\"hovertemplate\":\"node_id=A7A<br>element_symbol=P<br>x_coord=%{x}<br>y_coord=%{y}<br>z_coord=%{z}<extra></extra>\",\"legendgroup\":\"A7A, P\",\"marker\":{\"color\":\"#FF6692\",\"symbol\":\"circle\",\"size\":3},\"mode\":\"markers\",\"name\":\"A7A, P\",\"scene\":\"scene\",\"showlegend\":true,\"x\":[-3.728],\"y\":[-2.38],\"z\":[-15.827],\"type\":\"scatter3d\"},{\"hovertemplate\":\"node_id=A7A<br>element_symbol=C<br>x_coord=%{x}<br>y_coord=%{y}<br>z_coord=%{z}<extra></extra>\",\"legendgroup\":\"A7A, C\",\"marker\":{\"color\":\"#FF6692\",\"symbol\":\"diamond\",\"size\":3},\"mode\":\"markers\",\"name\":\"A7A, C\",\"scene\":\"scene\",\"showlegend\":true,\"x\":[-1.698,-0.24,0.786,1.967,1.267,4.391,2.304,1.778,2.697,0.254],\"y\":[-1.633,-1.162,-2.272,-1.475,-0.373,-0.211,-0.562,-0.854,-0.767,-1.111],\"z\":[-17.384,-17.277,-17.029,-16.466,-15.647,-12.247,-13.264,-11.934,-10.82,-13.324],\"type\":\"scatter3d\"},{\"hovertemplate\":\"node_id=A7A<br>element_symbol=O<br>x_coord=%{x}<br>y_coord=%{y}<br>z_coord=%{z}<extra></extra>\",\"legendgroup\":\"A7A, O\",\"marker\":{\"color\":\"#FF6692\",\"symbol\":\"square\",\"size\":3},\"mode\":\"markers\",\"name\":\"A7A, O\",\"scene\":\"scene\",\"showlegend\":true,\"x\":[-2.153,-0.074,1.11,2.736,-4.389,-3.891],\"y\":[-2.193,-0.252,-2.994,-0.882,-3.173,-3.151],\"z\":[-16.144,-16.173,-18.231,-17.512,-16.958,-14.515],\"type\":\"scatter3d\"},{\"hovertemplate\":\"node_id=A7A<br>element_symbol=N<br>x_coord=%{x}<br>y_coord=%{y}<br>z_coord=%{z}<extra></extra>\",\"legendgroup\":\"A7A, N\",\"marker\":{\"color\":\"#FF6692\",\"symbol\":\"x\",\"size\":3},\"mode\":\"markers\",\"name\":\"A7A, N\",\"scene\":\"scene\",\"showlegend\":true,\"x\":[3.963,3.727,2.304,0.443,1.266],\"y\":[-0.455,-0.235,-1.006,-1.228,-0.687],\"z\":[-11.028,-13.372,-9.574,-11.965,-14.18],\"type\":\"scatter3d\"},{\"hovertemplate\":\"node_id=A7A<br>element_symbol=H<br>x_coord=%{x}<br>y_coord=%{y}<br>z_coord=%{z}<extra></extra>\",\"legendgroup\":\"A7A, H\",\"marker\":{\"color\":\"#FF6692\",\"symbol\":\"cross\",\"size\":3},\"mode\":\"markers\",\"name\":\"A7A, H\",\"scene\":\"scene\",\"showlegend\":true,\"x\":[2.124,5.427,-0.701,1.783,2.632,0.41,0.017,-2.337,3.02,1.316,-1.806],\"y\":[-0.342,0.07,-1.398,0.595,-2.118,-2.965,-0.625,-0.777,-0.925,-1.249,-2.378],\"z\":[-18.017,-12.335,-13.73,-15.791,-15.863,-16.25,-18.212,-17.67,-8.843,-9.441,-18.194],\"type\":\"scatter3d\"},{\"hovertemplate\":\"node_id=A8C<br>element_symbol=P<br>x_coord=%{x}<br>y_coord=%{y}<br>z_coord=%{z}<extra></extra>\",\"legendgroup\":\"A8C, P\",\"marker\":{\"color\":\"#B6E880\",\"symbol\":\"circle\",\"size\":3},\"mode\":\"markers\",\"name\":\"A8C, P\",\"scene\":\"scene\",\"showlegend\":true,\"x\":[1.642],\"y\":[-4.524],\"z\":[-18.189],\"type\":\"scatter3d\"},{\"hovertemplate\":\"node_id=A8C<br>element_symbol=C<br>x_coord=%{x}<br>y_coord=%{y}<br>z_coord=%{z}<extra></extra>\",\"legendgroup\":\"A8C, C\",\"marker\":{\"color\":\"#B6E880\",\"symbol\":\"diamond\",\"size\":3},\"mode\":\"markers\",\"name\":\"A8C, C\",\"scene\":\"scene\",\"showlegend\":true,\"x\":[4.249,5.309,5.503,6.189,5.468,4.626,2.28,1.99,2.95],\"y\":[-4.087,-4.122,-5.493,-5.101,-3.784,-3.999,-4.423,-4.466,-4.237],\"z\":[-17.757,-16.641,-15.982,-14.67,-14.301,-11.934,-11.459,-12.796,-13.735],\"type\":\"scatter3d\"},{\"hovertemplate\":\"node_id=A8C<br>element_symbol=O<br>x_coord=%{x}<br>y_coord=%{y}<br>z_coord=%{z}<extra></extra>\",\"legendgroup\":\"A8C, O\",\"marker\":{\"color\":\"#B6E880\",\"symbol\":\"square\",\"size\":3},\"mode\":\"markers\",\"name\":\"A8C, O\",\"scene\":\"scene\",\"showlegend\":true,\"x\":[2.992,4.974,6.26,7.582,5.764,1.92,0.571],\"y\":[-4.608,-3.235,-6.392,-4.868,-3.849,-5.006,-5.417],\"z\":[-17.305,-15.552,-16.809,-14.865,-11.481,-19.616,-17.558],\"type\":\"scatter3d\"},{\"hovertemplate\":\"node_id=A8C<br>element_symbol=N<br>x_coord=%{x}<br>y_coord=%{y}<br>z_coord=%{z}<extra></extra>\",\"legendgroup\":\"A8C, N\",\"marker\":{\"color\":\"#B6E880\",\"symbol\":\"x\",\"size\":3},\"mode\":\"markers\",\"name\":\"A8C, N\",\"scene\":\"scene\",\"showlegend\":true,\"x\":[4.364,3.488,1.251],\"y\":[-3.982,-4.22,-4.581],\"z\":[-13.305,-11.029,-10.503],\"type\":\"scatter3d\"},{\"hovertemplate\":\"node_id=A8C<br>element_symbol=H<br>x_coord=%{x}<br>y_coord=%{y}<br>z_coord=%{z}<extra></extra>\",\"legendgroup\":\"A8C, H\",\"marker\":{\"color\":\"#B6E880\",\"symbol\":\"cross\",\"size\":3},\"mode\":\"markers\",\"name\":\"A8C, H\",\"scene\":\"scene\",\"showlegend\":true,\"x\":[7.924,0.981,2.67,6.199,6.069,4.517,6.269,1.487,4.124,0.29,4.599],\"y\":[-4.582,-4.679,-4.233,-3.061,-5.883,-5.937,-3.781,-4.539,-3.051,-4.735,-4.678],\"z\":[-14.015,-13.144,-14.787,-13.887,-13.904,-15.743,-17.075,-9.505,-18.124,-10.826,-18.625],\"type\":\"scatter3d\"},{\"hovertemplate\":\"node_id=A9A<br>element_symbol=P<br>x_coord=%{x}<br>y_coord=%{y}<br>z_coord=%{z}<extra></extra>\",\"legendgroup\":\"A9A, P\",\"marker\":{\"color\":\"#FF97FF\",\"symbol\":\"circle\",\"size\":3},\"mode\":\"markers\",\"name\":\"A9A, P\",\"scene\":\"scene\",\"showlegend\":true,\"x\":[6.059],\"y\":[-8.001],\"z\":[-16.74],\"type\":\"scatter3d\"},{\"hovertemplate\":\"node_id=A9A<br>element_symbol=C<br>x_coord=%{x}<br>y_coord=%{y}<br>z_coord=%{z}<extra></extra>\",\"legendgroup\":\"A9A, C\",\"marker\":{\"color\":\"#FF97FF\",\"symbol\":\"diamond\",\"size\":3},\"mode\":\"markers\",\"name\":\"A9A, C\",\"scene\":\"scene\",\"showlegend\":true,\"x\":[8.064,8.361,7.89,7.801,7.309,4.492,5.111,3.69,2.759,4.771],\"y\":[-8.527,-8.621,-9.909,-9.443,-7.99,-7.995,-7.91,-7.828,-7.829,-7.816],\"z\":[-15.078,-13.576,-12.884,-11.429,-11.566,-7.921,-10.184,-10.504,-9.398,-12.282],\"type\":\"scatter3d\"},{\"hovertemplate\":\"node_id=A9A<br>element_symbol=O<br>x_coord=%{x}<br>y_coord=%{y}<br>z_coord=%{z}<extra></extra>\",\"legendgroup\":\"A9A, O\",\"marker\":{\"color\":\"#FF97FF\",\"symbol\":\"square\",\"size\":3},\"mode\":\"markers\",\"name\":\"A9A, O\",\"scene\":\"scene\",\"showlegend\":true,\"x\":[6.656,7.709,8.799,9.081,6.792,4.569],\"y\":[-8.559,-7.544,-11.009,-9.456,-8.654,-8.344],\"z\":[-15.345,-12.878,-13.078,-10.8,-17.914,-16.827],\"type\":\"scatter3d\"},{\"hovertemplate\":\"node_id=A9A<br>element_symbol=N<br>x_coord=%{x}<br>y_coord=%{y}<br>z_coord=%{z}<extra></extra>\",\"legendgroup\":\"A9A, N\",\"marker\":{\"color\":\"#FF97FF\",\"symbol\":\"x\",\"size\":3},\"mode\":\"markers\",\"name\":\"A9A, N\",\"scene\":\"scene\",\"showlegend\":true,\"x\":[3.203,5.484,1.445,3.456,5.827],\"y\":[-7.909,-8.019,-7.772,-7.78,-7.887],\"z\":[-8.16,-8.771,-9.586,-11.871,-11.374],\"type\":\"scatter3d\"},{\"hovertemplate\":\"node_id=A9A<br>element_symbol=H<br>x_coord=%{x}<br>y_coord=%{y}<br>z_coord=%{z}<extra></extra>\",\"legendgroup\":\"A9A, H\",\"marker\":{\"color\":\"#FF97FF\",\"symbol\":\"cross\",\"size\":3},\"mode\":\"markers\",\"name\":\"A9A, H\",\"scene\":\"scene\",\"showlegend\":true,\"x\":[9.645,4.767,4.974,7.803,7.114,6.877,9.454,8.495,0.859,1.122,8.56],\"y\":[-8.898,-8.035,-7.765,-7.352,-10.083,-10.181,-8.511,-7.585,-7.786,-7.721,-9.35],\"z\":[-11.339,-6.878,-13.342,-10.809,-10.848,-13.242,-13.434,-15.466,-8.744,-10.559,-15.621],\"type\":\"scatter3d\"},{\"hovertemplate\":\"node_id=A10C<br>element_symbol=P<br>x_coord=%{x}<br>y_coord=%{y}<br>z_coord=%{z}<extra></extra>\",\"legendgroup\":\"A10C, P\",\"marker\":{\"color\":\"#FECB52\",\"symbol\":\"circle\",\"size\":3},\"mode\":\"markers\",\"name\":\"A10C, P\",\"scene\":\"scene\",\"showlegend\":true,\"x\":[8.354],\"y\":[-12.556],\"z\":[-12.856],\"type\":\"scatter3d\"},{\"hovertemplate\":\"node_id=A10C<br>element_symbol=C<br>x_coord=%{x}<br>y_coord=%{y}<br>z_coord=%{z}<extra></extra>\",\"legendgroup\":\"A10C, C\",\"marker\":{\"color\":\"#FECB52\",\"symbol\":\"diamond\",\"size\":3},\"mode\":\"markers\",\"name\":\"A10C, C\",\"scene\":\"scene\",\"showlegend\":true,\"x\":[8.986,8.342,7.503,6.608,6.358,3.882,2.45,3.524,4.786],\"y\":[-12.793,-12.675,-13.884,-13.259,-11.829,-11.487,-11.381,-11.565,-11.718],\"z\":[-10.264,-8.871,-8.437,-7.364,-7.89,-7.712,-9.667,-10.499,-9.999],\"type\":\"scatter3d\"},{\"hovertemplate\":\"node_id=A10C<br>element_symbol=O<br>x_coord=%{x}<br>y_coord=%{y}<br>z_coord=%{z}<extra></extra>\",\"legendgroup\":\"A10C, O\",\"marker\":{\"color\":\"#FECB52\",\"symbol\":\"square\",\"size\":3},\"mode\":\"markers\",\"name\":\"A10C, O\",\"scene\":\"scene\",\"showlegend\":true,\"x\":[7.991,7.443,8.321,7.273,3.968,9.502,7.126],\"y\":[-12.815,-11.547,-14.964,-13.203,-11.429,-13.477,-12.864],\"z\":[-11.299,-8.808,-7.946,-6.103,-6.485,-13.277,-13.716],\"type\":\"scatter3d\"},{\"hovertemplate\":\"node_id=A10C<br>element_symbol=N<br>x_coord=%{x}<br>y_coord=%{y}<br>z_coord=%{z}<extra></extra>\",\"legendgroup\":\"A10C, N\",\"marker\":{\"color\":\"#FECB52\",\"symbol\":\"x\",\"size\":3},\"mode\":\"markers\",\"name\":\"A10C, N\",\"scene\":\"scene\",\"showlegend\":true,\"x\":[5.006,2.582,1.152],\"y\":[-11.673,-11.357,-11.198],\"z\":[-8.516,-8.376,-10.191],\"type\":\"scatter3d\"},{\"hovertemplate\":\"node_id=A10C<br>element_symbol=H<br>x_coord=%{x}<br>y_coord=%{y}<br>z_coord=%{z}<extra></extra>\",\"legendgroup\":\"A10C, H\",\"marker\":{\"color\":\"#FECB52\",\"symbol\":\"cross\",\"size\":3},\"mode\":\"markers\",\"name\":\"A10C, H\",\"scene\":\"scene\",\"showlegend\":true,\"x\":[6.665,3.391,5.626,6.431,5.681,6.873,9.151,0.369,9.676,1.019,9.609],\"y\":[-12.767,-11.589,-11.864,-11.099,-13.841,-14.228,-12.511,-11.057,-11.945,-11.211,-13.704],\"z\":[-5.503,-11.582,-10.677,-7.059,-7.247,-9.283,-8.132,-9.544,-10.422,-11.209,-10.325],\"type\":\"scatter3d\"},{\"hovertemplate\":\"node_id=A11C<br>element_symbol=P<br>x_coord=%{x}<br>y_coord=%{y}<br>z_coord=%{z}<extra></extra>\",\"legendgroup\":\"A11C, P\",\"marker\":{\"color\":\"#636efa\",\"symbol\":\"circle\",\"size\":3},\"mode\":\"markers\",\"name\":\"A11C, P\",\"scene\":\"scene\",\"showlegend\":true,\"x\":[7.82],\"y\":[-16.509],\"z\":[-7.918],\"type\":\"scatter3d\"},{\"hovertemplate\":\"node_id=A11C<br>element_symbol=C<br>x_coord=%{x}<br>y_coord=%{y}<br>z_coord=%{z}<extra></extra>\",\"legendgroup\":\"A11C, C\",\"marker\":{\"color\":\"#636efa\",\"symbol\":\"diamond\",\"size\":3},\"mode\":\"markers\",\"name\":\"A11C, C\",\"scene\":\"scene\",\"showlegend\":true,\"x\":[6.819,5.492,4.425,3.149,3.437,1.301,1.065,2.375,3.19],\"y\":[-16.607,-16.314,-17.415,-16.612,-15.231,-14.627,-14.644,-15.021,-15.202],\"z\":[-5.428,-4.705,-4.807,-4.551,-5.147,-6.286,-8.695,-8.849,-7.766],\"type\":\"scatter3d\"},{\"hovertemplate\":\"node_id=A11C<br>element_symbol=O<br>x_coord=%{x}<br>y_coord=%{y}<br>z_coord=%{z}<extra></extra>\",\"legendgroup\":\"A11C, O\",\"marker\":{\"color\":\"#636efa\",\"symbol\":\"square\",\"size\":3},\"mode\":\"markers\",\"name\":\"A11C, O\",\"scene\":\"scene\",\"showlegend\":true,\"x\":[6.616,4.869,4.54,2.902,0.754,8.992,7.321],\"y\":[-16.689,-15.155,-18.499,-16.463,-14.501,-17.412,-16.911],\"z\":[-6.85,-5.306,-3.861,-3.154,-5.189,-7.529,-9.308],\"type\":\"scatter3d\"},{\"hovertemplate\":\"node_id=A11C<br>element_symbol=N<br>x_coord=%{x}<br>y_coord=%{y}<br>z_coord=%{z}<extra></extra>\",\"legendgroup\":\"A11C, N\",\"marker\":{\"color\":\"#636efa\",\"symbol\":\"x\",\"size\":3},\"mode\":\"markers\",\"name\":\"A11C, N\",\"scene\":\"scene\",\"showlegend\":true,\"x\":[2.645,0.542,0.226],\"y\":[-14.978,-14.445,-14.457],\"z\":[-6.39,-7.525,-9.815],\"type\":\"scatter3d\"},{\"hovertemplate\":\"node_id=A11C<br>element_symbol=H<br>x_coord=%{x}<br>y_coord=%{y}<br>z_coord=%{z}<extra></extra>\",\"legendgroup\":\"A11C, H\",\"marker\":{\"color\":\"#636efa\",\"symbol\":\"cross\",\"size\":3},\"mode\":\"markers\",\"name\":\"A11C, H\",\"scene\":\"scene\",\"showlegend\":true,\"x\":[3.682,2.793,4.226,3.153,2.285,4.468,5.704,-0.748,7.544,0.608,7.27],\"y\":[-16.035,-15.185,-15.513,-14.461,-17.112,-17.807,-16.096,-14.175,-15.804,-14.61,-17.544],\"z\":[-2.792,-9.844,-7.904,-4.41,-5.017,-5.84,-3.639,-9.665,-5.199,-10.754,-5.056],\"type\":\"scatter3d\"},{\"hovertemplate\":\"node_id=A12U<br>element_symbol=P<br>x_coord=%{x}<br>y_coord=%{y}<br>z_coord=%{z}<extra></extra>\",\"legendgroup\":\"A12U, P\",\"marker\":{\"color\":\"#EF553B\",\"symbol\":\"circle\",\"size\":3},\"mode\":\"markers\",\"name\":\"A12U, P\",\"scene\":\"scene\",\"showlegend\":true,\"x\":[3.656],\"y\":[-19.871],\"z\":[-3.995],\"type\":\"scatter3d\"},{\"hovertemplate\":\"node_id=A12U<br>element_symbol=C<br>x_coord=%{x}<br>y_coord=%{y}<br>z_coord=%{z}<extra></extra>\",\"legendgroup\":\"A12U, C\",\"marker\":{\"color\":\"#EF553B\",\"symbol\":\"diamond\",\"size\":3},\"mode\":\"markers\",\"name\":\"A12U, C\",\"scene\":\"scene\",\"showlegend\":true,\"x\":[1.167,-0.207,-1.114,-2.065,-1.144,-1.403,0.313,1.194,0.702],\"y\":[-19.21,-18.686,-19.744,-18.868,-17.747,-17.536,-18.188,-18.632,-18.484],\"z\":[-3.101,-3.594,-4.243,-5.081,-5.572,-8.071,-9.643,-8.446,-7.195],\"type\":\"scatter3d\"},{\"hovertemplate\":\"node_id=A12U<br>element_symbol=O<br>x_coord=%{x}<br>y_coord=%{y}<br>z_coord=%{z}<extra></extra>\",\"legendgroup\":\"A12U, O\",\"marker\":{\"color\":\"#EF553B\",\"symbol\":\"square\",\"size\":3},\"mode\":\"markers\",\"name\":\"A12U, O\",\"scene\":\"scene\",\"showlegend\":true,\"x\":[2.062,-0.085,-1.776,-3.092,-2.534,0.696,3.87,4.139],\"y\":[-19.55,-17.634,-20.514,-18.33,-17.071,-18.29,-20.733,-20.648],\"z\":[-4.179,-4.578,-3.22,-4.256,-7.953,-10.806,-2.748,-5.222],\"type\":\"scatter3d\"},{\"hovertemplate\":\"node_id=A12U<br>element_symbol=N<br>x_coord=%{x}<br>y_coord=%{y}<br>z_coord=%{z}<extra></extra>\",\"legendgroup\":\"A12U, N\",\"marker\":{\"color\":\"#EF553B\",\"symbol\":\"x\",\"size\":3},\"mode\":\"markers\",\"name\":\"A12U, N\",\"scene\":\"scene\",\"showlegend\":true,\"x\":[-0.637,-0.917],\"y\":[-17.918,-17.672],\"z\":[-6.973,-9.346],\"type\":\"scatter3d\"},{\"hovertemplate\":\"node_id=A12U<br>element_symbol=H<br>x_coord=%{x}<br>y_coord=%{y}<br>z_coord=%{z}<extra></extra>\",\"legendgroup\":\"A12U, H\",\"marker\":{\"color\":\"#EF553B\",\"symbol\":\"cross\",\"size\":3},\"mode\":\"markers\",\"name\":\"A12U, H\",\"scene\":\"scene\",\"showlegend\":true,\"x\":[-3.608,-1.515,2.186,1.244,-1.721,-2.557,-0.496,-0.732,1.637,1.024],\"y\":[-19.081,-17.376,-19.049,-18.755,-16.827,-19.358,-20.397,-18.26,-18.452,-20.093],\"z\":[-3.952,-10.123,-8.619,-6.308,-5.56,-5.936,-4.891,-2.717,-2.452,-2.451],\"type\":\"scatter3d\"},{\"hovertemplate\":\"node_id=A13U<br>element_symbol=P<br>x_coord=%{x}<br>y_coord=%{y}<br>z_coord=%{z}<extra></extra>\",\"legendgroup\":\"A13U, P\",\"marker\":{\"color\":\"#00cc96\",\"symbol\":\"circle\",\"size\":3},\"mode\":\"markers\",\"name\":\"A13U, P\",\"scene\":\"scene\",\"showlegend\":true,\"x\":[-2.65],\"y\":[-21.854],\"z\":[-3.478],\"type\":\"scatter3d\"},{\"hovertemplate\":\"node_id=A13U<br>element_symbol=C<br>x_coord=%{x}<br>y_coord=%{y}<br>z_coord=%{z}<extra></extra>\",\"legendgroup\":\"A13U, C\",\"marker\":{\"color\":\"#00cc96\",\"symbol\":\"diamond\",\"size\":3},\"mode\":\"markers\",\"name\":\"A13U, C\",\"scene\":\"scene\",\"showlegend\":true,\"x\":[-5.223,-6.612,-7.077,-7.337,-7.349,-7.65,-5.775,-4.816,-5.351],\"y\":[-22.434,-21.789,-20.902,-19.524,-19.778,-17.69,-16.368,-17.403,-18.467],\"z\":[-3.952,-3.771,-4.945,-4.311,-2.795,-1.419,-0.645,-1.293,-1.937],\"type\":\"scatter3d\"},{\"hovertemplate\":\"node_id=A13U<br>element_symbol=O<br>x_coord=%{x}<br>y_coord=%{y}<br>z_coord=%{z}<extra></extra>\",\"legendgroup\":\"A13U, O\",\"marker\":{\"color\":\"#00cc96\",\"symbol\":\"square\",\"size\":3},\"mode\":\"markers\",\"name\":\"A13U, O\",\"scene\":\"scene\",\"showlegend\":true,\"x\":[-4.165,-6.593,-8.282,-8.562,-8.879,-5.355,-2.687,-2.001],\"y\":[-21.455,-20.981,-21.446,-18.931,-17.773,-15.374,-22.658,-22.707],\"z\":[-3.907,-2.585,-5.522,-4.73,-1.476,-0.057,-2.175,-4.572],\"type\":\"scatter3d\"},{\"hovertemplate\":\"node_id=A13U<br>element_symbol=N<br>x_coord=%{x}<br>y_coord=%{y}<br>z_coord=%{z}<extra></extra>\",\"legendgroup\":\"A13U, N\",\"marker\":{\"color\":\"#00cc96\",\"symbol\":\"x\",\"size\":3},\"mode\":\"markers\",\"name\":\"A13U, N\",\"scene\":\"scene\",\"showlegend\":true,\"x\":[-6.812,-7.118],\"y\":[-18.632,-16.61],\"z\":[-2.008,-0.763],\"type\":\"scatter3d\"},{\"hovertemplate\":\"node_id=A13U<br>element_symbol=H<br>x_coord=%{x}<br>y_coord=%{y}<br>z_coord=%{z}<extra></extra>\",\"legendgroup\":\"A13U, H\",\"marker\":{\"color\":\"#00cc96\",\"symbol\":\"cross\",\"size\":3},\"mode\":\"markers\",\"name\":\"A13U, H\",\"scene\":\"scene\",\"showlegend\":true,\"x\":[-8.626,-7.766,-3.737,-4.771,-8.359,-6.509,-6.292,-7.343,-5.08,-5.175],\"y\":[-18.095,-15.933,-17.263,-19.237,-20.006,-18.839,-20.804,-22.605,-23.182,-23.0],\"z\":[-4.262,-0.347,-1.233,-2.435,-2.453,-4.572,-5.715,-3.614,-3.149,-4.901],\"type\":\"scatter3d\"},{\"hovertemplate\":\"node_id=A14C<br>element_symbol=P<br>x_coord=%{x}<br>y_coord=%{y}<br>z_coord=%{z}<extra></extra>\",\"legendgroup\":\"A14C, P\",\"marker\":{\"color\":\"#ab63fa\",\"symbol\":\"circle\",\"size\":3},\"mode\":\"markers\",\"name\":\"A14C, P\",\"scene\":\"scene\",\"showlegend\":true,\"x\":[-8.364],\"y\":[-21.966],\"z\":[-7.058],\"type\":\"scatter3d\"},{\"hovertemplate\":\"node_id=A14C<br>element_symbol=C<br>x_coord=%{x}<br>y_coord=%{y}<br>z_coord=%{z}<extra></extra>\",\"legendgroup\":\"A14C, C\",\"marker\":{\"color\":\"#ab63fa\",\"symbol\":\"diamond\",\"size\":3},\"mode\":\"markers\",\"name\":\"A14C, C\",\"scene\":\"scene\",\"showlegend\":true,\"x\":[-8.433,-7.624,-7.595,-6.275,-5.358,-3.094,-2.091,-3.171,-4.215],\"y\":[-19.569,-18.679,-19.141,-19.907,-19.117,-20.179,-21.505,-21.262,-20.499],\"z\":[-8.262,-9.227,-10.699,-10.785,-9.832,-10.157,-8.383,-7.577,-7.996],\"type\":\"scatter3d\"},{\"hovertemplate\":\"node_id=A14C<br>element_symbol=O<br>x_coord=%{x}<br>y_coord=%{y}<br>z_coord=%{z}<extra></extra>\",\"legendgroup\":\"A14C, O\",\"marker\":{\"color\":\"#ab63fa\",\"symbol\":\"square\",\"size\":3},\"mode\":\"markers\",\"name\":\"A14C, O\",\"scene\":\"scene\",\"showlegend\":true,\"x\":[-7.8,-6.243,-7.545,-5.77,-3.001,-9.818,-7.517],\"y\":[-20.842,-18.629,-18.001,-19.965,-19.703,-22.294,-23.231],\"z\":[-8.078,-8.79,-11.586,-12.115,-11.292,-7.404,-7.203],\"type\":\"scatter3d\"},{\"hovertemplate\":\"node_id=A14C<br>element_symbol=N<br>x_coord=%{x}<br>y_coord=%{y}<br>z_coord=%{z}<extra></extra>\",\"legendgroup\":\"A14C, N\",\"marker\":{\"color\":\"#ab63fa\",\"symbol\":\"x\",\"size\":3},\"mode\":\"markers\",\"name\":\"A14C, N\",\"scene\":\"scene\",\"showlegend\":true,\"x\":[-4.206,-2.02,-1.013],\"y\":[-19.927,-21.03,-22.279],\"z\":[-9.353,-9.595,-7.894],\"type\":\"scatter3d\"},{\"hovertemplate\":\"node_id=A14C<br>element_symbol=H<br>x_coord=%{x}<br>y_coord=%{y}<br>z_coord=%{z}<extra></extra>\",\"legendgroup\":\"A14C, H\",\"marker\":{\"color\":\"#ab63fa\",\"symbol\":\"cross\",\"size\":3},\"mode\":\"markers\",\"name\":\"A14C, H\",\"scene\":\"scene\",\"showlegend\":true,\"x\":[-5.67,-3.237,-5.054,-4.928,-6.417,-8.447,-8.087,-0.207,-8.522,-1.059,-9.466],\"y\":[-19.054,-21.633,-20.277,-18.219,-20.936,-19.797,-17.674,-22.453,-19.056,-22.652,-19.705],\"z\":[-12.4,-6.563,-7.355,-10.291,-10.399,-10.958,-9.169,-8.505,-7.288,-6.939,-8.632],\"type\":\"scatter3d\"},{\"hovertemplate\":\"node_id=B15G<br>element_symbol=P<br>x_coord=%{x}<br>y_coord=%{y}<br>z_coord=%{z}<extra></extra>\",\"legendgroup\":\"B15G, P\",\"marker\":{\"color\":\"#FFA15A\",\"symbol\":\"circle\",\"size\":3},\"mode\":\"markers\",\"name\":\"B15G, P\",\"scene\":\"scene\",\"showlegend\":true,\"x\":[-8.841],\"y\":[-17.422],\"z\":[-12.363],\"type\":\"scatter3d\"},{\"hovertemplate\":\"node_id=B15G<br>element_symbol=C<br>x_coord=%{x}<br>y_coord=%{y}<br>z_coord=%{z}<extra></extra>\",\"legendgroup\":\"B15G, C\",\"marker\":{\"color\":\"#FFA15A\",\"symbol\":\"diamond\",\"size\":3},\"mode\":\"markers\",\"name\":\"B15G, C\",\"scene\":\"scene\",\"showlegend\":true,\"x\":[-9.518,-10.375,-10.22,-10.739,-10.302,-5.678,-7.733,-7.024,-5.497,-9.042],\"y\":[-15.395,-15.168,-13.767,-13.973,-15.419,-15.642,-15.5,-15.705,-15.953,-15.633],\"z\":[-10.764,-9.512,-8.906,-7.485,-7.18,-7.849,-6.593,-5.361,-5.373,-4.934],\"type\":\"scatter3d\"},{\"hovertemplate\":\"node_id=B15G<br>element_symbol=O<br>x_coord=%{x}<br>y_coord=%{y}<br>z_coord=%{z}<extra></extra>\",\"legendgroup\":\"B15G, O\",\"marker\":{\"color\":\"#FFA15A\",\"symbol\":\"square\",\"size\":3},\"mode\":\"markers\",\"name\":\"B15G, O\",\"scene\":\"scene\",\"showlegend\":true,\"x\":[-9.815,-10.049,-10.951,-12.161,-4.843,-8.385,-9.596],\"y\":[-16.686,-16.077,-12.761,-13.877,-16.141,-16.427,-18.569],\"z\":[-11.309,-8.445,-9.633,-7.44,-4.349,-13.434,-13.039],\"type\":\"scatter3d\"},{\"hovertemplate\":\"node_id=B15G<br>element_symbol=N<br>x_coord=%{x}<br>y_coord=%{y}<br>z_coord=%{z}<extra></extra>\",\"legendgroup\":\"B15G, N\",\"marker\":{\"color\":\"#FFA15A\",\"symbol\":\"x\",\"size\":3},\"mode\":\"markers\",\"name\":\"B15G, N\",\"scene\":\"scene\",\"showlegend\":true,\"x\":[-4.92,-5.006,-6.957,-7.851,-9.096],\"y\":[-15.944,-15.563,-15.447,-15.76,-15.497],\"z\":[-6.611,-9.087,-7.81,-4.26,-6.305],\"type\":\"scatter3d\"},{\"hovertemplate\":\"node_id=B15G<br>element_symbol=H<br>x_coord=%{x}<br>y_coord=%{y}<br>z_coord=%{z}<extra></extra>\",\"legendgroup\":\"B15G, H\",\"marker\":{\"color\":\"#FFA15A\",\"symbol\":\"cross\",\"size\":3},\"mode\":\"markers\",\"name\":\"B15G, H\",\"scene\":\"scene\",\"showlegend\":true,\"x\":[-12.491,-3.918,-9.975,-11.121,-10.316,-3.992,-9.146,-5.546,-11.421,-9.741,-8.441],\"y\":[-14.533,-16.171,-15.685,-15.953,-13.213,-15.716,-13.502,-15.352,-15.368,-14.62,-15.296],\"z\":[-8.057,-6.621,-4.396,-6.659,-6.803,-9.114,-8.849,-9.934,-9.787,-11.525,-10.533],\"type\":\"scatter3d\"},{\"hovertemplate\":\"node_id=B16G<br>element_symbol=P<br>x_coord=%{x}<br>y_coord=%{y}<br>z_coord=%{z}<extra></extra>\",\"legendgroup\":\"B16G, P\",\"marker\":{\"color\":\"#19d3f3\",\"symbol\":\"circle\",\"size\":3},\"mode\":\"markers\",\"name\":\"B16G, P\",\"scene\":\"scene\",\"showlegend\":true,\"x\":[-10.604],\"y\":[-11.186],\"z\":[-9.475],\"type\":\"scatter3d\"},{\"hovertemplate\":\"node_id=B16G<br>element_symbol=C<br>x_coord=%{x}<br>y_coord=%{y}<br>z_coord=%{z}<extra></extra>\",\"legendgroup\":\"B16G, C\",\"marker\":{\"color\":\"#19d3f3\",\"symbol\":\"diamond\",\"size\":3},\"mode\":\"markers\",\"name\":\"B16G, C\",\"scene\":\"scene\",\"showlegend\":true,\"x\":[-9.805,-9.199,-8.051,-7.189,-7.33,-2.919,-4.943,-4.367,-2.928,-6.334],\"y\":[-9.791,-10.336,-9.477,-10.507,-11.755,-13.239,-12.265,-12.218,-12.736,-11.608],\"z\":[-7.298,-5.988,-5.442,-4.705,-5.59,-5.676,-6.558,-7.878,-8.123,-8.012],\"type\":\"scatter3d\"},{\"hovertemplate\":\"node_id=B16G<br>element_symbol=O<br>x_coord=%{x}<br>y_coord=%{y}<br>z_coord=%{z}<extra></extra>\",\"legendgroup\":\"B16G, O\",\"marker\":{\"color\":\"#19d3f3\",\"symbol\":\"square\",\"size\":3},\"mode\":\"markers\",\"name\":\"B16G, O\",\"scene\":\"scene\",\"showlegend\":true,\"x\":[-10.644,-8.629,-8.522,-7.709,-2.382,-11.641,-9.216],\"y\":[-10.791,-11.646,-8.401,-10.776,-12.744,-10.357,-10.922],\"z\":[-7.898,-6.2,-4.607,-3.405,-9.225,-10.234,-10.067],\"type\":\"scatter3d\"},{\"hovertemplate\":\"node_id=B16G<br>element_symbol=N<br>x_coord=%{x}<br>y_coord=%{y}<br>z_coord=%{z}<extra></extra>\",\"legendgroup\":\"B16G, N\",\"marker\":{\"color\":\"#19d3f3\",\"symbol\":\"x\",\"size\":3},\"mode\":\"markers\",\"name\":\"B16G, N\",\"scene\":\"scene\",\"showlegend\":true,\"x\":[-2.297,-2.205,-4.114,-5.254,-6.264],\"y\":[-13.209,-13.801,-12.774,-11.79,-11.842],\"z\":[-7.013,-4.604,-5.487,-8.843,-6.646],\"type\":\"scatter3d\"},{\"hovertemplate\":\"node_id=B16G<br>element_symbol=H<br>x_coord=%{x}<br>y_coord=%{y}<br>z_coord=%{z}<extra></extra>\",\"legendgroup\":\"B16G, H\",\"marker\":{\"color\":\"#19d3f3\",\"symbol\":\"cross\",\"size\":3},\"mode\":\"markers\",\"name\":\"B16G, H\",\"scene\":\"scene\",\"showlegend\":true,\"x\":[-8.617,-1.35,-7.284,-7.293,-6.144,-1.263,-7.467,-2.641,-9.999,-10.396,-9.002],\"y\":[-11.061,-13.569,-11.334,-12.674,-10.17,-14.172,-9.08,-13.829,-10.432,-8.879,-9.49],\"z\":[-3.538,-7.177,-8.446,-4.973,-4.609,-4.772,-6.293,-3.676,-5.229,-7.102,-7.996],\"type\":\"scatter3d\"},{\"hovertemplate\":\"node_id=B17G<br>element_symbol=P<br>x_coord=%{x}<br>y_coord=%{y}<br>z_coord=%{z}<extra></extra>\",\"legendgroup\":\"B17G, P\",\"marker\":{\"color\":\"#FF6692\",\"symbol\":\"circle\",\"size\":3},\"mode\":\"markers\",\"name\":\"B17G, P\",\"scene\":\"scene\",\"showlegend\":true,\"x\":[-7.659],\"y\":[-7.049],\"z\":[-4.342],\"type\":\"scatter3d\"},{\"hovertemplate\":\"node_id=B17G<br>element_symbol=C<br>x_coord=%{x}<br>y_coord=%{y}<br>z_coord=%{z}<extra></extra>\",\"legendgroup\":\"B17G, C\",\"marker\":{\"color\":\"#FF6692\",\"symbol\":\"diamond\",\"size\":3},\"mode\":\"markers\",\"name\":\"B17G, C\",\"scene\":\"scene\",\"showlegend\":true,\"x\":[-6.494,-5.214,-3.956,-2.848,-3.458,0.291,-1.861,-1.982,-0.858,-3.699],\"y\":[-7.8,-8.513,-7.63,-8.672,-9.692,-10.871,-9.864,-9.515,-9.9,-8.919],\"z\":[-2.053,-1.586,-1.519,-1.679,-2.653,-5.11,-4.713,-6.103,-7.102,-5.128],\"type\":\"scatter3d\"},{\"hovertemplate\":\"node_id=B17G<br>element_symbol=O<br>x_coord=%{x}<br>y_coord=%{y}<br>z_coord=%{z}<extra></extra>\",\"legendgroup\":\"B17G, O\",\"marker\":{\"color\":\"#FF6692\",\"symbol\":\"square\",\"size\":3},\"mode\":\"markers\",\"name\":\"B17G, O\",\"scene\":\"scene\",\"showlegend\":true,\"x\":[-6.372,-4.889,-3.867,-2.553,-0.892,-8.542,-7.186],\"y\":[-7.382,-9.588,-6.89,-9.313,-9.662,-6.019,-6.468],\"z\":[-3.421,-2.493,-0.285,-0.44,-8.307,-3.635,-5.677],\"type\":\"scatter3d\"},{\"hovertemplate\":\"node_id=B17G<br>element_symbol=N<br>x_coord=%{x}<br>y_coord=%{y}<br>z_coord=%{z}<extra></extra>\",\"legendgroup\":\"B17G, N\",\"marker\":{\"color\":\"#FF6692\",\"symbol\":\"x\",\"size\":3},\"mode\":\"markers\",\"name\":\"B17G, N\",\"scene\":\"scene\",\"showlegend\":true,\"x\":[0.199,1.445,-0.663,-3.177,-3.019],\"y\":[-10.551,-11.509,-10.555,-8.892,-9.459],\"z\":[-6.546,-4.625,-4.295,-6.402,-4.062],\"type\":\"scatter3d\"},{\"hovertemplate\":\"node_id=B17G<br>element_symbol=H<br>x_coord=%{x}<br>y_coord=%{y}<br>z_coord=%{z}<extra></extra>\",\"legendgroup\":\"B17G, H\",\"marker\":{\"color\":\"#FF6692\",\"symbol\":\"cross\",\"size\":3},\"mode\":\"markers\",\"name\":\"B17G, H\",\"scene\":\"scene\",\"showlegend\":true,\"x\":[-3.379,0.946,-4.701,-3.154,-1.932,2.196,-3.933,1.512,-5.403,-7.354,-6.714],\"y\":[-9.694,-10.798,-8.595,-10.709,-8.21,-11.748,-6.938,-11.724,-8.951,-8.488,-6.928],\"z\":[-0.135,-7.203,-4.928,-2.395,-2.073,-5.282,-2.384,-3.624,-0.587,-1.944,-1.41],\"type\":\"scatter3d\"},{\"hovertemplate\":\"node_id=B18U<br>element_symbol=P<br>x_coord=%{x}<br>y_coord=%{y}<br>z_coord=%{z}<extra></extra>\",\"legendgroup\":\"B18U, P\",\"marker\":{\"color\":\"#B6E880\",\"symbol\":\"circle\",\"size\":3},\"mode\":\"markers\",\"name\":\"B18U, P\",\"scene\":\"scene\",\"showlegend\":true,\"x\":[-2.94],\"y\":[-5.563],\"z\":[-0.115],\"type\":\"scatter3d\"},{\"hovertemplate\":\"node_id=B18U<br>element_symbol=C<br>x_coord=%{x}<br>y_coord=%{y}<br>z_coord=%{z}<extra></extra>\",\"legendgroup\":\"B18U, C\",\"marker\":{\"color\":\"#B6E880\",\"symbol\":\"diamond\",\"size\":3},\"mode\":\"markers\",\"name\":\"B18U, C\",\"scene\":\"scene\",\"showlegend\":true,\"x\":[-0.686,0.567,1.714,2.468,1.347,1.844,0.45,-0.478,-0.179],\"y\":[-6.74,-7.41,-6.467,-7.298,-8.074,-7.789,-6.571,-6.184,-6.631],\"z\":[0.753,0.156,-0.222,-1.262,-1.981,-4.41,-5.961,-4.783,-3.54],\"type\":\"scatter3d\"},{\"hovertemplate\":\"node_id=B18U<br>element_symbol=O<br>x_coord=%{x}<br>y_coord=%{y}<br>z_coord=%{z}<extra></extra>\",\"legendgroup\":\"B18U, O\",\"marker\":{\"color\":\"#B6E880\",\"symbol\":\"square\",\"size\":3},\"mode\":\"markers\",\"name\":\"B18U, O\",\"scene\":\"scene\",\"showlegend\":true,\"x\":[-1.369,0.232,2.54,3.362,2.869,0.222,-3.21,-3.29],\"y\":[-5.949,-8.09,-6.123,-8.222,-8.467,-6.216,-4.932,-4.551],\"z\":[-0.234,-1.067,0.909,-0.647,-4.306,-7.117,1.253,-1.209],\"type\":\"scatter3d\"},{\"hovertemplate\":\"node_id=B18U<br>element_symbol=N<br>x_coord=%{x}<br>y_coord=%{y}<br>z_coord=%{z}<extra></extra>\",\"legendgroup\":\"B18U, N\",\"marker\":{\"color\":\"#B6E880\",\"symbol\":\"x\",\"size\":3},\"mode\":\"markers\",\"name\":\"B18U, N\",\"scene\":\"scene\",\"showlegend\":true,\"x\":[1.015,1.543],\"y\":[-7.501,-7.328],\"z\":[-3.327,-5.655],\"type\":\"scatter3d\"},{\"hovertemplate\":\"node_id=B18U<br>element_symbol=H<br>x_coord=%{x}<br>y_coord=%{y}<br>z_coord=%{z}<extra></extra>\",\"legendgroup\":\"B18U, H\",\"marker\":{\"color\":\"#B6E880\",\"symbol\":\"cross\",\"size\":3},\"mode\":\"markers\",\"name\":\"B18U, H\",\"scene\":\"scene\",\"showlegend\":true,\"x\":[2.825,2.199,-1.353,-0.818,1.631,3.044,1.303,0.938,-1.364,-0.417],\"y\":[-8.76,-7.579,-5.56,-6.35,-9.134,-6.648,-5.556,-8.161,-7.52,-6.109],\"z\":[-0.06,-6.407,-4.961,-2.706,-2.126,-1.943,-0.702,0.881,1.143,1.62],\"type\":\"scatter3d\"},{\"hovertemplate\":\"node_id=B19G<br>element_symbol=P<br>x_coord=%{x}<br>y_coord=%{y}<br>z_coord=%{z}<extra></extra>\",\"legendgroup\":\"B19G, P\",\"marker\":{\"color\":\"#FF97FF\",\"symbol\":\"circle\",\"size\":3},\"mode\":\"markers\",\"name\":\"B19G, P\",\"scene\":\"scene\",\"showlegend\":true,\"x\":[3.352],\"y\":[-4.72],\"z\":[1.038],\"type\":\"scatter3d\"},{\"hovertemplate\":\"node_id=B19G<br>element_symbol=C<br>x_coord=%{x}<br>y_coord=%{y}<br>z_coord=%{z}<extra></extra>\",\"legendgroup\":\"B19G, C\",\"marker\":{\"color\":\"#FF97FF\",\"symbol\":\"diamond\",\"size\":3},\"mode\":\"markers\",\"name\":\"B19G, C\",\"scene\":\"scene\",\"showlegend\":true,\"x\":[5.736,6.291,6.65,6.665,5.843,5.446,4.725,3.403,3.064,3.417],\"y\":[-5.981,-5.552,-4.072,-3.871,-5.067,-4.582,-4.532,-4.132,-3.953,-4.308],\"z\":[0.679,-0.702,-0.859,-2.385,-2.923,-7.538,-5.231,-5.634,-7.136,-3.578],\"type\":\"scatter3d\"},{\"hovertemplate\":\"node_id=B19G<br>element_symbol=O<br>x_coord=%{x}<br>y_coord=%{y}<br>z_coord=%{z}<extra></extra>\",\"legendgroup\":\"B19G, O\",\"marker\":{\"color\":\"#FF97FF\",\"symbol\":\"square\",\"size\":3},\"mode\":\"markers\",\"name\":\"B19G, O\",\"scene\":\"scene\",\"showlegend\":true,\"x\":[4.917,5.349,7.893,7.989,1.95,2.758,3.235],\"y\":[-5.003,-5.771,-3.752,-3.91,-3.644,-3.912,-3.894],\"z\":[1.352,-1.762,-0.213,-2.914,-7.556,2.193,-0.244],\"type\":\"scatter3d\"},{\"hovertemplate\":\"node_id=B19G<br>element_symbol=N<br>x_coord=%{x}<br>y_coord=%{y}<br>z_coord=%{z}<extra></extra>\",\"legendgroup\":\"B19G, N\",\"marker\":{\"color\":\"#FF97FF\",\"symbol\":\"x\",\"size\":3},\"mode\":\"markers\",\"name\":\"B19G, N\",\"scene\":\"scene\",\"showlegend\":true,\"x\":[4.102,6.441,5.71,2.535,4.737],\"y\":[-4.176,-4.809,-4.736,-3.972,-4.649],\"z\":[-7.983,-8.514,-6.276,-4.577,-3.841],\"type\":\"scatter3d\"},{\"hovertemplate\":\"node_id=B19G<br>element_symbol=H<br>x_coord=%{x}<br>y_coord=%{y}<br>z_coord=%{z}<extra></extra>\",\"legendgroup\":\"B19G, H\",\"marker\":{\"color\":\"#FF97FF\",\"symbol\":\"cross\",\"size\":3},\"mode\":\"markers\",\"name\":\"B19G, H\",\"scene\":\"scene\",\"showlegend\":true,\"x\":[8.458,3.875,3.049,6.504,6.219,6.206,5.832,7.38,7.185,5.202,6.597],\"y\":[-3.178,-4.07,-4.347,-5.764,-2.888,-4.683,-3.453,-5.094,-6.176,-6.945,-6.191],\"z\":[-2.507,-8.978,-2.567,-3.475,-2.631,-9.505,-0.442,-8.212,-0.906,0.603,1.339],\"type\":\"scatter3d\"},{\"hovertemplate\":\"node_id=B20A<br>element_symbol=P<br>x_coord=%{x}<br>y_coord=%{y}<br>z_coord=%{z}<extra></extra>\",\"legendgroup\":\"B20A, P\",\"marker\":{\"color\":\"#FECB52\",\"symbol\":\"circle\",\"size\":3},\"mode\":\"markers\",\"name\":\"B20A, P\",\"scene\":\"scene\",\"showlegend\":true,\"x\":[8.13],\"y\":[-2.314],\"z\":[0.487],\"type\":\"scatter3d\"},{\"hovertemplate\":\"node_id=B20A<br>element_symbol=C<br>x_coord=%{x}<br>y_coord=%{y}<br>z_coord=%{z}<extra></extra>\",\"legendgroup\":\"B20A, C\",\"marker\":{\"color\":\"#FECB52\",\"symbol\":\"diamond\",\"size\":3},\"mode\":\"markers\",\"name\":\"B20A, C\",\"scene\":\"scene\",\"showlegend\":true,\"x\":[7.792,9.1,9.069,10.076,9.921,10.411,9.328,8.167,8.279,7.706],\"y\":[0.224,0.525,1.836,1.559,0.048,-0.34,-0.383,-0.94,-1.156,-0.742],\"z\":[-0.4,-1.171,-1.971,-3.093,-3.343,-7.941,-5.855,-6.545,-7.974,-4.527],\"type\":\"scatter3d\"},{\"hovertemplate\":\"node_id=B20A<br>element_symbol=O<br>x_coord=%{x}<br>y_coord=%{y}<br>z_coord=%{z}<extra></extra>\",\"legendgroup\":\"B20A, O\",\"marker\":{\"color\":\"#FECB52\",\"symbol\":\"square\",\"size\":3},\"mode\":\"markers\",\"name\":\"B20A, O\",\"scene\":\"scene\",\"showlegend\":true,\"x\":[7.459,9.399,9.405,11.405,9.634,7.466],\"y\":[-1.17,-0.514,2.964,1.847,-2.072,-2.3],\"z\":[-0.446,-2.126,-1.134,-2.666,0.64,1.866],\"type\":\"scatter3d\"},{\"hovertemplate\":\"node_id=B20A<br>element_symbol=N<br>x_coord=%{x}<br>y_coord=%{y}<br>z_coord=%{z}<extra></extra>\",\"legendgroup\":\"B20A, N\",\"marker\":{\"color\":\"#FECB52\",\"symbol\":\"x\",\"size\":3},\"mode\":\"markers\",\"name\":\"B20A, N\",\"scene\":\"scene\",\"showlegend\":true,\"x\":[9.395,10.511,7.269,7.099,9.018],\"y\":[-0.849,-0.076,-1.637,-1.171,-0.274],\"z\":[-8.607,-6.664,-8.688,-5.689,-4.501],\"type\":\"scatter3d\"},{\"hovertemplate\":\"node_id=B20A<br>element_symbol=H<br>x_coord=%{x}<br>y_coord=%{y}<br>z_coord=%{z}<extra></extra>\",\"legendgroup\":\"B20A, H\",\"marker\":{\"color\":\"#FECB52\",\"symbol\":\"cross\",\"size\":3},\"mode\":\"markers\",\"name\":\"B20A, H\",\"scene\":\"scene\",\"showlegend\":true,\"x\":[11.555,11.283,7.148,10.912,9.86,8.069,9.935,7.863,7.431,6.407,6.94],\"y\":[1.309,-0.105,-0.799,-0.397,2.153,1.982,0.551,0.574,-1.749,-1.857,0.778],\"z\":[-1.886,-8.534,-3.603,-3.543,-3.995,-2.426,-0.446,0.646,-9.695,-8.177,-0.837],\"type\":\"scatter3d\"},{\"hovertemplate\":\"node_id=B21A<br>element_symbol=P<br>x_coord=%{x}<br>y_coord=%{y}<br>z_coord=%{z}<extra></extra>\",\"legendgroup\":\"B21A, P\",\"marker\":{\"color\":\"#636efa\",\"symbol\":\"circle\",\"size\":3},\"mode\":\"markers\",\"name\":\"B21A, P\",\"scene\":\"scene\",\"showlegend\":true,\"x\":[9.072],\"y\":[4.496],\"z\":[-1.548],\"type\":\"scatter3d\"},{\"hovertemplate\":\"node_id=B21A<br>element_symbol=C<br>x_coord=%{x}<br>y_coord=%{y}<br>z_coord=%{z}<extra></extra>\",\"legendgroup\":\"B21A, C\",\"marker\":{\"color\":\"#636efa\",\"symbol\":\"diamond\",\"size\":3},\"mode\":\"markers\",\"name\":\"B21A, C\",\"scene\":\"scene\",\"showlegend\":true,\"x\":[9.69,10.474,9.883,10.174,10.101,7.693,8.155,6.862,6.068,7.765],\"y\":[5.949,5.709,6.423,5.435,4.065,2.089,2.853,2.312,1.661,3.165],\"z\":[-3.729,-5.034,-6.265,-7.402,-6.707,-10.094,-7.926,-7.526,-8.545,-5.86],\"type\":\"scatter3d\"},{\"hovertemplate\":\"node_id=B21A<br>element_symbol=O<br>x_coord=%{x}<br>y_coord=%{y}<br>z_coord=%{z}<extra></extra>\",\"legendgroup\":\"B21A, O\",\"marker\":{\"color\":\"#636efa\",\"symbol\":\"square\",\"size\":3},\"mode\":\"markers\",\"name\":\"B21A, O\",\"scene\":\"scene\",\"showlegend\":true,\"x\":[10.034,10.468,10.465,11.486,9.332,7.597],\"y\":[4.931,4.296,7.722,5.634,5.413,4.603],\"z\":[-2.774,-5.338,-6.489,-7.925,-0.352,-1.956],\"type\":\"scatter3d\"},{\"hovertemplate\":\"node_id=B21A<br>element_symbol=N<br>x_coord=%{x}<br>y_coord=%{y}<br>z_coord=%{z}<extra></extra>\",\"legendgroup\":\"B21A, N\",\"marker\":{\"color\":\"#636efa\",\"symbol\":\"x\",\"size\":3},\"mode\":\"markers\",\"name\":\"B21A, N\",\"scene\":\"scene\",\"showlegend\":true,\"x\":[6.516,8.551,4.887,6.596,8.749],\"y\":[1.583,2.702,1.127,2.51,3.428],\"z\":[-9.788,-9.325,-8.258,-6.179,-6.813],\"type\":\"scatter3d\"},{\"hovertemplate\":\"node_id=B21A<br>element_symbol=H<br>x_coord=%{x}<br>y_coord=%{y}<br>z_coord=%{z}<extra></extra>\",\"legendgroup\":\"B21A, H\",\"marker\":{\"color\":\"#636efa\",\"symbol\":\"cross\",\"size\":3},\"mode\":\"markers\",\"name\":\"B21A, H\",\"scene\":\"scene\",\"showlegend\":true,\"x\":[12.084,8.0,7.924,10.834,9.446,8.784,11.527,9.905,4.383,4.572,8.603],\"y\":[5.544,2.014,3.433,3.379,5.54,6.526,6.015,6.952,0.68,1.203,5.917],\"z\":[-7.18,-11.126,-4.826,-7.168,-8.228,-6.163,-4.888,-3.316,-9.033,-7.284,-3.93],\"type\":\"scatter3d\"},{\"hovertemplate\":\"node_id=B22G<br>element_symbol=P<br>x_coord=%{x}<br>y_coord=%{y}<br>z_coord=%{z}<extra></extra>\",\"legendgroup\":\"B22G, P\",\"marker\":{\"color\":\"#EF553B\",\"symbol\":\"circle\",\"size\":3},\"mode\":\"markers\",\"name\":\"B22G, P\",\"scene\":\"scene\",\"showlegend\":true,\"x\":[9.771],\"y\":[8.798],\"z\":[-7.485],\"type\":\"scatter3d\"},{\"hovertemplate\":\"node_id=B22G<br>element_symbol=C<br>x_coord=%{x}<br>y_coord=%{y}<br>z_coord=%{z}<extra></extra>\",\"legendgroup\":\"B22G, C\",\"marker\":{\"color\":\"#EF553B\",\"symbol\":\"diamond\",\"size\":3},\"mode\":\"markers\",\"name\":\"B22G, C\",\"scene\":\"scene\",\"showlegend\":true,\"x\":[8.465,8.424,7.24,6.923,7.233,3.179,4.866,4.097,2.758,5.845],\"y\":[8.491,7.578,7.899,6.538,5.557,3.383,4.57,4.429,3.651,5.43],\"z\":[-9.81,-11.05,-11.977,-12.604,-11.454,-12.161,-10.906,-9.697,-9.713,-9.228],\"type\":\"scatter3d\"},{\"hovertemplate\":\"node_id=B22G<br>element_symbol=O<br>x_coord=%{x}<br>y_coord=%{y}<br>z_coord=%{z}<extra></extra>\",\"legendgroup\":\"B22G, O\",\"marker\":{\"color\":\"#EF553B\",\"symbol\":\"square\",\"size\":3},\"mode\":\"markers\",\"name\":\"B22G, O\",\"scene\":\"scene\",\"showlegend\":true,\"x\":[9.526,8.276,7.591,7.787,2.059,10.691,8.439],\"y\":[8.101,6.189,8.909,6.269,3.471,10.009,9.253],\"z\":[-8.932,-10.673,-12.941,-13.706,-8.716,-7.651,-6.879],\"type\":\"scatter3d\"},{\"hovertemplate\":\"node_id=B22G<br>element_symbol=N<br>x_coord=%{x}<br>y_coord=%{y}<br>z_coord=%{z}<extra></extra>\",\"legendgroup\":\"B22G, N\",\"marker\":{\"color\":\"#EF553B\",\"symbol\":\"x\",\"size\":3},\"mode\":\"markers\",\"name\":\"B22G, N\",\"scene\":\"scene\",\"showlegend\":true,\"x\":[2.392,2.65,4.322,4.705,6.036],\"y\":[3.174,2.935,3.992,4.989,5.261],\"z\":[-10.935,-13.389,-12.119,-8.594,-10.595],\"type\":\"scatter3d\"},{\"hovertemplate\":\"node_id=B22G<br>element_symbol=H<br>x_coord=%{x}<br>y_coord=%{y}<br>z_coord=%{z}<extra></extra>\",\"legendgroup\":\"B22G, H\",\"marker\":{\"color\":\"#EF553B\",\"symbol\":\"cross\",\"size\":3},\"mode\":\"markers\",\"name\":\"B22G, H\",\"scene\":\"scene\",\"showlegend\":true,\"x\":[7.57,1.471,6.661,7.599,5.877,1.738,6.363,3.188,9.375,8.601,7.501],\"y\":[5.382,2.724,5.803,4.595,6.484,2.466,8.219,3.089,7.68,9.547,8.439],\"z\":[-14.002,-10.973,-8.621,-11.866,-12.957,-13.397,-11.381,-14.248,-11.607,-10.112,-9.269],\"type\":\"scatter3d\"},{\"hovertemplate\":\"node_id=B23U<br>element_symbol=P<br>x_coord=%{x}<br>y_coord=%{y}<br>z_coord=%{z}<extra></extra>\",\"legendgroup\":\"B23U, P\",\"marker\":{\"color\":\"#00cc96\",\"symbol\":\"circle\",\"size\":3},\"mode\":\"markers\",\"name\":\"B23U, P\",\"scene\":\"scene\",\"showlegend\":true,\"x\":[6.513],\"y\":[9.974],\"z\":[-13.513],\"type\":\"scatter3d\"},{\"hovertemplate\":\"node_id=B23U<br>element_symbol=C<br>x_coord=%{x}<br>y_coord=%{y}<br>z_coord=%{z}<extra></extra>\",\"legendgroup\":\"B23U, C\",\"marker\":{\"color\":\"#00cc96\",\"symbol\":\"diamond\",\"size\":3},\"mode\":\"markers\",\"name\":\"B23U, C\",\"scene\":\"scene\",\"showlegend\":true,\"x\":[5.633,4.392,3.122,2.024,2.61,0.87,1.102,2.442,2.885],\"y\":[8.578,7.831,8.689,7.628,6.578,6.023,6.489,7.203,7.257],\"z\":[-15.618,-16.134,-16.233,-16.176,-15.21,-13.492,-11.132,-11.43,-12.707],\"type\":\"scatter3d\"},{\"hovertemplate\":\"node_id=B23U<br>element_symbol=O<br>x_coord=%{x}<br>y_coord=%{y}<br>z_coord=%{z}<extra></extra>\",\"legendgroup\":\"B23U, O\",\"marker\":{\"color\":\"#00cc96\",\"symbol\":\"square\",\"size\":3},\"mode\":\"markers\",\"name\":\"B23U, O\",\"scene\":\"scene\",\"showlegend\":true,\"x\":[5.372,4.051,3.11,1.806,0.151,0.658,7.225,5.86],\"y\":[9.198,6.732,9.476,7.05,5.505,6.404,10.983,10.721],\"z\":[-14.35,-15.267,-17.439,-17.463,-14.35,-9.989,-14.417,-12.347],\"type\":\"scatter3d\"},{\"hovertemplate\":\"node_id=B23U<br>element_symbol=N<br>x_coord=%{x}<br>y_coord=%{y}<br>z_coord=%{z}<extra></extra>\",\"legendgroup\":\"B23U, N\",\"marker\":{\"color\":\"#00cc96\",\"symbol\":\"x\",\"size\":3},\"mode\":\"markers\",\"name\":\"B23U, N\",\"scene\":\"scene\",\"showlegend\":true,\"x\":[2.084,0.43],\"y\":[6.637,5.961],\"z\":[-13.804,-12.197],\"type\":\"scatter3d\"},{\"hovertemplate\":\"node_id=B23U<br>element_symbol=H<br>x_coord=%{x}<br>y_coord=%{y}<br>z_coord=%{z}<extra></extra>\",\"legendgroup\":\"B23U, H\",\"marker\":{\"color\":\"#00cc96\",\"symbol\":\"cross\",\"size\":3},\"mode\":\"markers\",\"name\":\"B23U, H\",\"scene\":\"scene\",\"showlegend\":true,\"x\":[2.656,-0.445,3.016,3.837,2.366,1.067,3.03,4.632,6.485,5.94],\"y\":[6.704,5.459,7.647,7.743,5.583,8.032,9.338,7.412,7.879,9.349],\"z\":[-17.744,-12.013,-10.617,-12.919,-15.615,-15.816,-15.34,-17.131,-15.529,-16.35],\"type\":\"scatter3d\"},{\"hovertemplate\":\"node_id=B24C<br>element_symbol=P<br>x_coord=%{x}<br>y_coord=%{y}<br>z_coord=%{z}<extra></extra>\",\"legendgroup\":\"B24C, P\",\"marker\":{\"color\":\"#ab63fa\",\"symbol\":\"circle\",\"size\":3},\"mode\":\"markers\",\"name\":\"B24C, P\",\"scene\":\"scene\",\"showlegend\":true,\"x\":[2.577],\"y\":[11.007],\"z\":[-17.476],\"type\":\"scatter3d\"},{\"hovertemplate\":\"node_id=B24C<br>element_symbol=C<br>x_coord=%{x}<br>y_coord=%{y}<br>z_coord=%{z}<extra></extra>\",\"legendgroup\":\"B24C, C\",\"marker\":{\"color\":\"#ab63fa\",\"symbol\":\"diamond\",\"size\":3},\"mode\":\"markers\",\"name\":\"B24C, C\",\"scene\":\"scene\",\"showlegend\":true,\"x\":[0.055,-1.272,-2.019,-2.915,-2.015,-2.02,-0.343,0.353,-0.085],\"y\":[10.562,10.11,11.171,10.292,9.066,8.625,9.595,10.082,9.875],\"z\":[-18.251,-17.617,-16.796,-15.916,-15.631,-13.159,-11.696,-12.768,-14.045],\"type\":\"scatter3d\"},{\"hovertemplate\":\"node_id=B24C<br>element_symbol=O<br>x_coord=%{x}<br>y_coord=%{y}<br>z_coord=%{z}<extra></extra>\",\"legendgroup\":\"B24C, O\",\"marker\":{\"color\":\"#ab63fa\",\"symbol\":\"square\",\"size\":3},\"mode\":\"markers\",\"name\":\"B24C, O\",\"scene\":\"scene\",\"showlegend\":true,\"x\":[0.976,-1.043,-2.745,-4.086,-3.069,2.922,3.255],\"y\":[11.033,9.023,12.102,9.883,7.986,11.631,11.816],\"z\":[-17.254,-16.702,-17.621,-16.62,-13.256,-18.831,-16.366],\"type\":\"scatter3d\"},{\"hovertemplate\":\"node_id=B24C<br>element_symbol=N<br>x_coord=%{x}<br>y_coord=%{y}<br>z_coord=%{z}<extra></extra>\",\"legendgroup\":\"B24C, N\",\"marker\":{\"color\":\"#ab63fa\",\"symbol\":\"x\",\"size\":3},\"mode\":\"markers\",\"name\":\"B24C, N\",\"scene\":\"scene\",\"showlegend\":true,\"x\":[-1.367,-1.427,0.108],\"y\":[9.132,8.895,9.84],\"z\":[-14.28,-11.844,-10.38],\"type\":\"scatter3d\"},{\"hovertemplate\":\"node_id=B24C<br>element_symbol=H<br>x_coord=%{x}<br>y_coord=%{y}<br>z_coord=%{z}<extra></extra>\",\"legendgroup\":\"B24C, H\",\"marker\":{\"color\":\"#ab63fa\",\"symbol\":\"cross\",\"size\":3},\"mode\":\"markers\",\"name\":\"B24C, H\",\"scene\":\"scene\",\"showlegend\":true,\"x\":[-4.571,1.275,0.503,-2.616,-3.225,-1.302,-1.93,-0.429,0.497,0.968,-0.125],\"y\":[10.688,10.647,10.241,8.138,10.827,11.716,9.744,9.466,9.717,10.383,11.362],\"z\":[-16.817,-12.621,-14.883,-15.704,-15.0,-16.151,-18.43,-9.59,-18.811,-10.245,-18.993],\"type\":\"scatter3d\"},{\"hovertemplate\":\"node_id=B25G<br>element_symbol=P<br>x_coord=%{x}<br>y_coord=%{y}<br>z_coord=%{z}<extra></extra>\",\"legendgroup\":\"B25G, P\",\"marker\":{\"color\":\"#FFA15A\",\"symbol\":\"circle\",\"size\":3},\"mode\":\"markers\",\"name\":\"B25G, P\",\"scene\":\"scene\",\"showlegend\":true,\"x\":[-3.234],\"y\":[13.555],\"z\":[-17.078],\"type\":\"scatter3d\"},{\"hovertemplate\":\"node_id=B25G<br>element_symbol=C<br>x_coord=%{x}<br>y_coord=%{y}<br>z_coord=%{z}<extra></extra>\",\"legendgroup\":\"B25G, C\",\"marker\":{\"color\":\"#FFA15A\",\"symbol\":\"diamond\",\"size\":3},\"mode\":\"markers\",\"name\":\"B25G, C\",\"scene\":\"scene\",\"showlegend\":true,\"x\":[-5.765,-6.617,-7.006,-7.264,-6.224,-5.399,-4.859,-3.471,-2.995,-3.693],\"y\":[12.943,12.461,13.541,12.694,11.567,11.479,11.739,11.921,11.833,12.119],\"z\":[-16.485,-15.299,-14.275,-13.026,-13.15,-8.603,-10.94,-10.623,-9.15,-12.667],\"type\":\"scatter3d\"},{\"hovertemplate\":\"node_id=B25G<br>element_symbol=O<br>x_coord=%{x}<br>y_coord=%{y}<br>z_coord=%{z}<extra></extra>\",\"legendgroup\":\"B25G, O\",\"marker\":{\"color\":\"#FFA15A\",\"symbol\":\"square\",\"size\":3},\"mode\":\"markers\",\"name\":\"B25G, O\",\"scene\":\"scene\",\"showlegend\":true,\"x\":[-4.468,-5.902,-8.16,-8.569,-1.829,-3.676,-2.077],\"y\":[13.376,11.456,14.301,12.121,11.959,14.413,14.258],\"z\":[-16.048,-14.554,-14.688,-13.051,-8.792,-18.266,-16.362],\"type\":\"scatter3d\"},{\"hovertemplate\":\"node_id=B25G<br>element_symbol=N<br>x_coord=%{x}<br>y_coord=%{y}<br>z_coord=%{z}<extra></extra>\",\"legendgroup\":\"B25G, N\",\"marker\":{\"color\":\"#FFA15A\",\"symbol\":\"x\",\"size\":3},\"mode\":\"markers\",\"name\":\"B25G, N\",\"scene\":\"scene\",\"showlegend\":true,\"x\":[-3.981,-6.341,-5.778,-2.692,-5.006],\"y\":[11.613,11.299,11.526,12.197,11.831],\"z\":[-8.242,-7.58,-9.841,-11.726,-12.318],\"type\":\"scatter3d\"},{\"hovertemplate\":\"node_id=B25G<br>element_symbol=H<br>x_coord=%{x}<br>y_coord=%{y}<br>z_coord=%{z}<extra></extra>\",\"legendgroup\":\"B25G, H\",\"marker\":{\"color\":\"#FFA15A\",\"symbol\":\"cross\",\"size\":3},\"mode\":\"markers\",\"name\":\"B25G, H\",\"scene\":\"scene\",\"showlegend\":true,\"x\":[-8.631,-3.674,-3.443,-6.666,-7.156,-6.018,-6.146,-7.333,-7.539,-5.658,-6.275],\"y\":[11.57,11.587,12.298,10.611,13.295,11.264,14.215,11.206,11.998,12.117,13.763],\"z\":[-12.267,-7.265,-13.703,-12.812,-12.106,-6.606,-14.09,-7.826,-15.703,-17.214,-17.023],\"type\":\"scatter3d\"},{\"hovertemplate\":\"node_id=B26C<br>element_symbol=P<br>x_coord=%{x}<br>y_coord=%{y}<br>z_coord=%{z}<extra></extra>\",\"legendgroup\":\"B26C, P\",\"marker\":{\"color\":\"#19d3f3\",\"symbol\":\"circle\",\"size\":3},\"mode\":\"markers\",\"name\":\"B26C, P\",\"scene\":\"scene\",\"showlegend\":true,\"x\":[-8.506],\"y\":[15.777],\"z\":[-14.099],\"type\":\"scatter3d\"},{\"hovertemplate\":\"node_id=B26C<br>element_symbol=C<br>x_coord=%{x}<br>y_coord=%{y}<br>z_coord=%{z}<extra></extra>\",\"legendgroup\":\"B26C, C\",\"marker\":{\"color\":\"#19d3f3\",\"symbol\":\"diamond\",\"size\":3},\"mode\":\"markers\",\"name\":\"B26C, C\",\"scene\":\"scene\",\"showlegend\":true,\"x\":[-9.943,-9.784,-10.049,-8.741,-8.026,-5.949,-3.771,-4.329,-5.681],\"y\":[15.005,14.798,16.058,16.263,14.918,14.871,15.177,15.285,15.18],\"z\":[-11.965,-10.447,-9.593,-8.82,-8.899,-7.482,-8.487,-9.737,-9.908],\"type\":\"scatter3d\"},{\"hovertemplate\":\"node_id=B26C<br>element_symbol=O<br>x_coord=%{x}<br>y_coord=%{y}<br>z_coord=%{z}<extra></extra>\",\"legendgroup\":\"B26C, O\",\"marker\":{\"color\":\"#19d3f3\",\"symbol\":\"square\",\"size\":3},\"mode\":\"markers\",\"name\":\"B26C, O\",\"scene\":\"scene\",\"showlegend\":true,\"x\":[-8.808,-8.457,-11.196,-8.958,-6.602,-9.731,-7.316],\"y\":[15.702,14.326,15.834,16.576,14.712,16.334,16.711],\"z\":[-12.508,-10.136,-8.736,-7.457,-6.451,-14.828,-14.34],\"type\":\"scatter3d\"},{\"hovertemplate\":\"node_id=B26C<br>element_symbol=N<br>x_coord=%{x}<br>y_coord=%{y}<br>z_coord=%{z}<extra></extra>\",\"legendgroup\":\"B26C, N\",\"marker\":{\"color\":\"#19d3f3\",\"symbol\":\"x\",\"size\":3},\"mode\":\"markers\",\"name\":\"B26C, N\",\"scene\":\"scene\",\"showlegend\":true,\"x\":[-6.554,-4.488,-2.385],\"y\":[14.985,14.959,15.292],\"z\":[-8.732,-7.428,-8.302],\"type\":\"scatter3d\"},{\"hovertemplate\":\"node_id=B26C<br>element_symbol=H<br>x_coord=%{x}<br>y_coord=%{y}<br>z_coord=%{z}<extra></extra>\",\"legendgroup\":\"B26C, H\",\"marker\":{\"color\":\"#19d3f3\",\"symbol\":\"cross\",\"size\":3},\"mode\":\"markers\",\"name\":\"B26C, H\",\"scene\":\"scene\",\"showlegend\":true,\"x\":[-9.439,-3.704,-6.182,-8.401,-8.15,-10.237,-10.498,-2.001,-10.051,-1.783,-10.873],\"y\":[17.407,15.447,15.214,14.298,17.06,16.945,14.006,15.205,14.025,15.45,15.556],\"z\":[-7.45,-10.618,-10.868,-8.093,-9.307,-10.23,-10.149,-7.355,-12.462,-9.117,-12.195],\"type\":\"scatter3d\"},{\"hovertemplate\":\"node_id=B27C<br>element_symbol=P<br>x_coord=%{x}<br>y_coord=%{y}<br>z_coord=%{z}<extra></extra>\",\"legendgroup\":\"B27C, P\",\"marker\":{\"color\":\"#FF6692\",\"symbol\":\"circle\",\"size\":3},\"mode\":\"markers\",\"name\":\"B27C, P\",\"scene\":\"scene\",\"showlegend\":true,\"x\":[-12.122],\"y\":[17.03],\"z\":[-8.139],\"type\":\"scatter3d\"},{\"hovertemplate\":\"node_id=B27C<br>element_symbol=C<br>x_coord=%{x}<br>y_coord=%{y}<br>z_coord=%{z}<extra></extra>\",\"legendgroup\":\"B27C, C\",\"marker\":{\"color\":\"#FF6692\",\"symbol\":\"diamond\",\"size\":3},\"mode\":\"markers\",\"name\":\"B27C, C\",\"scene\":\"scene\",\"showlegend\":true,\"x\":[-11.262,-10.176,-10.007,-8.512,-7.913,-5.407,-4.015,-5.117,-6.375],\"y\":[17.607,18.408,19.874,20.16,18.832,18.866,18.535,18.321,18.347],\"z\":[-5.641,-4.88,-5.316,-5.129,-4.629,-4.44,-6.395,-7.183,-6.651],\"type\":\"scatter3d\"},{\"hovertemplate\":\"node_id=B27C<br>element_symbol=O<br>x_coord=%{x}<br>y_coord=%{y}<br>z_coord=%{z}<extra></extra>\",\"legendgroup\":\"B27C, O\",\"marker\":{\"color\":\"#FF6692\",\"symbol\":\"square\",\"size\":3},\"mode\":\"markers\",\"name\":\"B27C, O\",\"scene\":\"scene\",\"showlegend\":true,\"x\":[-11.287,-8.866,-10.857,-8.239,-5.458,-13.365,-12.565],\"y\":[17.9,17.826,20.741,21.221,19.172,16.423,17.949],\"z\":[-7.053,-5.029,-4.559,-4.219,-3.248,-7.482,-9.28],\"type\":\"scatter3d\"},{\"hovertemplate\":\"node_id=B27C<br>element_symbol=N<br>x_coord=%{x}<br>y_coord=%{y}<br>z_coord=%{z}<extra></extra>\",\"legendgroup\":\"B27C, N\",\"marker\":{\"color\":\"#FF6692\",\"symbol\":\"x\",\"size\":3},\"mode\":\"markers\",\"name\":\"B27C, N\",\"scene\":\"scene\",\"showlegend\":true,\"x\":[-6.551,-4.116,-2.719],\"y\":[18.61,18.791,18.478],\"z\":[-5.192,-5.128,-6.937],\"type\":\"scatter3d\"},{\"hovertemplate\":\"node_id=B27C<br>element_symbol=H<br>x_coord=%{x}<br>y_coord=%{y}<br>z_coord=%{z}<extra></extra>\",\"legendgroup\":\"B27C, H\",\"marker\":{\"color\":\"#FF6692\",\"symbol\":\"cross\",\"size\":3},\"mode\":\"markers\",\"name\":\"B27C, H\",\"scene\":\"scene\",\"showlegend\":true,\"x\":[-8.625,-5.003,-7.273,-7.869,-8.092,-10.22,-10.432,-1.914,-11.113,-2.605,-12.254],\"y\":[20.956,18.125,18.202,18.811,20.402,19.991,18.371,18.64,16.523,18.275,17.843],\"z\":[-3.38,-8.25,-7.259,-3.522,-6.129,-6.395,-3.802,-6.322,-5.477,-7.937,-5.216],\"type\":\"scatter3d\"}],                        {\"template\":{\"data\":{\"histogram2dcontour\":[{\"type\":\"histogram2dcontour\",\"colorbar\":{\"outlinewidth\":0,\"ticks\":\"\"},\"colorscale\":[[0.0,\"#0d0887\"],[0.1111111111111111,\"#46039f\"],[0.2222222222222222,\"#7201a8\"],[0.3333333333333333,\"#9c179e\"],[0.4444444444444444,\"#bd3786\"],[0.5555555555555556,\"#d8576b\"],[0.6666666666666666,\"#ed7953\"],[0.7777777777777778,\"#fb9f3a\"],[0.8888888888888888,\"#fdca26\"],[1.0,\"#f0f921\"]]}],\"choropleth\":[{\"type\":\"choropleth\",\"colorbar\":{\"outlinewidth\":0,\"ticks\":\"\"}}],\"histogram2d\":[{\"type\":\"histogram2d\",\"colorbar\":{\"outlinewidth\":0,\"ticks\":\"\"},\"colorscale\":[[0.0,\"#0d0887\"],[0.1111111111111111,\"#46039f\"],[0.2222222222222222,\"#7201a8\"],[0.3333333333333333,\"#9c179e\"],[0.4444444444444444,\"#bd3786\"],[0.5555555555555556,\"#d8576b\"],[0.6666666666666666,\"#ed7953\"],[0.7777777777777778,\"#fb9f3a\"],[0.8888888888888888,\"#fdca26\"],[1.0,\"#f0f921\"]]}],\"heatmap\":[{\"type\":\"heatmap\",\"colorbar\":{\"outlinewidth\":0,\"ticks\":\"\"},\"colorscale\":[[0.0,\"#0d0887\"],[0.1111111111111111,\"#46039f\"],[0.2222222222222222,\"#7201a8\"],[0.3333333333333333,\"#9c179e\"],[0.4444444444444444,\"#bd3786\"],[0.5555555555555556,\"#d8576b\"],[0.6666666666666666,\"#ed7953\"],[0.7777777777777778,\"#fb9f3a\"],[0.8888888888888888,\"#fdca26\"],[1.0,\"#f0f921\"]]}],\"heatmapgl\":[{\"type\":\"heatmapgl\",\"colorbar\":{\"outlinewidth\":0,\"ticks\":\"\"},\"colorscale\":[[0.0,\"#0d0887\"],[0.1111111111111111,\"#46039f\"],[0.2222222222222222,\"#7201a8\"],[0.3333333333333333,\"#9c179e\"],[0.4444444444444444,\"#bd3786\"],[0.5555555555555556,\"#d8576b\"],[0.6666666666666666,\"#ed7953\"],[0.7777777777777778,\"#fb9f3a\"],[0.8888888888888888,\"#fdca26\"],[1.0,\"#f0f921\"]]}],\"contourcarpet\":[{\"type\":\"contourcarpet\",\"colorbar\":{\"outlinewidth\":0,\"ticks\":\"\"}}],\"contour\":[{\"type\":\"contour\",\"colorbar\":{\"outlinewidth\":0,\"ticks\":\"\"},\"colorscale\":[[0.0,\"#0d0887\"],[0.1111111111111111,\"#46039f\"],[0.2222222222222222,\"#7201a8\"],[0.3333333333333333,\"#9c179e\"],[0.4444444444444444,\"#bd3786\"],[0.5555555555555556,\"#d8576b\"],[0.6666666666666666,\"#ed7953\"],[0.7777777777777778,\"#fb9f3a\"],[0.8888888888888888,\"#fdca26\"],[1.0,\"#f0f921\"]]}],\"surface\":[{\"type\":\"surface\",\"colorbar\":{\"outlinewidth\":0,\"ticks\":\"\"},\"colorscale\":[[0.0,\"#0d0887\"],[0.1111111111111111,\"#46039f\"],[0.2222222222222222,\"#7201a8\"],[0.3333333333333333,\"#9c179e\"],[0.4444444444444444,\"#bd3786\"],[0.5555555555555556,\"#d8576b\"],[0.6666666666666666,\"#ed7953\"],[0.7777777777777778,\"#fb9f3a\"],[0.8888888888888888,\"#fdca26\"],[1.0,\"#f0f921\"]]}],\"mesh3d\":[{\"type\":\"mesh3d\",\"colorbar\":{\"outlinewidth\":0,\"ticks\":\"\"}}],\"scatter\":[{\"fillpattern\":{\"fillmode\":\"overlay\",\"size\":10,\"solidity\":0.2},\"type\":\"scatter\"}],\"parcoords\":[{\"type\":\"parcoords\",\"line\":{\"colorbar\":{\"outlinewidth\":0,\"ticks\":\"\"}}}],\"scatterpolargl\":[{\"type\":\"scatterpolargl\",\"marker\":{\"colorbar\":{\"outlinewidth\":0,\"ticks\":\"\"}}}],\"bar\":[{\"error_x\":{\"color\":\"#2a3f5f\"},\"error_y\":{\"color\":\"#2a3f5f\"},\"marker\":{\"line\":{\"color\":\"#E5ECF6\",\"width\":0.5},\"pattern\":{\"fillmode\":\"overlay\",\"size\":10,\"solidity\":0.2}},\"type\":\"bar\"}],\"scattergeo\":[{\"type\":\"scattergeo\",\"marker\":{\"colorbar\":{\"outlinewidth\":0,\"ticks\":\"\"}}}],\"scatterpolar\":[{\"type\":\"scatterpolar\",\"marker\":{\"colorbar\":{\"outlinewidth\":0,\"ticks\":\"\"}}}],\"histogram\":[{\"marker\":{\"pattern\":{\"fillmode\":\"overlay\",\"size\":10,\"solidity\":0.2}},\"type\":\"histogram\"}],\"scattergl\":[{\"type\":\"scattergl\",\"marker\":{\"colorbar\":{\"outlinewidth\":0,\"ticks\":\"\"}}}],\"scatter3d\":[{\"type\":\"scatter3d\",\"line\":{\"colorbar\":{\"outlinewidth\":0,\"ticks\":\"\"}},\"marker\":{\"colorbar\":{\"outlinewidth\":0,\"ticks\":\"\"}}}],\"scattermapbox\":[{\"type\":\"scattermapbox\",\"marker\":{\"colorbar\":{\"outlinewidth\":0,\"ticks\":\"\"}}}],\"scatterternary\":[{\"type\":\"scatterternary\",\"marker\":{\"colorbar\":{\"outlinewidth\":0,\"ticks\":\"\"}}}],\"scattercarpet\":[{\"type\":\"scattercarpet\",\"marker\":{\"colorbar\":{\"outlinewidth\":0,\"ticks\":\"\"}}}],\"carpet\":[{\"aaxis\":{\"endlinecolor\":\"#2a3f5f\",\"gridcolor\":\"white\",\"linecolor\":\"white\",\"minorgridcolor\":\"white\",\"startlinecolor\":\"#2a3f5f\"},\"baxis\":{\"endlinecolor\":\"#2a3f5f\",\"gridcolor\":\"white\",\"linecolor\":\"white\",\"minorgridcolor\":\"white\",\"startlinecolor\":\"#2a3f5f\"},\"type\":\"carpet\"}],\"table\":[{\"cells\":{\"fill\":{\"color\":\"#EBF0F8\"},\"line\":{\"color\":\"white\"}},\"header\":{\"fill\":{\"color\":\"#C8D4E3\"},\"line\":{\"color\":\"white\"}},\"type\":\"table\"}],\"barpolar\":[{\"marker\":{\"line\":{\"color\":\"#E5ECF6\",\"width\":0.5},\"pattern\":{\"fillmode\":\"overlay\",\"size\":10,\"solidity\":0.2}},\"type\":\"barpolar\"}],\"pie\":[{\"automargin\":true,\"type\":\"pie\"}]},\"layout\":{\"autotypenumbers\":\"strict\",\"colorway\":[\"#636efa\",\"#EF553B\",\"#00cc96\",\"#ab63fa\",\"#FFA15A\",\"#19d3f3\",\"#FF6692\",\"#B6E880\",\"#FF97FF\",\"#FECB52\"],\"font\":{\"color\":\"#2a3f5f\"},\"hovermode\":\"closest\",\"hoverlabel\":{\"align\":\"left\"},\"paper_bgcolor\":\"white\",\"plot_bgcolor\":\"#E5ECF6\",\"polar\":{\"bgcolor\":\"#E5ECF6\",\"angularaxis\":{\"gridcolor\":\"white\",\"linecolor\":\"white\",\"ticks\":\"\"},\"radialaxis\":{\"gridcolor\":\"white\",\"linecolor\":\"white\",\"ticks\":\"\"}},\"ternary\":{\"bgcolor\":\"#E5ECF6\",\"aaxis\":{\"gridcolor\":\"white\",\"linecolor\":\"white\",\"ticks\":\"\"},\"baxis\":{\"gridcolor\":\"white\",\"linecolor\":\"white\",\"ticks\":\"\"},\"caxis\":{\"gridcolor\":\"white\",\"linecolor\":\"white\",\"ticks\":\"\"}},\"coloraxis\":{\"colorbar\":{\"outlinewidth\":0,\"ticks\":\"\"}},\"colorscale\":{\"sequential\":[[0.0,\"#0d0887\"],[0.1111111111111111,\"#46039f\"],[0.2222222222222222,\"#7201a8\"],[0.3333333333333333,\"#9c179e\"],[0.4444444444444444,\"#bd3786\"],[0.5555555555555556,\"#d8576b\"],[0.6666666666666666,\"#ed7953\"],[0.7777777777777778,\"#fb9f3a\"],[0.8888888888888888,\"#fdca26\"],[1.0,\"#f0f921\"]],\"sequentialminus\":[[0.0,\"#0d0887\"],[0.1111111111111111,\"#46039f\"],[0.2222222222222222,\"#7201a8\"],[0.3333333333333333,\"#9c179e\"],[0.4444444444444444,\"#bd3786\"],[0.5555555555555556,\"#d8576b\"],[0.6666666666666666,\"#ed7953\"],[0.7777777777777778,\"#fb9f3a\"],[0.8888888888888888,\"#fdca26\"],[1.0,\"#f0f921\"]],\"diverging\":[[0,\"#8e0152\"],[0.1,\"#c51b7d\"],[0.2,\"#de77ae\"],[0.3,\"#f1b6da\"],[0.4,\"#fde0ef\"],[0.5,\"#f7f7f7\"],[0.6,\"#e6f5d0\"],[0.7,\"#b8e186\"],[0.8,\"#7fbc41\"],[0.9,\"#4d9221\"],[1,\"#276419\"]]},\"xaxis\":{\"gridcolor\":\"white\",\"linecolor\":\"white\",\"ticks\":\"\",\"title\":{\"standoff\":15},\"zerolinecolor\":\"white\",\"automargin\":true,\"zerolinewidth\":2},\"yaxis\":{\"gridcolor\":\"white\",\"linecolor\":\"white\",\"ticks\":\"\",\"title\":{\"standoff\":15},\"zerolinecolor\":\"white\",\"automargin\":true,\"zerolinewidth\":2},\"scene\":{\"xaxis\":{\"backgroundcolor\":\"#E5ECF6\",\"gridcolor\":\"white\",\"linecolor\":\"white\",\"showbackground\":true,\"ticks\":\"\",\"zerolinecolor\":\"white\",\"gridwidth\":2},\"yaxis\":{\"backgroundcolor\":\"#E5ECF6\",\"gridcolor\":\"white\",\"linecolor\":\"white\",\"showbackground\":true,\"ticks\":\"\",\"zerolinecolor\":\"white\",\"gridwidth\":2},\"zaxis\":{\"backgroundcolor\":\"#E5ECF6\",\"gridcolor\":\"white\",\"linecolor\":\"white\",\"showbackground\":true,\"ticks\":\"\",\"zerolinecolor\":\"white\",\"gridwidth\":2}},\"shapedefaults\":{\"line\":{\"color\":\"#2a3f5f\"}},\"annotationdefaults\":{\"arrowcolor\":\"#2a3f5f\",\"arrowhead\":0,\"arrowwidth\":1},\"geo\":{\"bgcolor\":\"white\",\"landcolor\":\"#E5ECF6\",\"subunitcolor\":\"white\",\"showland\":true,\"showlakes\":true,\"lakecolor\":\"white\"},\"title\":{\"x\":0.05},\"mapbox\":{\"style\":\"light\"}}},\"scene\":{\"domain\":{\"x\":[0.0,1.0],\"y\":[0.0,1.0]},\"xaxis\":{\"title\":{\"text\":\"x_coord\"}},\"yaxis\":{\"title\":{\"text\":\"y_coord\"}},\"zaxis\":{\"title\":{\"text\":\"z_coord\"}}},\"legend\":{\"title\":{\"text\":\"node_id, element_symbol\"},\"tracegroupgap\":0},\"margin\":{\"t\":60}},                        {\"responsive\": true}                    ).then(function(){\n",
       "                            \n",
       "var gd = document.getElementById('0b6dff10-03e9-4e4d-99e2-6c2fab6c1892');\n",
       "var x = new MutationObserver(function (mutations, observer) {{\n",
       "        var display = window.getComputedStyle(gd).display;\n",
       "        if (!display || display === 'none') {{\n",
       "            console.log([gd, 'removed!']);\n",
       "            Plotly.purge(gd);\n",
       "            observer.disconnect();\n",
       "        }}\n",
       "}});\n",
       "\n",
       "// Listen for the removal of the full notebook cells\n",
       "var notebookContainer = gd.closest('#notebook-container');\n",
       "if (notebookContainer) {{\n",
       "    x.observe(notebookContainer, {childList: true});\n",
       "}}\n",
       "\n",
       "// Listen for the clearing of the current output cell\n",
       "var outputEl = gd.closest('.output');\n",
       "if (outputEl) {{\n",
       "    x.observe(outputEl, {childList: true});\n",
       "}}\n",
       "\n",
       "                        })                };                });            </script>        </div>"
      ]
     },
     "metadata": {},
     "output_type": "display_data"
    }
   ],
   "source": [
    "import plotly.express as px\n",
    "fig = px.scatter_3d(atomic_df, x='x_coord', y='y_coord', z='z_coord',\n",
    "              symbol='element_symbol', color=\"node_id\")\n",
    "fig.update_traces(marker_size = 3)\n",
    "fig.show()"
   ]
  },
  {
   "cell_type": "code",
   "execution_count": 6,
   "metadata": {},
   "outputs": [
    {
     "name": "stderr",
     "output_type": "stream",
     "text": [
      "Parsing Data from RNA pdb files: 100%|██████████| 943/943 [00:22<00:00, 41.29it/s]\n"
     ]
    }
   ],
   "source": [
    "from torch_geometric.data import Data\n",
    "from torch_geometric.loader import DataLoader\n",
    "import os\n",
    "from rich.progress import track\n",
    "import torch\n",
    "from sklearn.model_selection import train_test_split\n",
    "\n",
    "def pdb2pandas(pdb_path):\n",
    "    df = PandasPdb().read_pdb(pdb_path).df[\"ATOM\"]\n",
    "    df[\"node_id\"] = (\n",
    "        df[\"chain_id\"]\n",
    "        + df[\"residue_number\"].map(str)\n",
    "        + df[\"residue_name\"]\n",
    "    )\n",
    "    return df\n",
    "\n",
    "\n",
    "def create_pyg_datalist(data_path):\n",
    "    max_pointcloud_size = 1233\n",
    "    datalist = []\n",
    "    shape_list = []\n",
    "    # for filename in track(os.listdir(data_path), description=\"[cyan]Creating PyG Data from RNA pdb files\"):\n",
    "    for filename in tqdm(os.listdir(data_path), desc=\"Parsing Data from RNA pdb files\"):\n",
    "        if filename.endswith(\"pdb\"):\n",
    "            pdb_df = pdb2pandas(os.path.join(data_path, filename))\n",
    "            coordinates = pdb_df[[\"x_coord\",\"y_coord\",\"z_coord\"]].to_numpy()         # should be shape (num_atoms,3)\n",
    "            atom_number = torch.from_numpy(pdb_df[[\"atom_number\"]].to_numpy())\n",
    "            node_id = pdb_df[[\"node_id\"]].to_numpy()\n",
    "            shape_list.append(coordinates.shape[0])\n",
    "            if coordinates.shape[0] <= max_pointcloud_size:\n",
    "                paddingamount = max_pointcloud_size - coordinates.shape[0]\n",
    "                coords_padded = torch.from_numpy(np.pad(coordinates, ((0, paddingamount),(0, 0)), 'constant', constant_values=(0, 0))).type(torch.FloatTensor)    \n",
    "                data = Data(pos=coords_padded, atom_number=atom_number, y=node_id, num_nodes=coords_padded.shape[0])\n",
    "                datalist.append(data)\n",
    "\n",
    "            # else:\n",
    "            #     raise Exception(\"Incorrect max_pointcloud_size\")\n",
    "            \n",
    "            \n",
    "\n",
    "\n",
    "    return datalist, shape_list\n",
    "\n",
    "data_list, shape_list = create_pyg_datalist(data_path=data_path)\n",
    "pointcloud_size = 1233\n",
    "\n",
    "\n",
    "            "
   ]
  },
  {
   "cell_type": "code",
   "execution_count": 7,
   "metadata": {},
   "outputs": [
    {
     "name": "stdout",
     "output_type": "stream",
     "text": [
      "497 + 214 = 711\n"
     ]
    }
   ],
   "source": [
    "X_train, X_test = train_test_split(data_list, test_size=0.3, random_state=42)\n",
    "print(len(X_train),\"+\", len(X_test),\"=\", len(X_train) + len(X_test))\n",
    "train_data_loader = DataLoader(X_train, batch_size=1)\n",
    "test_data_loader = DataLoader(X_test, batch_size=1)"
   ]
  },
  {
   "cell_type": "code",
   "execution_count": 8,
   "metadata": {},
   "outputs": [
    {
     "data": {
      "text/plain": [
       "(711, 1233)"
      ]
     },
     "execution_count": 8,
     "metadata": {},
     "output_type": "execute_result"
    },
    {
     "data": {
      "image/png": "[encoded data removed]",
      "text/plain": [
       "<Figure size 640x480 with 1 Axes>"
      ]
     },
     "metadata": {},
     "output_type": "display_data"
    }
   ],
   "source": [
    "import seaborn as sns\n",
    "\n",
    "sns.boxplot(shape_list)\n",
    "shapes = np.array(shape_list)\n",
    "mean = np.mean(shape_list)\n",
    "len(shapes[shapes<=mean]), int(mean)\n"
   ]
  },
  {
   "cell_type": "code",
   "execution_count": 9,
   "metadata": {},
   "outputs": [],
   "source": [
    "from torch_cluster import knn_graph\n",
    "from torch_geometric.nn.conv import XConv,PPFConv        # PPF Conv is roto-translational equivariant\n",
    "import torch.nn as nn\n",
    "import torch\n",
    "\n",
    "from torch.nn import Sequential, Linear, ReLU\n",
    "from torch_geometric.nn import MessagePassing\n",
    "\n",
    "\n",
    "\n",
    "class PointNetLayer(MessagePassing):\n",
    "    def __init__(self, in_channels, out_channels):\n",
    "        # Message passing with \"max\" aggregation.\n",
    "        super().__init__(aggr='max')\n",
    "        \n",
    "        # Initialization of the MLP:\n",
    "        # Here, the number of input features correspond to the hidden node\n",
    "        # dimensionality plus point dimensionality (=3).\n",
    "        self.mlp = Sequential(Linear(in_channels + 3, out_channels),\n",
    "                              ReLU(),\n",
    "                              Linear(out_channels, out_channels))\n",
    "        \n",
    "    def forward(self, h, pos, edge_index):\n",
    "        # Start propagating messages.\n",
    "        return self.propagate(edge_index, h=h, pos=pos)\n",
    "    \n",
    "    def message(self, h_j, pos_j, pos_i):\n",
    "        # h_j defines the features of neighboring nodes as shape [num_edges, in_channels]\n",
    "        # pos_j defines the position of neighboring nodes as shape [num_edges, 3]\n",
    "        # pos_i defines the position of central nodes as shape [num_edges, 3]\n",
    "\n",
    "        input = pos_j - pos_i  # Compute spatial relation.\n",
    "\n",
    "        if h_j is not None:\n",
    "            # In the first layer, we may not have any hidden node features,\n",
    "            # so we only combine them in case they are present.\n",
    "            input = torch.cat([h_j, input], dim=-1)\n",
    "        print(input.shape)\n",
    "        mess = self.mlp(input) \n",
    "        print(mess)\n",
    "        return mess\n",
    "\n",
    "\n",
    "class PointNetEncoder(torch.nn.Module):\n",
    "    def __init__(self):\n",
    "        super().__init__()\n",
    "\n",
    "        torch.manual_seed(12345)\n",
    "        self.conv1 = PointNetLayer(3, 32)\n",
    "        self.conv2 = PointNetLayer(32, 32)\n",
    "        \n",
    "    def forward(self, pos, batch):\n",
    "        # Compute the kNN graph:\n",
    "        # Here, we need to pass the batch vector to the function call in order\n",
    "        # to prevent creating edges between points of different examples.\n",
    "        # We also add `loop=True` which will add self-loops to the graph in\n",
    "        # order to preserve central point information.\n",
    "        edge_index = knn_graph(pos, k=16, batch=batch, loop=True)\n",
    "        \n",
    "        # 3. Start bipartite message passing.\n",
    "        h = self.conv1(h=pos, pos=pos, edge_index=edge_index)\n",
    "        h = h.relu()\n",
    "        h = self.conv2(h=h, pos=pos, edge_index=edge_index)\n",
    "        return h\n",
    "\n",
    "class XConvEncoder(torch.nn.Module):\n",
    "    def __init__(self, num_features, hidden_dim, kernel_size=10):\n",
    "        super().__init__()\n",
    "\n",
    "        torch.manual_seed(12345)\n",
    "        \n",
    "        self.conv1 = XConv(num_features,hidden_dim, dim=num_features, kernel_size= kernel_size, hidden_channels= num_features)\n",
    "        self.conv2 = XConv(hidden_dim,hidden_dim, dim=num_features, kernel_size= kernel_size, hidden_channels= num_features)\n",
    "        # self.conv2 = XConv(hidden_dim,hidden_dim, dim=num_features, kernel_size= kernel_size, hidden_channels= num_features)\n",
    "        # self.conv2 = XConv(hidden_dim,hidden_dim, dim=num_features, kernel_size= kernel_size, hidden_channels= num_features)\n",
    "        # self.conv2 = XConv(hidden_dim,hidden_dim, dim=num_features, kernel_size= kernel_size, hidden_channels= num_features)\n",
    "\n",
    "        \n",
    "    def forward(self, pos, batch):\n",
    "        x = self.conv1(x=pos, pos=pos, batch=batch)\n",
    "        x = x.relu()\n",
    "        x = self.conv2(x=x, pos=pos, batch=batch)\n",
    "        return x\n",
    "\n",
    "\n",
    "class XConvDecoder(torch.nn.Module):\n",
    "    def __init__(self, input_dim, out_features):\n",
    "        super().__init__()\n",
    "        torch.manual_seed(12345)\n",
    "        self.conv1 = XConv(input_dim, input_dim, dim=input_dim, kernel_size= 5, hidden_channels= input_dim)\n",
    "        self.conv2 = XConv(input_dim,out_features, dim=input_dim, kernel_size= 5, hidden_channels= out_features)\n",
    "        \n",
    "    def forward(self, pos, batch):\n",
    "        x = self.conv1(x=pos, pos=pos, batch=batch)\n",
    "        x = x.relu()\n",
    "        x = self.conv2(x=x, pos=pos,  batch=batch)\n",
    "        return x\n",
    "    \n",
    "    \n",
    "class LinearDecoder(torch.nn.Module):\n",
    "    def __init__(self, input_dim, out_features, hidden_dim=16):\n",
    "        super().__init__()\n",
    "        self.linear1 = nn.Linear(input_dim, hidden_dim)\n",
    "        self.linear2 = nn.Linear(hidden_dim, hidden_dim)\n",
    "        self.linear3 = nn.Linear(hidden_dim, hidden_dim)\n",
    "        self.linear4 = nn.Linear(hidden_dim, out_features)\n",
    "\n",
    "        \n",
    "    def forward(self, z):\n",
    "        x_ = self.linear1(z).relu()\n",
    "        x_ = self.linear2(x_).relu()\n",
    "        x_ = self.linear3(x_).relu()\n",
    "        x_ = self.linear4(x_)\n",
    "        return x_\n",
    "        \n",
    "\n",
    "class PointAutoEncoder(nn.Module):\n",
    "    def __init__(self, encoder, decoder):\n",
    "        super().__init__()\n",
    "        self.encoder = encoder\n",
    "        self.decoder = decoder\n",
    " \n",
    "    def forward(self, pos, batch):\n",
    "        encoded = self.encoder(pos, batch)\n",
    "        decoded = self.decoder(encoded, batch)\n",
    "        return decoded\n",
    "    \n",
    "    \n",
    "\n",
    "\n",
    "class XConvAutoEncoder(torch.nn.Module):\n",
    "    def __init__(self, num_features, num_points, hidden_dim=128, kernel_size=10):\n",
    "        super().__init__()\n",
    "\n",
    "        torch.manual_seed(12345)\n",
    "        # self.encoder = nn.Sequential(\n",
    "        #     XConv(num_features, 64, dim=3, kernel_size=10, hidden_channels=3),\n",
    "        #     nn.ReLU(inplace=True),\n",
    "        #     XConv(64, 128, dim=3, kernel_size=10, hidden_channels=3),\n",
    "        #     nn.ReLU(inplace=True),\n",
    "        #     XConv(128, 128, dim=3, kernel_size=10, hidden_channels=3),\n",
    "        #     nn.ReLU(inplace=True),\n",
    "        #     XConv(128, 256, dim=3, kernel_size=10, hidden_channels=3),\n",
    "        # )\n",
    "        self.conv1 = XConv(num_features, 64, dim=3, kernel_size=10, hidden_channels=3)\n",
    "        self.conv2 = XConv(64, 128, dim=3, kernel_size=10, hidden_channels=3)\n",
    "        self.conv3 = XConv(128, 128, dim=3, kernel_size=10, hidden_channels=3)\n",
    "        self.conv4 = XConv(128, 256, dim=3, kernel_size=10, hidden_channels=3)\n",
    "        self.conv5 = XConv(256, hidden_dim, dim=3, kernel_size=10, hidden_channels=3)\n",
    "\n",
    "        self.pooling = nn.AdaptiveMaxPool1d(1)\n",
    "        \n",
    "        self.decoder = nn.Sequential(\n",
    "            nn.Conv1d(hidden_dim, 256, kernel_size=1, bias=False),\n",
    "            # nn.BatchNorm1d(256),\n",
    "            nn.ReLU(inplace=True),\n",
    "            nn.Conv1d(256, 256, kernel_size=1, bias=False),\n",
    "            # nn.BatchNorm1d(256),\n",
    "            nn.Conv1d(256, num_points * 3, kernel_size=1)\n",
    "        )\n",
    "        \n",
    "        \n",
    "    def forward(self, pos, batch):\n",
    "        num_points = pos.shape[0]\n",
    "        x = self.conv1(x=pos, pos=pos, batch=batch).relu()\n",
    "        x = self.conv2(x=x, pos=pos, batch=batch).relu()\n",
    "        x = self.conv3(x=x, pos=pos, batch=batch).relu()\n",
    "        x = self.conv4(x=x, pos=pos, batch=batch).relu()\n",
    "        x = self.conv5(x=x, pos=pos, batch=batch)\n",
    "        encoding = self.pooling(x.T)  # shape [b, k, 1]\n",
    "        decoded = self.decoder(encoding)\n",
    "        restoration = decoded.view(3, num_points)\n",
    "\n",
    "        # x = self.decoder(encoding)  # shape [b, num_points * 3, 1]\n",
    "        # restoration = x.view(b, 3, num_points)\n",
    "\n",
    "        return restoration.T\n",
    "    \n",
    "    \n",
    "class LinearPointAutoEncoder(nn.Module):\n",
    "    def __init__(self, encoder, decoder):\n",
    "        super().__init__()\n",
    "        self.encoder = encoder\n",
    "        self.decoder = decoder\n",
    " \n",
    "    def forward(self, pos, batch):\n",
    "        z = self.encode(pos, batch)\n",
    "        x_ = self.decode(z)\n",
    "        return x_\n",
    "    \n",
    "    def encode(self, pos, batch):\n",
    "        encoded = self.encoder(pos, batch)\n",
    "        return encoded\n",
    "    \n",
    "    def decode(self, encoded):\n",
    "        decoded = self.decoder(encoded)\n",
    "        return decoded\n"
   ]
  },
  {
   "cell_type": "code",
   "execution_count": 10,
   "metadata": {},
   "outputs": [],
   "source": [
    "class Autoencoder(nn.Module):\n",
    "\n",
    "    def __init__(self, k, num_points):\n",
    "        \"\"\"\n",
    "        Arguments:\n",
    "            k: an integer, dimension of the representation vector.\n",
    "            num_points: an integer.\n",
    "        \"\"\"\n",
    "        super(Autoencoder, self).__init__()\n",
    "\n",
    "        # ENCODER\n",
    "\n",
    "        pointwise_layers = []\n",
    "        num_units = [3, 64, 128, 128, 256, k]\n",
    "\n",
    "        for n, m in zip(num_units[:-1], num_units[1:]):\n",
    "            pointwise_layers.extend([\n",
    "                nn.Conv1d(n, m, kernel_size=1, bias=False),\n",
    "                nn.BatchNorm1d(m),\n",
    "                nn.ReLU(inplace=True)\n",
    "            ])\n",
    "\n",
    "        self.pointwise_layers = nn.Sequential(*pointwise_layers)\n",
    "        self.pooling = nn.AdaptiveMaxPool1d(1)\n",
    "\n",
    "        # DECODER\n",
    "\n",
    "        self.decoder = nn.Sequential(\n",
    "            nn.Conv1d(k, 256, kernel_size=1, bias=False),\n",
    "            # nn.BatchNorm1d(256),\n",
    "            nn.ReLU(inplace=True),\n",
    "            nn.Conv1d(256, 256, kernel_size=1, bias=False),\n",
    "            # nn.BatchNorm1d(256),\n",
    "            nn.ReLU(inplace=True),\n",
    "            nn.Conv1d(256, num_points * 3, kernel_size=1)\n",
    "        )\n",
    "\n",
    "    def forward(self, x):\n",
    "        \"\"\"\n",
    "        Arguments:\n",
    "            x: a float tensor with shape [b, 3, num_points].\n",
    "        Returns:\n",
    "            encoding: a float tensor with shape [b, k].\n",
    "            restoration: a float tensor with shape [b, 3, num_points].\n",
    "        \"\"\"\n",
    "        x = x.unsqueeze(0)\n",
    "        x = torch.permute(x, (0, 2, 1))\n",
    "        b, _, num_points = x.size()\n",
    "        x = self.pointwise_layers(x)  # shape [b, k, num_points]\n",
    "        encoding = self.pooling(x)  # shape [b, k, 1]\n",
    "\n",
    "        x = self.decoder(encoding)  # shape [b, num_points * 3, 1]\n",
    "        restoration = x.view(b, num_points, 3)\n",
    "\n",
    "        return encoding, restoration"
   ]
  },
  {
   "cell_type": "code",
   "execution_count": 11,
   "metadata": {},
   "outputs": [],
   "source": [
    "# encoder = XConvEncoder(3, 1)\n",
    "# # encoder = PointNetEncoder()\n",
    "# decoder = XConvDecoder(1, 3)\n",
    "# # decoder = LinearDecoder(3, 3, 3)\n",
    "# # model = PointAutoEncoder(encoder=encoder, decoder=decoder)\n",
    "# model = PointAutoEncoder(encoder=encoder, decoder=decoder)\n",
    "\n",
    "# model = XConvAutoEncoder(3,1233)\n",
    "model = Autoencoder(128, 1233)\n",
    "\n",
    "optimizer = torch.optim.Adam(model.parameters(), lr=0.0005)\n",
    "from chamferdist import ChamferDistance\n",
    "criterion = ChamferDistance()\n",
    "\n",
    "\n"
   ]
  },
  {
   "cell_type": "code",
   "execution_count": 12,
   "metadata": {},
   "outputs": [
    {
     "name": "stderr",
     "output_type": "stream",
     "text": [
      "Epoch: 0: 100%|██████████| 497/497 [00:21<00:00, 23.41it/s, loss=0.108]   \n",
      "Epoch: 1: 100%|██████████| 497/497 [00:20<00:00, 23.85it/s, loss=0.00443] \n",
      "Epoch: 2: 100%|██████████| 497/497 [00:20<00:00, 23.96it/s, loss=0.00632] \n",
      "Epoch: 3: 100%|██████████| 497/497 [00:20<00:00, 23.93it/s, loss=0.00348] \n",
      "Epoch: 4: 100%|██████████| 497/497 [00:21<00:00, 23.33it/s, loss=0.00474] \n",
      "Epoch: 5: 100%|██████████| 497/497 [00:20<00:00, 23.68it/s, loss=0.00127] \n",
      "Epoch: 6: 100%|██████████| 497/497 [00:21<00:00, 23.64it/s, loss=0.000803]\n",
      "Epoch: 7: 100%|██████████| 497/497 [00:21<00:00, 23.60it/s, loss=1.25e-5] \n",
      "Epoch: 8: 100%|██████████| 497/497 [00:21<00:00, 23.47it/s, loss=0.012]   \n",
      "Epoch: 9: 100%|██████████| 497/497 [00:21<00:00, 23.24it/s, loss=0.000173]\n",
      "Epoch: 10: 100%|██████████| 497/497 [00:20<00:00, 23.75it/s, loss=0.000103]\n",
      "Epoch: 11: 100%|██████████| 497/497 [00:20<00:00, 23.85it/s, loss=4.84e-5] \n",
      "Epoch: 12: 100%|██████████| 497/497 [00:21<00:00, 23.38it/s, loss=2.58e-5] \n",
      "Epoch: 13: 100%|██████████| 497/497 [00:21<00:00, 23.49it/s, loss=1.31e-5] \n",
      "Epoch: 14: 100%|██████████| 497/497 [00:20<00:00, 23.69it/s, loss=6.11e-6] \n",
      "Epoch: 15: 100%|██████████| 497/497 [00:20<00:00, 23.75it/s, loss=2.44e-6] \n",
      "Epoch: 16: 100%|██████████| 497/497 [00:21<00:00, 23.50it/s, loss=8.16e-7]\n",
      "Epoch: 17: 100%|██████████| 497/497 [00:21<00:00, 23.61it/s, loss=2.48e-7]\n",
      "Epoch: 18: 100%|██████████| 497/497 [00:21<00:00, 23.35it/s, loss=8.29e-8]\n",
      "Epoch: 19: 100%|██████████| 497/497 [00:21<00:00, 23.30it/s, loss=3.25e-8] \n",
      "Epoch: 20: 100%|██████████| 497/497 [00:20<00:00, 23.94it/s, loss=9.33e-9] \n",
      "Epoch: 21: 100%|██████████| 497/497 [00:20<00:00, 24.07it/s, loss=1.81e-9] \n",
      "Epoch: 22: 100%|██████████| 497/497 [00:21<00:00, 23.15it/s, loss=1.27e-10]\n",
      "Epoch: 23: 100%|██████████| 497/497 [00:21<00:00, 22.76it/s, loss=4.59e-13]\n",
      "Epoch: 24: 100%|██████████| 497/497 [00:22<00:00, 21.78it/s, loss=1.25e-15]\n",
      "Epoch: 25: 100%|██████████| 497/497 [00:23<00:00, 21.42it/s, loss=5.62e-10]\n",
      "Epoch: 26: 100%|██████████| 497/497 [00:23<00:00, 20.99it/s, loss=3.1e-7] \n",
      "Epoch: 27: 100%|██████████| 497/497 [00:23<00:00, 20.92it/s, loss=6.49e-7]\n",
      "Epoch: 28: 100%|██████████| 497/497 [00:23<00:00, 20.99it/s, loss=3.1e-6] \n",
      "Epoch: 29: 100%|██████████| 497/497 [00:23<00:00, 21.28it/s, loss=3.51e-7]\n",
      "Epoch: 30: 100%|██████████| 497/497 [00:22<00:00, 21.86it/s, loss=6.36e-7]\n",
      "Epoch: 31: 100%|██████████| 497/497 [00:21<00:00, 22.77it/s, loss=6.28e-7]\n",
      "Epoch: 32: 100%|██████████| 497/497 [00:20<00:00, 24.14it/s, loss=6.13e-7]\n",
      "Epoch: 33: 100%|██████████| 497/497 [00:21<00:00, 23.49it/s, loss=6.38e-7]\n",
      "Epoch: 34: 100%|██████████| 497/497 [00:21<00:00, 23.34it/s, loss=5.34e-7]\n",
      "Epoch: 35:  95%|█████████▍| 471/497 [00:20<00:01, 23.38it/s, loss=4.25e-7]\n"
     ]
    },
    {
     "ename": "KeyboardInterrupt",
     "evalue": "",
     "output_type": "error",
     "traceback": [
      "\u001b[0;31m---------------------------------------------------------------------------\u001b[0m",
      "\u001b[0;31mKeyboardInterrupt\u001b[0m                         Traceback (most recent call last)",
      "Cell \u001b[0;32mIn [12], line 18\u001b[0m\n\u001b[1;32m     14\u001b[0m                 optimizer\u001b[39m.\u001b[39mstep()  \u001b[39m# Update model parameters.\u001b[39;00m\n\u001b[1;32m     15\u001b[0m                 tepoch\u001b[39m.\u001b[39mset_postfix(loss\u001b[39m=\u001b[39mloss\u001b[39m.\u001b[39mitem())\n\u001b[0;32m---> 18\u001b[0m train(model, optimizer, train_data_loader,\u001b[39m1000\u001b[39;49m)\n",
      "Cell \u001b[0;32mIn [12], line 12\u001b[0m, in \u001b[0;36mtrain\u001b[0;34m(model, optimizer, loader, epochs)\u001b[0m\n\u001b[1;32m     10\u001b[0m \u001b[39m# reconstructed = model(data.pos, data.batch)  # Forward pass.\u001b[39;00m\n\u001b[1;32m     11\u001b[0m _,reconstructed \u001b[39m=\u001b[39m model(data\u001b[39m.\u001b[39mpos)\n\u001b[0;32m---> 12\u001b[0m loss \u001b[39m=\u001b[39m criterion(reconstructed, data\u001b[39m.\u001b[39;49mpos\u001b[39m.\u001b[39;49munsqueeze(\u001b[39m0\u001b[39;49m))\n\u001b[1;32m     13\u001b[0m loss\u001b[39m.\u001b[39mbackward()  \u001b[39m# Backward pass.\u001b[39;00m\n\u001b[1;32m     14\u001b[0m optimizer\u001b[39m.\u001b[39mstep()  \u001b[39m# Update model parameters.\u001b[39;00m\n",
      "File \u001b[0;32m~/miniconda3/envs/diffrnafold/lib/python3.8/site-packages/torch/nn/modules/module.py:1190\u001b[0m, in \u001b[0;36mModule._call_impl\u001b[0;34m(self, *input, **kwargs)\u001b[0m\n\u001b[1;32m   1186\u001b[0m \u001b[39m# If we don't have any hooks, we want to skip the rest of the logic in\u001b[39;00m\n\u001b[1;32m   1187\u001b[0m \u001b[39m# this function, and just call forward.\u001b[39;00m\n\u001b[1;32m   1188\u001b[0m \u001b[39mif\u001b[39;00m \u001b[39mnot\u001b[39;00m (\u001b[39mself\u001b[39m\u001b[39m.\u001b[39m_backward_hooks \u001b[39mor\u001b[39;00m \u001b[39mself\u001b[39m\u001b[39m.\u001b[39m_forward_hooks \u001b[39mor\u001b[39;00m \u001b[39mself\u001b[39m\u001b[39m.\u001b[39m_forward_pre_hooks \u001b[39mor\u001b[39;00m _global_backward_hooks\n\u001b[1;32m   1189\u001b[0m         \u001b[39mor\u001b[39;00m _global_forward_hooks \u001b[39mor\u001b[39;00m _global_forward_pre_hooks):\n\u001b[0;32m-> 1190\u001b[0m     \u001b[39mreturn\u001b[39;00m forward_call(\u001b[39m*\u001b[39;49m\u001b[39minput\u001b[39;49m, \u001b[39m*\u001b[39;49m\u001b[39m*\u001b[39;49mkwargs)\n\u001b[1;32m   1191\u001b[0m \u001b[39m# Do not call functions when jit is used\u001b[39;00m\n\u001b[1;32m   1192\u001b[0m full_backward_hooks, non_full_backward_hooks \u001b[39m=\u001b[39m [], []\n",
      "File \u001b[0;32m~/miniconda3/envs/diffrnafold/lib/python3.8/site-packages/chamferdist/chamfer.py:77\u001b[0m, in \u001b[0;36mChamferDistance.forward\u001b[0;34m(self, source_cloud, target_cloud, bidirectional, reverse, reduction)\u001b[0m\n\u001b[1;32m     74\u001b[0m \u001b[39mif\u001b[39;00m reduction \u001b[39m!=\u001b[39m \u001b[39m\"\u001b[39m\u001b[39msum\u001b[39m\u001b[39m\"\u001b[39m \u001b[39mand\u001b[39;00m reduction \u001b[39m!=\u001b[39m \u001b[39m\"\u001b[39m\u001b[39mmean\u001b[39m\u001b[39m\"\u001b[39m:\n\u001b[1;32m     75\u001b[0m     \u001b[39mraise\u001b[39;00m \u001b[39mValueError\u001b[39;00m(\u001b[39m'\u001b[39m\u001b[39mReduction must either be \u001b[39m\u001b[39m\"\u001b[39m\u001b[39msum\u001b[39m\u001b[39m\"\u001b[39m\u001b[39m or \u001b[39m\u001b[39m\"\u001b[39m\u001b[39mmean\u001b[39m\u001b[39m\"\u001b[39m\u001b[39m.\u001b[39m\u001b[39m'\u001b[39m)\n\u001b[0;32m---> 77\u001b[0m source_nn \u001b[39m=\u001b[39m knn_points(\n\u001b[1;32m     78\u001b[0m     source_cloud,\n\u001b[1;32m     79\u001b[0m     target_cloud,\n\u001b[1;32m     80\u001b[0m     lengths1\u001b[39m=\u001b[39;49mlengths_source,\n\u001b[1;32m     81\u001b[0m     lengths2\u001b[39m=\u001b[39;49mlengths_target,\n\u001b[1;32m     82\u001b[0m     K\u001b[39m=\u001b[39;49m\u001b[39m1\u001b[39;49m,\n\u001b[1;32m     83\u001b[0m )\n\u001b[1;32m     85\u001b[0m target_nn \u001b[39m=\u001b[39m \u001b[39mNone\u001b[39;00m\n\u001b[1;32m     86\u001b[0m \u001b[39mif\u001b[39;00m reverse \u001b[39mor\u001b[39;00m bidirectional:\n",
      "File \u001b[0;32m~/miniconda3/envs/diffrnafold/lib/python3.8/site-packages/chamferdist/chamfer.py:266\u001b[0m, in \u001b[0;36mknn_points\u001b[0;34m(p1, p2, lengths1, lengths2, K, version, return_nn, return_sorted)\u001b[0m\n\u001b[1;32m    263\u001b[0m     lengths2 \u001b[39m=\u001b[39m torch\u001b[39m.\u001b[39mfull((p1\u001b[39m.\u001b[39mshape[\u001b[39m0\u001b[39m],), P2, dtype\u001b[39m=\u001b[39mtorch\u001b[39m.\u001b[39mint64, device\u001b[39m=\u001b[39mp1\u001b[39m.\u001b[39mdevice)\n\u001b[1;32m    265\u001b[0m \u001b[39m# pyre-fixme[16]: `_knn_points` has no attribute `apply`.\u001b[39;00m\n\u001b[0;32m--> 266\u001b[0m p1_dists, p1_idx \u001b[39m=\u001b[39m _knn_points\u001b[39m.\u001b[39;49mapply(\n\u001b[1;32m    267\u001b[0m     p1, p2, lengths1, lengths2, K, version, return_sorted\n\u001b[1;32m    268\u001b[0m )\n\u001b[1;32m    270\u001b[0m p2_nn \u001b[39m=\u001b[39m \u001b[39mNone\u001b[39;00m\n\u001b[1;32m    271\u001b[0m \u001b[39mif\u001b[39;00m return_nn:\n",
      "File \u001b[0;32m~/miniconda3/envs/diffrnafold/lib/python3.8/site-packages/chamferdist/chamfer.py:162\u001b[0m, in \u001b[0;36m_knn_points.forward\u001b[0;34m(ctx, p1, p2, lengths1, lengths2, K, version, return_sorted)\u001b[0m\n\u001b[1;32m    132\u001b[0m \u001b[39m\"\"\"\u001b[39;00m\n\u001b[1;32m    133\u001b[0m \u001b[39mK-Nearest neighbors on point clouds.\u001b[39;00m\n\u001b[1;32m    134\u001b[0m \u001b[39mArgs:\u001b[39;00m\n\u001b[0;32m   (...)\u001b[0m\n\u001b[1;32m    158\u001b[0m \u001b[39m        in p2 has fewer than K points and where a cloud in p1 has fewer than P1 points.\u001b[39;00m\n\u001b[1;32m    159\u001b[0m \u001b[39m\"\"\"\u001b[39;00m\n\u001b[1;32m    161\u001b[0m \u001b[39m# pyre-fixme[16]: Module `pytorch3d` has no attribute `_C`.\u001b[39;00m\n\u001b[0;32m--> 162\u001b[0m idx, dists \u001b[39m=\u001b[39m _C\u001b[39m.\u001b[39;49mknn_points_idx(p1, p2, lengths1, lengths2, K, version)\n\u001b[1;32m    164\u001b[0m \u001b[39m# sort KNN in ascending order if K > 1\u001b[39;00m\n\u001b[1;32m    165\u001b[0m \u001b[39mif\u001b[39;00m K \u001b[39m>\u001b[39m \u001b[39m1\u001b[39m \u001b[39mand\u001b[39;00m return_sorted:\n",
      "\u001b[0;31mKeyboardInterrupt\u001b[0m: "
     ]
    }
   ],
   "source": [
    "import wandb\n",
    "wandb.init(project=\"DiffRNAFold\", entity=\"diffrnafold\")\n",
    "\n",
    "def train(model, optimizer, loader, epochs):\n",
    "    model.train()\n",
    "    \n",
    "    total_loss = 0\n",
    "    for epoch in range(epochs):\n",
    "        epoch_loss = 0\n",
    "        with tqdm(loader) as tepoch:\n",
    "            for data in tepoch:\n",
    "                tepoch.set_description(f\"Epoch: {epoch}\")\n",
    "                optimizer.zero_grad()  # Clear gradients.\n",
    "                # reconstructed = model(data.pos, data.batch)  # Forward pass.\n",
    "                _,reconstructed = model(data.pos)\n",
    "                loss = criterion(reconstructed, data.pos.unsqueeze(0))\n",
    "                loss.backward()  # Backward pass.\n",
    "                optimizer.step()  # Update model parameters.\n",
    "                tepoch.set_postfix(loss=loss.item())\n",
    "        wandb.log({\"epoch\": epoch, \"epoch_loss\": epoch_loss})\n",
    "\n",
    "\n",
    "train(model, optimizer, train_data_loader,1000)"
   ]
  },
  {
   "cell_type": "code",
   "execution_count": null,
   "metadata": {},
   "outputs": [],
   "source": [
    "for data in test_data_loader:\n",
    "    _ , reconstructed = model(data.pos)\n",
    "    \n"
   ]
  }
 ],
 "metadata": {
  "kernelspec": {
   "display_name": "Python 3.8.10 64-bit",
   "language": "python",
   "name": "python3"
  },
  "language_info": {
   "codemirror_mode": {
    "name": "ipython",
    "version": 3
   },
   "file_extension": ".py",
   "mimetype": "text/x-python",
   "name": "python",
   "nbconvert_exporter": "python",
   "pygments_lexer": "ipython3",
   "version": "3.8.10"
  },
  "orig_nbformat": 4,
  "vscode": {
   "interpreter": {
    "hash": "767d51c1340bd893661ea55ea3124f6de3c7a262a8b4abca0554b478b1e2ff90"
   }
  }
 },
 "nbformat": 4,
 "nbformat_minor": 2
}
